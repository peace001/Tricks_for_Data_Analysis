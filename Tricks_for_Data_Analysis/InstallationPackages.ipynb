{
 "cells": [
  {
   "cell_type": "code",
   "execution_count": 1,
   "metadata": {},
   "outputs": [],
   "source": [
    "import gmaps"
   ]
  },
  {
   "cell_type": "code",
   "execution_count": 2,
   "metadata": {},
   "outputs": [
    {
     "data": {
      "text/plain": [
       "'0.8.0'"
      ]
     },
     "execution_count": 2,
     "metadata": {},
     "output_type": "execute_result"
    }
   ],
   "source": [
    "gmaps.__version__"
   ]
  },
  {
   "cell_type": "code",
   "execution_count": 12,
   "metadata": {},
   "outputs": [],
   "source": [
    "import scipy\n"
   ]
  },
  {
   "cell_type": "code",
   "execution_count": 13,
   "metadata": {},
   "outputs": [
    {
     "data": {
      "text/plain": [
       "'1.0.0'"
      ]
     },
     "execution_count": 13,
     "metadata": {},
     "output_type": "execute_result"
    }
   ],
   "source": [
    "scipy.__version__"
   ]
  },
  {
   "cell_type": "code",
   "execution_count": 14,
   "metadata": {},
   "outputs": [],
   "source": [
    "import networkx as nx\n"
   ]
  },
  {
   "cell_type": "code",
   "execution_count": 15,
   "metadata": {},
   "outputs": [
    {
     "data": {
      "text/plain": [
       "'2.1'"
      ]
     },
     "execution_count": 15,
     "metadata": {},
     "output_type": "execute_result"
    }
   ],
   "source": [
    "nx.__version__"
   ]
  },
  {
   "cell_type": "code",
   "execution_count": 3,
   "metadata": {},
   "outputs": [
    {
     "name": "stderr",
     "output_type": "stream",
     "text": [
      "WARNING (theano.tensor.blas): Using NumPy C-API based implementation for BLAS functions.\n",
      "/home/rockefeller/.local/lib/python3.6/site-packages/h5py/__init__.py:36: FutureWarning: Conversion of the second argument of issubdtype from `float` to `np.floating` is deprecated. In future, it will be treated as `np.float64 == np.dtype(float).type`.\n",
      "  from ._conv import register_converters as _register_converters\n"
     ]
    }
   ],
   "source": [
    "import pymc3 as pm"
   ]
  },
  {
   "cell_type": "code",
   "execution_count": 4,
   "metadata": {},
   "outputs": [
    {
     "data": {
      "text/plain": [
       "'3.4.1'"
      ]
     },
     "execution_count": 4,
     "metadata": {},
     "output_type": "execute_result"
    }
   ],
   "source": [
    "pm.__version__"
   ]
  },
  {
   "cell_type": "code",
   "execution_count": 18,
   "metadata": {},
   "outputs": [],
   "source": [
    "import pandas as pd\n"
   ]
  },
  {
   "cell_type": "code",
   "execution_count": 19,
   "metadata": {},
   "outputs": [
    {
     "data": {
      "text/plain": [
       "'0.22.0'"
      ]
     },
     "execution_count": 19,
     "metadata": {},
     "output_type": "execute_result"
    }
   ],
   "source": [
    "pd.__version__"
   ]
  },
  {
   "cell_type": "code",
   "execution_count": 22,
   "metadata": {},
   "outputs": [],
   "source": [
    "import matplotlib\n"
   ]
  },
  {
   "cell_type": "code",
   "execution_count": 23,
   "metadata": {},
   "outputs": [
    {
     "data": {
      "text/plain": [
       "'2.1.2'"
      ]
     },
     "execution_count": 23,
     "metadata": {},
     "output_type": "execute_result"
    }
   ],
   "source": [
    "matplotlib.__version__"
   ]
  },
  {
   "cell_type": "code",
   "execution_count": 24,
   "metadata": {},
   "outputs": [],
   "source": [
    "import sklearn as sk\n"
   ]
  },
  {
   "cell_type": "code",
   "execution_count": 25,
   "metadata": {},
   "outputs": [
    {
     "data": {
      "text/plain": [
       "'0.19.1'"
      ]
     },
     "execution_count": 25,
     "metadata": {},
     "output_type": "execute_result"
    }
   ],
   "source": [
    "sk.__version__"
   ]
  },
  {
   "cell_type": "code",
   "execution_count": 26,
   "metadata": {},
   "outputs": [],
   "source": [
    "import nltk\n"
   ]
  },
  {
   "cell_type": "code",
   "execution_count": 27,
   "metadata": {},
   "outputs": [
    {
     "data": {
      "text/plain": [
       "'3.2.5'"
      ]
     },
     "execution_count": 27,
     "metadata": {},
     "output_type": "execute_result"
    }
   ],
   "source": [
    "nltk.__version__"
   ]
  },
  {
   "cell_type": "code",
   "execution_count": 28,
   "metadata": {},
   "outputs": [],
   "source": [
    "import numpy as np\n"
   ]
  },
  {
   "cell_type": "code",
   "execution_count": 29,
   "metadata": {},
   "outputs": [
    {
     "data": {
      "text/plain": [
       "'1.14.0'"
      ]
     },
     "execution_count": 29,
     "metadata": {},
     "output_type": "execute_result"
    }
   ],
   "source": [
    "np.__version__"
   ]
  },
  {
   "cell_type": "code",
   "execution_count": 30,
   "metadata": {},
   "outputs": [],
   "source": [
    "import seaborn as sns"
   ]
  },
  {
   "cell_type": "code",
   "execution_count": 31,
   "metadata": {},
   "outputs": [
    {
     "data": {
      "text/plain": [
       "'0.8.1'"
      ]
     },
     "execution_count": 31,
     "metadata": {},
     "output_type": "execute_result"
    }
   ],
   "source": [
    "sns.__version__"
   ]
  },
  {
   "cell_type": "code",
   "execution_count": 32,
   "metadata": {},
   "outputs": [],
   "source": [
    "import statsmodels as st"
   ]
  },
  {
   "cell_type": "code",
   "execution_count": 33,
   "metadata": {},
   "outputs": [
    {
     "data": {
      "text/plain": [
       "'0.8.0'"
      ]
     },
     "execution_count": 33,
     "metadata": {},
     "output_type": "execute_result"
    }
   ],
   "source": [
    "st.__version__"
   ]
  },
  {
   "cell_type": "code",
   "execution_count": 1,
   "metadata": {},
   "outputs": [],
   "source": [
    "import elasticsearch"
   ]
  },
  {
   "cell_type": "code",
   "execution_count": 2,
   "metadata": {},
   "outputs": [
    {
     "data": {
      "text/plain": [
       "(6, 2, 0)"
      ]
     },
     "execution_count": 2,
     "metadata": {},
     "output_type": "execute_result"
    }
   ],
   "source": [
    "elasticsearch.__version__"
   ]
  },
  {
   "cell_type": "code",
   "execution_count": 3,
   "metadata": {},
   "outputs": [],
   "source": [
    "import requests"
   ]
  },
  {
   "cell_type": "code",
   "execution_count": 6,
   "metadata": {},
   "outputs": [
    {
     "name": "stdout",
     "output_type": "stream",
     "text": [
      "b'{\\n  \"name\" : \"Bombshell\",\\n  \"cluster_name\" : \"LiferayElasticsearchCluster\",\\n  \"version\" : {\\n    \"number\" : \"2.2.0\",\\n    \"build_hash\" : \"8ff36d139e16f8720f2947ef62c8167a888992fe\",\\n    \"build_timestamp\" : \"2016-01-27T13:32:39Z\",\\n    \"build_snapshot\" : false,\\n    \"lucene_version\" : \"5.4.1\"\\n  },\\n  \"tagline\" : \"You Know, for Search\"\\n}\\n'\n"
     ]
    }
   ],
   "source": [
    "res = requests.get('http://localhost:9200')\n",
    "print(res.content)"
   ]
  },
  {
   "cell_type": "code",
   "execution_count": 11,
   "metadata": {},
   "outputs": [
    {
     "name": "stdout",
     "output_type": "stream",
     "text": [
      "b'yellow open filebeat-6.2.4-2018.05.26           5CGfwoFNSOK2F4Gs5nteHQ 5 1   190 0 433.6kb 433.6kb\\nyellow open filebeat-6.2.4-2018.05.30           cxZu9oDUQSuyKDMf_BjS-g 5 1  3140 0   1.4mb   1.4mb\\nyellow open winlogbeat-6.2.4-2018.05.22         1Q7svXiASpWWIrRDhGuGZw 5 1 15082 0  12.4mb  12.4mb\\nyellow open filebeat-6.2.4-2018.05.15           1HxFIJXeQ0aEFlFKSfZ3XA 5 1    19 0 148.1kb 148.1kb\\ngreen  open .kibana                             aj9NpweaSvavav326TTsaw 1 0    31 3 101.4kb 101.4kb\\nyellow open liferay                             pN-jUE13Q1Kf1hKaHY5zlw 5 1 15382 0   3.7mb   3.7mb\\nyellow open filebeat-6.2.4-2018.05.27           3InUcPwCR4GOiSCLkp8QKg 5 1   188 0 290.1kb 290.1kb\\nyellow open filebeat-6.2.2-2018.05.27           FZ3kj-x_Toy_oaq9qgCiNQ 5 1  4117 0     1mb     1mb\\nyellow open filebeat-6.2.2-2018.05.23           x6KdwacVTjKwP0cqVYMoKw 5 1   472 0 544.5kb 544.5kb\\nyellow open winlogbeat-6.2.4-2018.05.17         fb_19glCR_OMb0be7t22Rg 5 1 12800 0  10.6mb  10.6mb\\nyellow open winlogbeat-6.2.4-2018.05.20         ZWuOkj7ZR0GW6zL8PKCvaw 5 1 10571 0   8.7mb   8.7mb\\nyellow open filebeat-6.2.2-2018.05.26           qmaJ5uu8Rv6Qc3DxgSjYzw 5 1   360 0 604.4kb 604.4kb\\nyellow open winlogbeat-6.2.4-2018.05.18         -MlW1UlVTAyujXZD6TbKaA 5 1 12435 0  10.5mb  10.5mb\\nyellow open winlogbeat-6.2.4-2018.05.30         Tbfoy337Rw-82dIlCGK1bw 5 1  8387 0   7.8mb   7.8mb\\nyellow open filebeat-6.2.2-2018.05.19           uz7Xe8pTRye_hD3-sM8o8Q 5 1    50 0 120.7kb 120.7kb\\nyellow open %{[@metadata][log_type]}-2018.05.15 btfNlyCjTCeEGYDVuaHUsw 5 1    17 0  88.9kb  88.9kb\\nyellow open winlogbeat-6.2.4-2018.05.19         FgYIfLJ0Q8mOvBIxb_UV0g 5 1 10591 0     9mb     9mb\\nyellow open winlogbeat-6.2.4-2018.05.24         d8OYBkQXSoiMsbPHzKNPWQ 5 1 89034 0  64.8mb  64.8mb\\nyellow open filebeat-6.2.4-2018.05.29           GaBZFpSuSSeEQQw0xoCsmQ 5 1  3189 0   1.1mb   1.1mb\\nyellow open filebeat-6.2.2-2018.05.24           ZlFmAjqRTJGjyJNKw1huSg 5 1     7 0  70.6kb  70.6kb\\nyellow open winlogbeat-6.2.4-2018.05.25         qEMbvNoKRVW8SFCkmLzqWQ 5 1 12174 0    10mb    10mb\\nyellow open winlogbeat-6.2.4-2018.05.26         PjSLA_xDSkSdYdy11wXYEA 5 1 10660 0   8.7mb   8.7mb\\nyellow open filebeat-6.2.2-2018.05.21           T2SeG4wRQv6XmX5MnU2KyA 5 1     1 0  15.1kb  15.1kb\\nyellow open filebeat-6.2.2-2018.05.25           MHvrj7hDQw-XUSluOkqasw 5 1   281 0 424.9kb 424.9kb\\nyellow open filebeat-6.2.2-2018.05.22           oFapNA9TTpSGL9DTopR-Sw 5 1     1 0  15.1kb  15.1kb\\nyellow open winlogbeat-6.2.4-2018.05.16         TCrqmqFrQRCHc5lqRSRb6g 5 1 18577 0  15.3mb  15.3mb\\nyellow open filebeat-6.2.4-2018.05.25           20qUB1BRRs2vS_723QXGEw 5 1  1433 0 599.2kb 599.2kb\\nyellow open filebeat-6.2.4-2018.05.16           dO5IgdhMQjiyc72veLqrrA 5 1   273 0 721.3kb 721.3kb\\nyellow open filebeat-6.2.2-2018.05.30           8cEfDHYkQ7yBYa8hzl7l6g 5 1    51 0 331.9kb 331.9kb\\nyellow open filebeat-6.2.2-2018.05.20           EW5NQh-NQ0W9xUBp3yaTfg 5 1     1 0  15.1kb  15.1kb\\nyellow open filebeat-6.2.2-2018.05.18           6Ff6__idT2Syzz9ePr3kRA 5 1   262 0 467.1kb 467.1kb\\nyellow open winlogbeat-6.2.4-2018.05.21         Y1qNS1j3QtSSvzR7c8k6fA 5 1 11106 0   9.2mb   9.2mb\\nyellow open filebeat-6.2.2-2018.05.29           XBN9G4N8TyitU9kcz8E-Zw 5 1   182 0 465.5kb 465.5kb\\nyellow open winlogbeat-6.2.4-2018.05.23         26cj2EDzQ_Os6D01Zs7xpQ 5 1 13673 0  11.6mb  11.6mb\\nyellow open winlogbeat-6.2.4-2018.05.27         yYvMYpS9SmWtsnwBeeXvFQ 5 1  9466 0   8.6mb   8.6mb\\nyellow open winlogbeat-6.2.4-2018.05.29         rbM3vb78TROFRBHDWjIZcA 5 1 12951 0  10.7mb  10.7mb\\nyellow open filebeat-6.2.4-2018.05.17           KmbkVx4bRH691Ffs79lN5w 5 1    42 0 179.2kb 179.2kb\\nyellow open winlogbeat-6.2.4-2018.05.28         CuFgBUFpSjmbS_QJmUyRWg 5 1 13441 0  11.1mb  11.1mb\\nyellow open winlogbeat-6.2.4-2018.05.15         nWeDUCxUQGiUb9t8yp-bvw 5 1  3822 0     4mb     4mb\\nyellow open filebeat-6.2.2-2018.05.28           YXGxj7sZR766Rh3DavfmYg 5 1 12040 0   2.4mb   2.4mb\\nyellow open filebeat-6.2.2-2018.05.17           RsE9S8xTS-e2a1pqR5v0pw 5 1  8623 0   1.9mb   1.9mb\\nyellow open filebeat-6.2.2-2018.05.16           OIPsJKQIQzKhG-nRww2p8w 5 1     1 0  11.5kb  11.5kb\\nyellow open filebeat-6.2.4-2018.05.28           t7eXp1N3Tn253cSzkaOnQw 5 1  6272 0   1.8mb   1.8mb\\n'\n"
     ]
    }
   ],
   "source": [
    "res = requests.get('http://192.168.1.27:9200/_cat/indices')\n",
    "print(res.content)"
   ]
  },
  {
   "cell_type": "code",
   "execution_count": 68,
   "metadata": {},
   "outputs": [
    {
     "data": {
      "text/plain": [
       "bytes"
      ]
     },
     "execution_count": 68,
     "metadata": {},
     "output_type": "execute_result"
    }
   ],
   "source": [
    "type(res.content)"
   ]
  },
  {
   "cell_type": "code",
   "execution_count": 85,
   "metadata": {},
   "outputs": [],
   "source": [
    "st = res.content.decode('utf8')"
   ]
  },
  {
   "cell_type": "code",
   "execution_count": 88,
   "metadata": {},
   "outputs": [
    {
     "data": {
      "text/plain": [
       "'yellow open filebeat-6.2.4-2018.05.26           5CGfwoFNSOK2F4Gs5nteHQ 5 1   190 0 433.6kb 433.6kb\\nyellow open filebeat-6.2.4-2018.05.30           cxZu9oDUQSuyKDMf_BjS-g 5 1  3140 0   1.4mb   1.4mb\\nyellow open winlogbeat-6.2.4-2018.05.22         1Q7svXiASpWWIrRDhGuGZw 5 1 15082 0  12.4mb  12.4mb\\nyellow open filebeat-6.2.4-2018.05.15           1HxFIJXeQ0aEFlFKSfZ3XA 5 1    19 0 148.1kb 148.1kb\\ngreen  open .kibana                             aj9NpweaSvavav326TTsaw 1 0    31 3 101.4kb 101.4kb\\nyellow open liferay                             pN-jUE13Q1Kf1hKaHY5zlw 5 1 15382 0   3.7mb   3.7mb\\nyellow open filebeat-6.2.4-2018.05.27           3InUcPwCR4GOiSCLkp8QKg 5 1   188 0 290.1kb 290.1kb\\nyellow open filebeat-6.2.2-2018.05.27           FZ3kj-x_Toy_oaq9qgCiNQ 5 1  4117 0     1mb     1mb\\nyellow open filebeat-6.2.2-2018.05.23           x6KdwacVTjKwP0cqVYMoKw 5 1   472 0 544.5kb 544.5kb\\nyellow open winlogbeat-6.2.4-2018.05.17         fb_19glCR_OMb0be7t22Rg 5 1 12800 0  10.6mb  10.6mb\\nyellow open winlogbeat-6.2.4-2018.05.20         ZWuOkj7ZR0GW6zL8PKCvaw 5 1 10571 0   8.7mb   8.7mb\\nyellow open filebeat-6.2.2-2018.05.26           qmaJ5uu8Rv6Qc3DxgSjYzw 5 1   360 0 604.4kb 604.4kb\\nyellow open winlogbeat-6.2.4-2018.05.18         -MlW1UlVTAyujXZD6TbKaA 5 1 12435 0  10.5mb  10.5mb\\nyellow open winlogbeat-6.2.4-2018.05.30         Tbfoy337Rw-82dIlCGK1bw 5 1  8387 0   7.8mb   7.8mb\\nyellow open filebeat-6.2.2-2018.05.19           uz7Xe8pTRye_hD3-sM8o8Q 5 1    50 0 120.7kb 120.7kb\\nyellow open %{[@metadata][log_type]}-2018.05.15 btfNlyCjTCeEGYDVuaHUsw 5 1    17 0  88.9kb  88.9kb\\nyellow open winlogbeat-6.2.4-2018.05.19         FgYIfLJ0Q8mOvBIxb_UV0g 5 1 10591 0     9mb     9mb\\nyellow open winlogbeat-6.2.4-2018.05.24         d8OYBkQXSoiMsbPHzKNPWQ 5 1 89034 0  64.8mb  64.8mb\\nyellow open filebeat-6.2.4-2018.05.29           GaBZFpSuSSeEQQw0xoCsmQ 5 1  3189 0   1.1mb   1.1mb\\nyellow open filebeat-6.2.2-2018.05.24           ZlFmAjqRTJGjyJNKw1huSg 5 1     7 0  70.6kb  70.6kb\\nyellow open winlogbeat-6.2.4-2018.05.25         qEMbvNoKRVW8SFCkmLzqWQ 5 1 12174 0    10mb    10mb\\nyellow open winlogbeat-6.2.4-2018.05.26         PjSLA_xDSkSdYdy11wXYEA 5 1 10660 0   8.7mb   8.7mb\\nyellow open filebeat-6.2.2-2018.05.21           T2SeG4wRQv6XmX5MnU2KyA 5 1     1 0  15.1kb  15.1kb\\nyellow open filebeat-6.2.2-2018.05.25           MHvrj7hDQw-XUSluOkqasw 5 1   281 0 424.9kb 424.9kb\\nyellow open filebeat-6.2.2-2018.05.22           oFapNA9TTpSGL9DTopR-Sw 5 1     1 0  15.1kb  15.1kb\\nyellow open winlogbeat-6.2.4-2018.05.16         TCrqmqFrQRCHc5lqRSRb6g 5 1 18577 0  15.3mb  15.3mb\\nyellow open filebeat-6.2.4-2018.05.25           20qUB1BRRs2vS_723QXGEw 5 1  1433 0 599.2kb 599.2kb\\nyellow open filebeat-6.2.4-2018.05.16           dO5IgdhMQjiyc72veLqrrA 5 1   273 0 721.3kb 721.3kb\\nyellow open filebeat-6.2.2-2018.05.30           8cEfDHYkQ7yBYa8hzl7l6g 5 1    51 0 331.9kb 331.9kb\\nyellow open filebeat-6.2.2-2018.05.20           EW5NQh-NQ0W9xUBp3yaTfg 5 1     1 0  15.1kb  15.1kb\\nyellow open filebeat-6.2.2-2018.05.18           6Ff6__idT2Syzz9ePr3kRA 5 1   262 0 467.1kb 467.1kb\\nyellow open winlogbeat-6.2.4-2018.05.21         Y1qNS1j3QtSSvzR7c8k6fA 5 1 11106 0   9.2mb   9.2mb\\nyellow open filebeat-6.2.2-2018.05.29           XBN9G4N8TyitU9kcz8E-Zw 5 1   182 0 465.5kb 465.5kb\\nyellow open winlogbeat-6.2.4-2018.05.23         26cj2EDzQ_Os6D01Zs7xpQ 5 1 13673 0  11.6mb  11.6mb\\nyellow open winlogbeat-6.2.4-2018.05.27         yYvMYpS9SmWtsnwBeeXvFQ 5 1  9466 0   8.6mb   8.6mb\\nyellow open winlogbeat-6.2.4-2018.05.29         rbM3vb78TROFRBHDWjIZcA 5 1 12951 0  10.7mb  10.7mb\\nyellow open filebeat-6.2.4-2018.05.17           KmbkVx4bRH691Ffs79lN5w 5 1    42 0 179.2kb 179.2kb\\nyellow open winlogbeat-6.2.4-2018.05.28         CuFgBUFpSjmbS_QJmUyRWg 5 1 13441 0  11.1mb  11.1mb\\nyellow open winlogbeat-6.2.4-2018.05.15         nWeDUCxUQGiUb9t8yp-bvw 5 1  3822 0     4mb     4mb\\nyellow open filebeat-6.2.2-2018.05.28           YXGxj7sZR766Rh3DavfmYg 5 1 12040 0   2.4mb   2.4mb\\nyellow open filebeat-6.2.2-2018.05.17           RsE9S8xTS-e2a1pqR5v0pw 5 1  8623 0   1.9mb   1.9mb\\nyellow open filebeat-6.2.2-2018.05.16           OIPsJKQIQzKhG-nRww2p8w 5 1     1 0  11.5kb  11.5kb\\nyellow open filebeat-6.2.4-2018.05.28           t7eXp1N3Tn253cSzkaOnQw 5 1  6272 0   1.8mb   1.8mb\\n'"
      ]
     },
     "execution_count": 88,
     "metadata": {},
     "output_type": "execute_result"
    }
   ],
   "source": [
    "st"
   ]
  },
  {
   "cell_type": "code",
   "execution_count": 80,
   "metadata": {},
   "outputs": [],
   "source": [
    "import re"
   ]
  },
  {
   "cell_type": "code",
   "execution_count": 69,
   "metadata": {},
   "outputs": [
    {
     "data": {
      "text/plain": [
       "4257"
      ]
     },
     "execution_count": 69,
     "metadata": {},
     "output_type": "execute_result"
    }
   ],
   "source": [
    "len(res.content)"
   ]
  },
  {
   "cell_type": "code",
   "execution_count": null,
   "metadata": {},
   "outputs": [],
   "source": [
    "es2 = es.search(index ='winlogbeat-6.2.4-2018.05.30'  , body = {\"query\" : {\"match_all\": {}}})"
   ]
  },
  {
   "cell_type": "code",
   "execution_count": 25,
   "metadata": {},
   "outputs": [],
   "source": [
    "es1 = es.search(index ='winlogbeat-6.2.4-2018.05.30'  , body = {\"query\" : {\"match_all\": {}}})"
   ]
  },
  {
   "cell_type": "code",
   "execution_count": 26,
   "metadata": {},
   "outputs": [],
   "source": [
    "import json"
   ]
  },
  {
   "cell_type": "code",
   "execution_count": 27,
   "metadata": {},
   "outputs": [
    {
     "name": "stdout",
     "output_type": "stream",
     "text": [
      "{\n",
      "     \"_shards\": {\n",
      "          \"failed\": 0,\n",
      "          \"skipped\": 0,\n",
      "          \"successful\": 5,\n",
      "          \"total\": 5\n",
      "     },\n",
      "     \"hits\": {\n",
      "          \"hits\": [\n",
      "               {\n",
      "                    \"_id\": \"5WJcrmMB7NsdYXNzxWgI\",\n",
      "                    \"_index\": \"winlogbeat-6.2.4-2018.05.30\",\n",
      "                    \"_score\": 1.0,\n",
      "                    \"_source\": {\n",
      "                         \"@timestamp\": \"2018-05-30T00:05:11.205Z\",\n",
      "                         \"@version\": \"1\",\n",
      "                         \"beat\": {\n",
      "                              \"hostname\": \"BIABAM\",\n",
      "                              \"name\": \"BIABAM\",\n",
      "                              \"version\": \"6.2.4\"\n",
      "                         },\n",
      "                         \"computer_name\": \"BIABAM.bia.com\",\n",
      "                         \"event_data\": {\n",
      "                              \"AuthenticationPackageName\": \"Kerberos\",\n",
      "                              \"ImpersonationLevel\": \"%%1833\",\n",
      "                              \"IpAddress\": \"fe80::8525:f3ee:c80e:333a\",\n",
      "                              \"IpPort\": \"49615\",\n",
      "                              \"KeyLength\": \"0\",\n",
      "                              \"LmPackageName\": \"-\",\n",
      "                              \"LogonGuid\": \"{CB6871D5-A5AB-DF69-33D5-4CAADDE042D8}\",\n",
      "                              \"LogonProcessName\": \"Kerberos\",\n",
      "                              \"LogonType\": \"3\",\n",
      "                              \"ProcessId\": \"0x0\",\n",
      "                              \"ProcessName\": \"-\",\n",
      "                              \"SubjectDomainName\": \"-\",\n",
      "                              \"SubjectLogonId\": \"0x0\",\n",
      "                              \"SubjectUserName\": \"-\",\n",
      "                              \"SubjectUserSid\": \"S-1-0-0\",\n",
      "                              \"TargetDomainName\": \"BIA\",\n",
      "                              \"TargetLogonId\": \"0x2f345a6\",\n",
      "                              \"TargetUserName\": \"BIABAM$\",\n",
      "                              \"TargetUserSid\": \"S-1-5-18\",\n",
      "                              \"TransmittedServices\": \"-\",\n",
      "                              \"WorkstationName\": \"-\"\n",
      "                         },\n",
      "                         \"event_id\": 4624,\n",
      "                         \"host\": \"BIABAM\",\n",
      "                         \"keywords\": [\n",
      "                              \"Audit Success\"\n",
      "                         ],\n",
      "                         \"level\": \"Information\",\n",
      "                         \"log_name\": \"Security\",\n",
      "                         \"message\": \"An account was successfully logged on.\\n\\nSubject:\\n\\tSecurity ID:\\t\\tS-1-0-0\\n\\tAccount Name:\\t\\t-\\n\\tAccount Domain:\\t\\t-\\n\\tLogon ID:\\t\\t0x0\\n\\nLogon Type:\\t\\t\\t3\\n\\nImpersonation Level:\\t\\tImpersonation\\n\\nNew Logon:\\n\\tSecurity ID:\\t\\tS-1-5-18\\n\\tAccount Name:\\t\\tBIABAM$\\n\\tAccount Domain:\\t\\tBIA\\n\\tLogon ID:\\t\\t0x2F345A6\\n\\tLogon GUID:\\t\\t{CB6871D5-A5AB-DF69-33D5-4CAADDE042D8}\\n\\nProcess Information:\\n\\tProcess ID:\\t\\t0x0\\n\\tProcess Name:\\t\\t-\\n\\nNetwork Information:\\n\\tWorkstation Name:\\t-\\n\\tSource Network Address:\\tfe80::8525:f3ee:c80e:333a\\n\\tSource Port:\\t\\t49615\\n\\nDetailed Authentication Information:\\n\\tLogon Process:\\t\\tKerberos\\n\\tAuthentication Package:\\tKerberos\\n\\tTransited Services:\\t-\\n\\tPackage Name (NTLM only):\\t-\\n\\tKey Length:\\t\\t0\\n\\nThis event is generated when a logon session is created. It is generated on the computer that was accessed.\\n\\nThe subject fields indicate the account on the local system which requested the logon. This is most commonly a service such as the Server service, or a local process such as Winlogon.exe or Services.exe.\\n\\nThe logon type field indicates the kind of logon that occurred. The most common types are 2 (interactive) and 3 (network).\\n\\nThe New Logon fields indicate the account for whom the new logon was created, i.e. the account that was logged on.\\n\\nThe network fields indicate where a remote logon request originated. Workstation name is not always available and may be left blank in some cases.\\n\\nThe impersonation level field indicates the extent to which a process in the logon session can impersonate.\\n\\nThe authentication information fields provide detailed information about this specific logon request.\\n\\t- Logon GUID is a unique identifier that can be used to correlate this event with a KDC event.\\n\\t- Transited services indicate which intermediate services have participated in this logon request.\\n\\t- Package name indicates which sub-protocol was used among the NTLM protocols.\\n\\t- Key length indicates the length of the generated session key. This will be 0 if no session key was requested.\",\n",
      "                         \"opcode\": \"Info\",\n",
      "                         \"process_id\": 604,\n",
      "                         \"provider_guid\": \"{54849625-5478-4994-A5BA-3E3B0328C30D}\",\n",
      "                         \"record_number\": \"3712642\",\n",
      "                         \"source_name\": \"Microsoft-Windows-Security-Auditing\",\n",
      "                         \"tags\": [\n",
      "                              \"beats_input_codec_plain_applied\"\n",
      "                         ],\n",
      "                         \"task\": \"Logon\",\n",
      "                         \"thread_id\": 5492,\n",
      "                         \"type\": \"wineventlog\",\n",
      "                         \"version\": 1\n",
      "                    },\n",
      "                    \"_type\": \"doc\"\n",
      "               },\n",
      "               {\n",
      "                    \"_id\": \"52JcrmMB7NsdYXNzxWgI\",\n",
      "                    \"_index\": \"winlogbeat-6.2.4-2018.05.30\",\n",
      "                    \"_score\": 1.0,\n",
      "                    \"_source\": {\n",
      "                         \"@timestamp\": \"2018-05-30T00:05:11.533Z\",\n",
      "                         \"@version\": \"1\",\n",
      "                         \"beat\": {\n",
      "                              \"hostname\": \"BIABAM\",\n",
      "                              \"name\": \"BIABAM\",\n",
      "                              \"version\": \"6.2.4\"\n",
      "                         },\n",
      "                         \"computer_name\": \"BIABAM.bia.com\",\n",
      "                         \"event_data\": {\n",
      "                              \"AuthenticationPackageName\": \"Kerberos\",\n",
      "                              \"ImpersonationLevel\": \"%%1840\",\n",
      "                              \"IpAddress\": \"fe80::8525:f3ee:c80e:333a\",\n",
      "                              \"IpPort\": \"49618\",\n",
      "                              \"KeyLength\": \"0\",\n",
      "                              \"LmPackageName\": \"-\",\n",
      "                              \"LogonGuid\": \"{CB6871D5-A5AB-DF69-33D5-4CAADDE042D8}\",\n",
      "                              \"LogonProcessName\": \"Kerberos\",\n",
      "                              \"LogonType\": \"3\",\n",
      "                              \"ProcessId\": \"0x0\",\n",
      "                              \"ProcessName\": \"-\",\n",
      "                              \"SubjectDomainName\": \"-\",\n",
      "                              \"SubjectLogonId\": \"0x0\",\n",
      "                              \"SubjectUserName\": \"-\",\n",
      "                              \"SubjectUserSid\": \"S-1-0-0\",\n",
      "                              \"TargetDomainName\": \"BIA\",\n",
      "                              \"TargetLogonId\": \"0x2f34761\",\n",
      "                              \"TargetUserName\": \"BIABAM$\",\n",
      "                              \"TargetUserSid\": \"S-1-5-18\",\n",
      "                              \"TransmittedServices\": \"-\",\n",
      "                              \"WorkstationName\": \"-\"\n",
      "                         },\n",
      "                         \"event_id\": 4624,\n",
      "                         \"host\": \"BIABAM\",\n",
      "                         \"keywords\": [\n",
      "                              \"Audit Success\"\n",
      "                         ],\n",
      "                         \"level\": \"Information\",\n",
      "                         \"log_name\": \"Security\",\n",
      "                         \"message\": \"An account was successfully logged on.\\n\\nSubject:\\n\\tSecurity ID:\\t\\tS-1-0-0\\n\\tAccount Name:\\t\\t-\\n\\tAccount Domain:\\t\\t-\\n\\tLogon ID:\\t\\t0x0\\n\\nLogon Type:\\t\\t\\t3\\n\\nImpersonation Level:\\t\\tDelegation\\n\\nNew Logon:\\n\\tSecurity ID:\\t\\tS-1-5-18\\n\\tAccount Name:\\t\\tBIABAM$\\n\\tAccount Domain:\\t\\tBIA\\n\\tLogon ID:\\t\\t0x2F34761\\n\\tLogon GUID:\\t\\t{CB6871D5-A5AB-DF69-33D5-4CAADDE042D8}\\n\\nProcess Information:\\n\\tProcess ID:\\t\\t0x0\\n\\tProcess Name:\\t\\t-\\n\\nNetwork Information:\\n\\tWorkstation Name:\\t-\\n\\tSource Network Address:\\tfe80::8525:f3ee:c80e:333a\\n\\tSource Port:\\t\\t49618\\n\\nDetailed Authentication Information:\\n\\tLogon Process:\\t\\tKerberos\\n\\tAuthentication Package:\\tKerberos\\n\\tTransited Services:\\t-\\n\\tPackage Name (NTLM only):\\t-\\n\\tKey Length:\\t\\t0\\n\\nThis event is generated when a logon session is created. It is generated on the computer that was accessed.\\n\\nThe subject fields indicate the account on the local system which requested the logon. This is most commonly a service such as the Server service, or a local process such as Winlogon.exe or Services.exe.\\n\\nThe logon type field indicates the kind of logon that occurred. The most common types are 2 (interactive) and 3 (network).\\n\\nThe New Logon fields indicate the account for whom the new logon was created, i.e. the account that was logged on.\\n\\nThe network fields indicate where a remote logon request originated. Workstation name is not always available and may be left blank in some cases.\\n\\nThe impersonation level field indicates the extent to which a process in the logon session can impersonate.\\n\\nThe authentication information fields provide detailed information about this specific logon request.\\n\\t- Logon GUID is a unique identifier that can be used to correlate this event with a KDC event.\\n\\t- Transited services indicate which intermediate services have participated in this logon request.\\n\\t- Package name indicates which sub-protocol was used among the NTLM protocols.\\n\\t- Key length indicates the length of the generated session key. This will be 0 if no session key was requested.\",\n",
      "                         \"opcode\": \"Info\",\n",
      "                         \"process_id\": 604,\n",
      "                         \"provider_guid\": \"{54849625-5478-4994-A5BA-3E3B0328C30D}\",\n",
      "                         \"record_number\": \"3712650\",\n",
      "                         \"source_name\": \"Microsoft-Windows-Security-Auditing\",\n",
      "                         \"tags\": [\n",
      "                              \"beats_input_codec_plain_applied\"\n",
      "                         ],\n",
      "                         \"task\": \"Logon\",\n",
      "                         \"thread_id\": 5492,\n",
      "                         \"type\": \"wineventlog\",\n",
      "                         \"version\": 1\n",
      "                    },\n",
      "                    \"_type\": \"doc\"\n",
      "               },\n",
      "               {\n",
      "                    \"_id\": \"7WJcrmMB7NsdYXNzxWgL\",\n",
      "                    \"_index\": \"winlogbeat-6.2.4-2018.05.30\",\n",
      "                    \"_score\": 1.0,\n",
      "                    \"_source\": {\n",
      "                         \"@timestamp\": \"2018-05-30T00:05:11.533Z\",\n",
      "                         \"@version\": \"1\",\n",
      "                         \"beat\": {\n",
      "                              \"hostname\": \"BIABAM\",\n",
      "                              \"name\": \"BIABAM\",\n",
      "                              \"version\": \"6.2.4\"\n",
      "                         },\n",
      "                         \"computer_name\": \"BIABAM.bia.com\",\n",
      "                         \"event_data\": {\n",
      "                              \"PrivilegeList\": \"SeSecurityPrivilege\\n\\t\\t\\tSeBackupPrivilege\\n\\t\\t\\tSeRestorePrivilege\\n\\t\\t\\tSeTakeOwnershipPrivilege\\n\\t\\t\\tSeDebugPrivilege\\n\\t\\t\\tSeSystemEnvironmentPrivilege\\n\\t\\t\\tSeLoadDriverPrivilege\\n\\t\\t\\tSeImpersonatePrivilege\\n\\t\\t\\tSeEnableDelegationPrivilege\",\n",
      "                              \"SubjectDomainName\": \"BIA\",\n",
      "                              \"SubjectLogonId\": \"0x2f34761\",\n",
      "                              \"SubjectUserName\": \"BIABAM$\",\n",
      "                              \"SubjectUserSid\": \"S-1-5-18\"\n",
      "                         },\n",
      "                         \"event_id\": 4672,\n",
      "                         \"host\": \"BIABAM\",\n",
      "                         \"keywords\": [\n",
      "                              \"Audit Success\"\n",
      "                         ],\n",
      "                         \"level\": \"Information\",\n",
      "                         \"log_name\": \"Security\",\n",
      "                         \"message\": \"Special privileges assigned to new logon.\\n\\nSubject:\\n\\tSecurity ID:\\t\\tS-1-5-18\\n\\tAccount Name:\\t\\tBIABAM$\\n\\tAccount Domain:\\t\\tBIA\\n\\tLogon ID:\\t\\t0x2F34761\\n\\nPrivileges:\\t\\tSeSecurityPrivilege\\n\\t\\t\\tSeBackupPrivilege\\n\\t\\t\\tSeRestorePrivilege\\n\\t\\t\\tSeTakeOwnershipPrivilege\\n\\t\\t\\tSeDebugPrivilege\\n\\t\\t\\tSeSystemEnvironmentPrivilege\\n\\t\\t\\tSeLoadDriverPrivilege\\n\\t\\t\\tSeImpersonatePrivilege\\n\\t\\t\\tSeEnableDelegationPrivilege\",\n",
      "                         \"opcode\": \"Info\",\n",
      "                         \"process_id\": 604,\n",
      "                         \"provider_guid\": \"{54849625-5478-4994-A5BA-3E3B0328C30D}\",\n",
      "                         \"record_number\": \"3712649\",\n",
      "                         \"source_name\": \"Microsoft-Windows-Security-Auditing\",\n",
      "                         \"tags\": [\n",
      "                              \"beats_input_codec_plain_applied\"\n",
      "                         ],\n",
      "                         \"task\": \"Special Logon\",\n",
      "                         \"thread_id\": 5492,\n",
      "                         \"type\": \"wineventlog\"\n",
      "                    },\n",
      "                    \"_type\": \"doc\"\n",
      "               },\n",
      "               {\n",
      "                    \"_id\": \"7mJcrmMB7NsdYXNzxWgL\",\n",
      "                    \"_index\": \"winlogbeat-6.2.4-2018.05.30\",\n",
      "                    \"_score\": 1.0,\n",
      "                    \"_source\": {\n",
      "                         \"@timestamp\": \"2018-05-30T00:05:11.548Z\",\n",
      "                         \"@version\": \"1\",\n",
      "                         \"beat\": {\n",
      "                              \"hostname\": \"BIABAM\",\n",
      "                              \"name\": \"BIABAM\",\n",
      "                              \"version\": \"6.2.4\"\n",
      "                         },\n",
      "                         \"computer_name\": \"BIABAM.bia.com\",\n",
      "                         \"event_data\": {\n",
      "                              \"LogonType\": \"3\",\n",
      "                              \"TargetDomainName\": \"BIA\",\n",
      "                              \"TargetLogonId\": \"0x2f345d4\",\n",
      "                              \"TargetUserName\": \"BIABAM$\",\n",
      "                              \"TargetUserSid\": \"S-1-5-18\"\n",
      "                         },\n",
      "                         \"event_id\": 4634,\n",
      "                         \"host\": \"BIABAM\",\n",
      "                         \"keywords\": [\n",
      "                              \"Audit Success\"\n",
      "                         ],\n",
      "                         \"level\": \"Information\",\n",
      "                         \"log_name\": \"Security\",\n",
      "                         \"message\": \"An account was logged off.\\n\\nSubject:\\n\\tSecurity ID:\\t\\tS-1-5-18\\n\\tAccount Name:\\t\\tBIABAM$\\n\\tAccount Domain:\\t\\tBIA\\n\\tLogon ID:\\t\\t0x2F345D4\\n\\nLogon Type:\\t\\t\\t3\\n\\nThis event is generated when a logon session is destroyed. It may be positively correlated with a logon event using the Logon ID value. Logon IDs are only unique between reboots on the same computer.\",\n",
      "                         \"opcode\": \"Info\",\n",
      "                         \"process_id\": 604,\n",
      "                         \"provider_guid\": \"{54849625-5478-4994-A5BA-3E3B0328C30D}\",\n",
      "                         \"record_number\": \"3712653\",\n",
      "                         \"source_name\": \"Microsoft-Windows-Security-Auditing\",\n",
      "                         \"tags\": [\n",
      "                              \"beats_input_codec_plain_applied\"\n",
      "                         ],\n",
      "                         \"task\": \"Logoff\",\n",
      "                         \"thread_id\": 6040,\n",
      "                         \"type\": \"wineventlog\"\n",
      "                    },\n",
      "                    \"_type\": \"doc\"\n",
      "               },\n",
      "               {\n",
      "                    \"_id\": \"0GJZrmMB7NsdYXNzg2gY\",\n",
      "                    \"_index\": \"winlogbeat-6.2.4-2018.05.30\",\n",
      "                    \"_score\": 1.0,\n",
      "                    \"_source\": {\n",
      "                         \"@timestamp\": \"2018-05-30T00:01:38.348Z\",\n",
      "                         \"@version\": \"1\",\n",
      "                         \"beat\": {\n",
      "                              \"hostname\": \"BIABAM\",\n",
      "                              \"name\": \"BIABAM\",\n",
      "                              \"version\": \"6.2.4\"\n",
      "                         },\n",
      "                         \"computer_name\": \"BIABAM.bia.com\",\n",
      "                         \"event_data\": {\n",
      "                              \"PrivilegeList\": \"SeSecurityPrivilege\\n\\t\\t\\tSeBackupPrivilege\\n\\t\\t\\tSeRestorePrivilege\\n\\t\\t\\tSeTakeOwnershipPrivilege\\n\\t\\t\\tSeDebugPrivilege\\n\\t\\t\\tSeSystemEnvironmentPrivilege\\n\\t\\t\\tSeLoadDriverPrivilege\\n\\t\\t\\tSeImpersonatePrivilege\\n\\t\\t\\tSeEnableDelegationPrivilege\",\n",
      "                              \"SubjectDomainName\": \"BIA\",\n",
      "                              \"SubjectLogonId\": \"0x2f258eb\",\n",
      "                              \"SubjectUserName\": \"BIABAM$\",\n",
      "                              \"SubjectUserSid\": \"S-1-5-18\"\n",
      "                         },\n",
      "                         \"event_id\": 4672,\n",
      "                         \"host\": \"BIABAM\",\n",
      "                         \"keywords\": [\n",
      "                              \"Audit Success\"\n",
      "                         ],\n",
      "                         \"level\": \"Information\",\n",
      "                         \"log_name\": \"Security\",\n",
      "                         \"message\": \"Special privileges assigned to new logon.\\n\\nSubject:\\n\\tSecurity ID:\\t\\tS-1-5-18\\n\\tAccount Name:\\t\\tBIABAM$\\n\\tAccount Domain:\\t\\tBIA\\n\\tLogon ID:\\t\\t0x2F258EB\\n\\nPrivileges:\\t\\tSeSecurityPrivilege\\n\\t\\t\\tSeBackupPrivilege\\n\\t\\t\\tSeRestorePrivilege\\n\\t\\t\\tSeTakeOwnershipPrivilege\\n\\t\\t\\tSeDebugPrivilege\\n\\t\\t\\tSeSystemEnvironmentPrivilege\\n\\t\\t\\tSeLoadDriverPrivilege\\n\\t\\t\\tSeImpersonatePrivilege\\n\\t\\t\\tSeEnableDelegationPrivilege\",\n",
      "                         \"opcode\": \"Info\",\n",
      "                         \"process_id\": 604,\n",
      "                         \"provider_guid\": \"{54849625-5478-4994-A5BA-3E3B0328C30D}\",\n",
      "                         \"record_number\": \"3712622\",\n",
      "                         \"source_name\": \"Microsoft-Windows-Security-Auditing\",\n",
      "                         \"tags\": [\n",
      "                              \"beats_input_codec_plain_applied\"\n",
      "                         ],\n",
      "                         \"task\": \"Special Logon\",\n",
      "                         \"thread_id\": 1956,\n",
      "                         \"type\": \"wineventlog\"\n",
      "                    },\n",
      "                    \"_type\": \"doc\"\n",
      "               },\n",
      "               {\n",
      "                    \"_id\": \"0WJZrmMB7NsdYXNzg2gY\",\n",
      "                    \"_index\": \"winlogbeat-6.2.4-2018.05.30\",\n",
      "                    \"_score\": 1.0,\n",
      "                    \"_source\": {\n",
      "                         \"@timestamp\": \"2018-05-30T00:01:38.364Z\",\n",
      "                         \"@version\": \"1\",\n",
      "                         \"beat\": {\n",
      "                              \"hostname\": \"BIABAM\",\n",
      "                              \"name\": \"BIABAM\",\n",
      "                              \"version\": \"6.2.4\"\n",
      "                         },\n",
      "                         \"computer_name\": \"BIABAM.bia.com\",\n",
      "                         \"event_data\": {\n",
      "                              \"AuthenticationPackageName\": \"Kerberos\",\n",
      "                              \"ImpersonationLevel\": \"%%1833\",\n",
      "                              \"IpAddress\": \"fe80::8525:f3ee:c80e:333a\",\n",
      "                              \"IpPort\": \"49579\",\n",
      "                              \"KeyLength\": \"0\",\n",
      "                              \"LmPackageName\": \"-\",\n",
      "                              \"LogonGuid\": \"{0B53E2AB-DAC7-3A25-D206-5ED60772C950}\",\n",
      "                              \"LogonProcessName\": \"Kerberos\",\n",
      "                              \"LogonType\": \"3\",\n",
      "                              \"ProcessId\": \"0x0\",\n",
      "                              \"ProcessName\": \"-\",\n",
      "                              \"SubjectDomainName\": \"-\",\n",
      "                              \"SubjectLogonId\": \"0x0\",\n",
      "                              \"SubjectUserName\": \"-\",\n",
      "                              \"SubjectUserSid\": \"S-1-0-0\",\n",
      "                              \"TargetDomainName\": \"BIA\",\n",
      "                              \"TargetLogonId\": \"0x2f2594e\",\n",
      "                              \"TargetUserName\": \"BIABAM$\",\n",
      "                              \"TargetUserSid\": \"S-1-5-18\",\n",
      "                              \"TransmittedServices\": \"-\",\n",
      "                              \"WorkstationName\": \"-\"\n",
      "                         },\n",
      "                         \"event_id\": 4624,\n",
      "                         \"host\": \"BIABAM\",\n",
      "                         \"keywords\": [\n",
      "                              \"Audit Success\"\n",
      "                         ],\n",
      "                         \"level\": \"Information\",\n",
      "                         \"log_name\": \"Security\",\n",
      "                         \"message\": \"An account was successfully logged on.\\n\\nSubject:\\n\\tSecurity ID:\\t\\tS-1-0-0\\n\\tAccount Name:\\t\\t-\\n\\tAccount Domain:\\t\\t-\\n\\tLogon ID:\\t\\t0x0\\n\\nLogon Type:\\t\\t\\t3\\n\\nImpersonation Level:\\t\\tImpersonation\\n\\nNew Logon:\\n\\tSecurity ID:\\t\\tS-1-5-18\\n\\tAccount Name:\\t\\tBIABAM$\\n\\tAccount Domain:\\t\\tBIA\\n\\tLogon ID:\\t\\t0x2F2594E\\n\\tLogon GUID:\\t\\t{0B53E2AB-DAC7-3A25-D206-5ED60772C950}\\n\\nProcess Information:\\n\\tProcess ID:\\t\\t0x0\\n\\tProcess Name:\\t\\t-\\n\\nNetwork Information:\\n\\tWorkstation Name:\\t-\\n\\tSource Network Address:\\tfe80::8525:f3ee:c80e:333a\\n\\tSource Port:\\t\\t49579\\n\\nDetailed Authentication Information:\\n\\tLogon Process:\\t\\tKerberos\\n\\tAuthentication Package:\\tKerberos\\n\\tTransited Services:\\t-\\n\\tPackage Name (NTLM only):\\t-\\n\\tKey Length:\\t\\t0\\n\\nThis event is generated when a logon session is created. It is generated on the computer that was accessed.\\n\\nThe subject fields indicate the account on the local system which requested the logon. This is most commonly a service such as the Server service, or a local process such as Winlogon.exe or Services.exe.\\n\\nThe logon type field indicates the kind of logon that occurred. The most common types are 2 (interactive) and 3 (network).\\n\\nThe New Logon fields indicate the account for whom the new logon was created, i.e. the account that was logged on.\\n\\nThe network fields indicate where a remote logon request originated. Workstation name is not always available and may be left blank in some cases.\\n\\nThe impersonation level field indicates the extent to which a process in the logon session can impersonate.\\n\\nThe authentication information fields provide detailed information about this specific logon request.\\n\\t- Logon GUID is a unique identifier that can be used to correlate this event with a KDC event.\\n\\t- Transited services indicate which intermediate services have participated in this logon request.\\n\\t- Package name indicates which sub-protocol was used among the NTLM protocols.\\n\\t- Key length indicates the length of the generated session key. This will be 0 if no session key was requested.\",\n",
      "                         \"opcode\": \"Info\",\n",
      "                         \"process_id\": 604,\n",
      "                         \"provider_guid\": \"{54849625-5478-4994-A5BA-3E3B0328C30D}\",\n",
      "                         \"record_number\": \"3712626\",\n",
      "                         \"source_name\": \"Microsoft-Windows-Security-Auditing\",\n",
      "                         \"tags\": [\n",
      "                              \"beats_input_codec_plain_applied\"\n",
      "                         ],\n",
      "                         \"task\": \"Logon\",\n",
      "                         \"thread_id\": 1888,\n",
      "                         \"type\": \"wineventlog\",\n",
      "                         \"version\": 1\n",
      "                    },\n",
      "                    \"_type\": \"doc\"\n",
      "               },\n",
      "               {\n",
      "                    \"_id\": \"xWJYrmMB7NsdYXNzMGgW\",\n",
      "                    \"_index\": \"winlogbeat-6.2.4-2018.05.30\",\n",
      "                    \"_score\": 1.0,\n",
      "                    \"_source\": {\n",
      "                         \"@timestamp\": \"2018-05-30T00:00:11.074Z\",\n",
      "                         \"@version\": \"1\",\n",
      "                         \"beat\": {\n",
      "                              \"hostname\": \"BIABAM\",\n",
      "                              \"name\": \"BIABAM\",\n",
      "                              \"version\": \"6.2.4\"\n",
      "                         },\n",
      "                         \"computer_name\": \"BIABAM.bia.com\",\n",
      "                         \"event_data\": {\n",
      "                              \"AuthenticationPackageName\": \"Kerberos\",\n",
      "                              \"ImpersonationLevel\": \"%%1833\",\n",
      "                              \"IpAddress\": \"169.254.250.50\",\n",
      "                              \"IpPort\": \"49561\",\n",
      "                              \"KeyLength\": \"0\",\n",
      "                              \"LmPackageName\": \"-\",\n",
      "                              \"LogonGuid\": \"{CB6871D5-A5AB-DF69-33D5-4CAADDE042D8}\",\n",
      "                              \"LogonProcessName\": \"Kerberos\",\n",
      "                              \"LogonType\": \"3\",\n",
      "                              \"ProcessId\": \"0x0\",\n",
      "                              \"ProcessName\": \"-\",\n",
      "                              \"SubjectDomainName\": \"-\",\n",
      "                              \"SubjectLogonId\": \"0x0\",\n",
      "                              \"SubjectUserName\": \"-\",\n",
      "                              \"SubjectUserSid\": \"S-1-0-0\",\n",
      "                              \"TargetDomainName\": \"BIA\",\n",
      "                              \"TargetLogonId\": \"0x2f1f718\",\n",
      "                              \"TargetUserName\": \"BIABAM$\",\n",
      "                              \"TargetUserSid\": \"S-1-5-18\",\n",
      "                              \"TransmittedServices\": \"-\",\n",
      "                              \"WorkstationName\": \"-\"\n",
      "                         },\n",
      "                         \"event_id\": 4624,\n",
      "                         \"host\": \"BIABAM\",\n",
      "                         \"keywords\": [\n",
      "                              \"Audit Success\"\n",
      "                         ],\n",
      "                         \"level\": \"Information\",\n",
      "                         \"log_name\": \"Security\",\n",
      "                         \"message\": \"An account was successfully logged on.\\n\\nSubject:\\n\\tSecurity ID:\\t\\tS-1-0-0\\n\\tAccount Name:\\t\\t-\\n\\tAccount Domain:\\t\\t-\\n\\tLogon ID:\\t\\t0x0\\n\\nLogon Type:\\t\\t\\t3\\n\\nImpersonation Level:\\t\\tImpersonation\\n\\nNew Logon:\\n\\tSecurity ID:\\t\\tS-1-5-18\\n\\tAccount Name:\\t\\tBIABAM$\\n\\tAccount Domain:\\t\\tBIA\\n\\tLogon ID:\\t\\t0x2F1F718\\n\\tLogon GUID:\\t\\t{CB6871D5-A5AB-DF69-33D5-4CAADDE042D8}\\n\\nProcess Information:\\n\\tProcess ID:\\t\\t0x0\\n\\tProcess Name:\\t\\t-\\n\\nNetwork Information:\\n\\tWorkstation Name:\\t-\\n\\tSource Network Address:\\t169.254.250.50\\n\\tSource Port:\\t\\t49561\\n\\nDetailed Authentication Information:\\n\\tLogon Process:\\t\\tKerberos\\n\\tAuthentication Package:\\tKerberos\\n\\tTransited Services:\\t-\\n\\tPackage Name (NTLM only):\\t-\\n\\tKey Length:\\t\\t0\\n\\nThis event is generated when a logon session is created. It is generated on the computer that was accessed.\\n\\nThe subject fields indicate the account on the local system which requested the logon. This is most commonly a service such as the Server service, or a local process such as Winlogon.exe or Services.exe.\\n\\nThe logon type field indicates the kind of logon that occurred. The most common types are 2 (interactive) and 3 (network).\\n\\nThe New Logon fields indicate the account for whom the new logon was created, i.e. the account that was logged on.\\n\\nThe network fields indicate where a remote logon request originated. Workstation name is not always available and may be left blank in some cases.\\n\\nThe impersonation level field indicates the extent to which a process in the logon session can impersonate.\\n\\nThe authentication information fields provide detailed information about this specific logon request.\\n\\t- Logon GUID is a unique identifier that can be used to correlate this event with a KDC event.\\n\\t- Transited services indicate which intermediate services have participated in this logon request.\\n\\t- Package name indicates which sub-protocol was used among the NTLM protocols.\\n\\t- Key length indicates the length of the generated session key. This will be 0 if no session key was requested.\",\n",
      "                         \"opcode\": \"Info\",\n",
      "                         \"process_id\": 604,\n",
      "                         \"provider_guid\": \"{54849625-5478-4994-A5BA-3E3B0328C30D}\",\n",
      "                         \"record_number\": \"3712610\",\n",
      "                         \"source_name\": \"Microsoft-Windows-Security-Auditing\",\n",
      "                         \"tags\": [\n",
      "                              \"beats_input_codec_plain_applied\"\n",
      "                         ],\n",
      "                         \"task\": \"Logon\",\n",
      "                         \"thread_id\": 1956,\n",
      "                         \"type\": \"wineventlog\",\n",
      "                         \"version\": 1\n",
      "                    },\n",
      "                    \"_type\": \"doc\"\n",
      "               },\n",
      "               {\n",
      "                    \"_id\": \"4GJcrmMB7NsdYXNzhmhD\",\n",
      "                    \"_index\": \"winlogbeat-6.2.4-2018.05.30\",\n",
      "                    \"_score\": 1.0,\n",
      "                    \"_source\": {\n",
      "                         \"@timestamp\": \"2018-05-30T00:04:55.824Z\",\n",
      "                         \"@version\": \"1\",\n",
      "                         \"beat\": {\n",
      "                              \"hostname\": \"BIABAM\",\n",
      "                              \"name\": \"BIABAM\",\n",
      "                              \"version\": \"6.2.4\"\n",
      "                         },\n",
      "                         \"computer_name\": \"BIABAM.bia.com\",\n",
      "                         \"event_data\": {\n",
      "                              \"AuthenticationPackageName\": \"Kerberos\",\n",
      "                              \"ImpersonationLevel\": \"%%1833\",\n",
      "                              \"IpAddress\": \"::1\",\n",
      "                              \"IpPort\": \"49610\",\n",
      "                              \"KeyLength\": \"0\",\n",
      "                              \"LmPackageName\": \"-\",\n",
      "                              \"LogonGuid\": \"{0B53E2AB-DAC7-3A25-D206-5ED60772C950}\",\n",
      "                              \"LogonProcessName\": \"Kerberos\",\n",
      "                              \"LogonType\": \"3\",\n",
      "                              \"ProcessId\": \"0x0\",\n",
      "                              \"ProcessName\": \"-\",\n",
      "                              \"SubjectDomainName\": \"-\",\n",
      "                              \"SubjectLogonId\": \"0x0\",\n",
      "                              \"SubjectUserName\": \"-\",\n",
      "                              \"SubjectUserSid\": \"S-1-0-0\",\n",
      "                              \"TargetDomainName\": \"BIA\",\n",
      "                              \"TargetLogonId\": \"0x2f32f0c\",\n",
      "                              \"TargetUserName\": \"BIABAM$\",\n",
      "                              \"TargetUserSid\": \"S-1-5-18\",\n",
      "                              \"TransmittedServices\": \"-\",\n",
      "                              \"WorkstationName\": \"-\"\n",
      "                         },\n",
      "                         \"event_id\": 4624,\n",
      "                         \"host\": \"BIABAM\",\n",
      "                         \"keywords\": [\n",
      "                              \"Audit Success\"\n",
      "                         ],\n",
      "                         \"level\": \"Information\",\n",
      "                         \"log_name\": \"Security\",\n",
      "                         \"message\": \"An account was successfully logged on.\\n\\nSubject:\\n\\tSecurity ID:\\t\\tS-1-0-0\\n\\tAccount Name:\\t\\t-\\n\\tAccount Domain:\\t\\t-\\n\\tLogon ID:\\t\\t0x0\\n\\nLogon Type:\\t\\t\\t3\\n\\nImpersonation Level:\\t\\tImpersonation\\n\\nNew Logon:\\n\\tSecurity ID:\\t\\tS-1-5-18\\n\\tAccount Name:\\t\\tBIABAM$\\n\\tAccount Domain:\\t\\tBIA\\n\\tLogon ID:\\t\\t0x2F32F0C\\n\\tLogon GUID:\\t\\t{0B53E2AB-DAC7-3A25-D206-5ED60772C950}\\n\\nProcess Information:\\n\\tProcess ID:\\t\\t0x0\\n\\tProcess Name:\\t\\t-\\n\\nNetwork Information:\\n\\tWorkstation Name:\\t-\\n\\tSource Network Address:\\t::1\\n\\tSource Port:\\t\\t49610\\n\\nDetailed Authentication Information:\\n\\tLogon Process:\\t\\tKerberos\\n\\tAuthentication Package:\\tKerberos\\n\\tTransited Services:\\t-\\n\\tPackage Name (NTLM only):\\t-\\n\\tKey Length:\\t\\t0\\n\\nThis event is generated when a logon session is created. It is generated on the computer that was accessed.\\n\\nThe subject fields indicate the account on the local system which requested the logon. This is most commonly a service such as the Server service, or a local process such as Winlogon.exe or Services.exe.\\n\\nThe logon type field indicates the kind of logon that occurred. The most common types are 2 (interactive) and 3 (network).\\n\\nThe New Logon fields indicate the account for whom the new logon was created, i.e. the account that was logged on.\\n\\nThe network fields indicate where a remote logon request originated. Workstation name is not always available and may be left blank in some cases.\\n\\nThe impersonation level field indicates the extent to which a process in the logon session can impersonate.\\n\\nThe authentication information fields provide detailed information about this specific logon request.\\n\\t- Logon GUID is a unique identifier that can be used to correlate this event with a KDC event.\\n\\t- Transited services indicate which intermediate services have participated in this logon request.\\n\\t- Package name indicates which sub-protocol was used among the NTLM protocols.\\n\\t- Key length indicates the length of the generated session key. This will be 0 if no session key was requested.\",\n",
      "                         \"opcode\": \"Info\",\n",
      "                         \"process_id\": 604,\n",
      "                         \"provider_guid\": \"{54849625-5478-4994-A5BA-3E3B0328C30D}\",\n",
      "                         \"record_number\": \"3712639\",\n",
      "                         \"source_name\": \"Microsoft-Windows-Security-Auditing\",\n",
      "                         \"tags\": [\n",
      "                              \"beats_input_codec_plain_applied\"\n",
      "                         ],\n",
      "                         \"task\": \"Logon\",\n",
      "                         \"thread_id\": 1888,\n",
      "                         \"type\": \"wineventlog\",\n",
      "                         \"version\": 1\n",
      "                    },\n",
      "                    \"_type\": \"doc\"\n",
      "               },\n",
      "               {\n",
      "                    \"_id\": \"vmJYrmMB7NsdYXNzMGgW\",\n",
      "                    \"_index\": \"winlogbeat-6.2.4-2018.05.30\",\n",
      "                    \"_score\": 1.0,\n",
      "                    \"_source\": {\n",
      "                         \"@timestamp\": \"2018-05-30T00:00:11.074Z\",\n",
      "                         \"@version\": \"1\",\n",
      "                         \"beat\": {\n",
      "                              \"hostname\": \"BIABAM\",\n",
      "                              \"name\": \"BIABAM\",\n",
      "                              \"version\": \"6.2.4\"\n",
      "                         },\n",
      "                         \"computer_name\": \"BIABAM.bia.com\",\n",
      "                         \"event_data\": {\n",
      "                              \"PrivilegeList\": \"SeSecurityPrivilege\\n\\t\\t\\tSeBackupPrivilege\\n\\t\\t\\tSeRestorePrivilege\\n\\t\\t\\tSeTakeOwnershipPrivilege\\n\\t\\t\\tSeDebugPrivilege\\n\\t\\t\\tSeSystemEnvironmentPrivilege\\n\\t\\t\\tSeLoadDriverPrivilege\\n\\t\\t\\tSeImpersonatePrivilege\\n\\t\\t\\tSeEnableDelegationPrivilege\",\n",
      "                              \"SubjectDomainName\": \"BIA\",\n",
      "                              \"SubjectLogonId\": \"0x2f1f5fe\",\n",
      "                              \"SubjectUserName\": \"BIABAM$\",\n",
      "                              \"SubjectUserSid\": \"S-1-5-18\"\n",
      "                         },\n",
      "                         \"event_id\": 4672,\n",
      "                         \"host\": \"BIABAM\",\n",
      "                         \"keywords\": [\n",
      "                              \"Audit Success\"\n",
      "                         ],\n",
      "                         \"level\": \"Information\",\n",
      "                         \"log_name\": \"Security\",\n",
      "                         \"message\": \"Special privileges assigned to new logon.\\n\\nSubject:\\n\\tSecurity ID:\\t\\tS-1-5-18\\n\\tAccount Name:\\t\\tBIABAM$\\n\\tAccount Domain:\\t\\tBIA\\n\\tLogon ID:\\t\\t0x2F1F5FE\\n\\nPrivileges:\\t\\tSeSecurityPrivilege\\n\\t\\t\\tSeBackupPrivilege\\n\\t\\t\\tSeRestorePrivilege\\n\\t\\t\\tSeTakeOwnershipPrivilege\\n\\t\\t\\tSeDebugPrivilege\\n\\t\\t\\tSeSystemEnvironmentPrivilege\\n\\t\\t\\tSeLoadDriverPrivilege\\n\\t\\t\\tSeImpersonatePrivilege\\n\\t\\t\\tSeEnableDelegationPrivilege\",\n",
      "                         \"opcode\": \"Info\",\n",
      "                         \"process_id\": 604,\n",
      "                         \"provider_guid\": \"{54849625-5478-4994-A5BA-3E3B0328C30D}\",\n",
      "                         \"record_number\": \"3712605\",\n",
      "                         \"source_name\": \"Microsoft-Windows-Security-Auditing\",\n",
      "                         \"tags\": [\n",
      "                              \"beats_input_codec_plain_applied\"\n",
      "                         ],\n",
      "                         \"task\": \"Special Logon\",\n",
      "                         \"thread_id\": 1888,\n",
      "                         \"type\": \"wineventlog\"\n",
      "                    },\n",
      "                    \"_type\": \"doc\"\n",
      "               },\n",
      "               {\n",
      "                    \"_id\": \"wGJYrmMB7NsdYXNzMGgW\",\n",
      "                    \"_index\": \"winlogbeat-6.2.4-2018.05.30\",\n",
      "                    \"_score\": 1.0,\n",
      "                    \"_source\": {\n",
      "                         \"@timestamp\": \"2018-05-30T00:00:11.199Z\",\n",
      "                         \"@version\": \"1\",\n",
      "                         \"beat\": {\n",
      "                              \"hostname\": \"BIABAM\",\n",
      "                              \"name\": \"BIABAM\",\n",
      "                              \"version\": \"6.2.4\"\n",
      "                         },\n",
      "                         \"computer_name\": \"BIABAM.bia.com\",\n",
      "                         \"event_data\": {\n",
      "                              \"LogonType\": \"3\",\n",
      "                              \"TargetDomainName\": \"BIA\",\n",
      "                              \"TargetLogonId\": \"0x2f1f718\",\n",
      "                              \"TargetUserName\": \"BIABAM$\",\n",
      "                              \"TargetUserSid\": \"S-1-5-18\"\n",
      "                         },\n",
      "                         \"event_id\": 4634,\n",
      "                         \"host\": \"BIABAM\",\n",
      "                         \"keywords\": [\n",
      "                              \"Audit Success\"\n",
      "                         ],\n",
      "                         \"level\": \"Information\",\n",
      "                         \"log_name\": \"Security\",\n",
      "                         \"message\": \"An account was logged off.\\n\\nSubject:\\n\\tSecurity ID:\\t\\tS-1-5-18\\n\\tAccount Name:\\t\\tBIABAM$\\n\\tAccount Domain:\\t\\tBIA\\n\\tLogon ID:\\t\\t0x2F1F718\\n\\nLogon Type:\\t\\t\\t3\\n\\nThis event is generated when a logon session is destroyed. It may be positively correlated with a logon event using the Logon ID value. Logon IDs are only unique between reboots on the same computer.\",\n",
      "                         \"opcode\": \"Info\",\n",
      "                         \"process_id\": 604,\n",
      "                         \"provider_guid\": \"{54849625-5478-4994-A5BA-3E3B0328C30D}\",\n",
      "                         \"record_number\": \"3712613\",\n",
      "                         \"source_name\": \"Microsoft-Windows-Security-Auditing\",\n",
      "                         \"tags\": [\n",
      "                              \"beats_input_codec_plain_applied\"\n",
      "                         ],\n",
      "                         \"task\": \"Logoff\",\n",
      "                         \"thread_id\": 6040,\n",
      "                         \"type\": \"wineventlog\"\n",
      "                    },\n",
      "                    \"_type\": \"doc\"\n",
      "               }\n",
      "          ],\n",
      "          \"max_score\": 1.0,\n",
      "          \"total\": 8481\n",
      "     },\n",
      "     \"timed_out\": false,\n",
      "     \"took\": 0\n",
      "}\n"
     ]
    }
   ],
   "source": [
    "print (json.dumps(es1 , indent=5 , sort_keys=True))"
   ]
  },
  {
   "cell_type": "code",
   "execution_count": 31,
   "metadata": {},
   "outputs": [
    {
     "data": {
      "text/plain": [
       "dict_keys(['took', 'timed_out', '_shards', 'hits'])"
      ]
     },
     "execution_count": 31,
     "metadata": {},
     "output_type": "execute_result"
    }
   ],
   "source": [
    "es1.keys()"
   ]
  },
  {
   "cell_type": "code",
   "execution_count": 41,
   "metadata": {},
   "outputs": [
    {
     "data": {
      "text/plain": [
       "{'hits': [{'_id': '5WJcrmMB7NsdYXNzxWgI',\n",
       "   '_index': 'winlogbeat-6.2.4-2018.05.30',\n",
       "   '_score': 1.0,\n",
       "   '_source': {'@timestamp': '2018-05-30T00:05:11.205Z',\n",
       "    '@version': '1',\n",
       "    'beat': {'hostname': 'BIABAM', 'name': 'BIABAM', 'version': '6.2.4'},\n",
       "    'computer_name': 'BIABAM.bia.com',\n",
       "    'event_data': {'AuthenticationPackageName': 'Kerberos',\n",
       "     'ImpersonationLevel': '%%1833',\n",
       "     'IpAddress': 'fe80::8525:f3ee:c80e:333a',\n",
       "     'IpPort': '49615',\n",
       "     'KeyLength': '0',\n",
       "     'LmPackageName': '-',\n",
       "     'LogonGuid': '{CB6871D5-A5AB-DF69-33D5-4CAADDE042D8}',\n",
       "     'LogonProcessName': 'Kerberos',\n",
       "     'LogonType': '3',\n",
       "     'ProcessId': '0x0',\n",
       "     'ProcessName': '-',\n",
       "     'SubjectDomainName': '-',\n",
       "     'SubjectLogonId': '0x0',\n",
       "     'SubjectUserName': '-',\n",
       "     'SubjectUserSid': 'S-1-0-0',\n",
       "     'TargetDomainName': 'BIA',\n",
       "     'TargetLogonId': '0x2f345a6',\n",
       "     'TargetUserName': 'BIABAM$',\n",
       "     'TargetUserSid': 'S-1-5-18',\n",
       "     'TransmittedServices': '-',\n",
       "     'WorkstationName': '-'},\n",
       "    'event_id': 4624,\n",
       "    'host': 'BIABAM',\n",
       "    'keywords': ['Audit Success'],\n",
       "    'level': 'Information',\n",
       "    'log_name': 'Security',\n",
       "    'message': 'An account was successfully logged on.\\n\\nSubject:\\n\\tSecurity ID:\\t\\tS-1-0-0\\n\\tAccount Name:\\t\\t-\\n\\tAccount Domain:\\t\\t-\\n\\tLogon ID:\\t\\t0x0\\n\\nLogon Type:\\t\\t\\t3\\n\\nImpersonation Level:\\t\\tImpersonation\\n\\nNew Logon:\\n\\tSecurity ID:\\t\\tS-1-5-18\\n\\tAccount Name:\\t\\tBIABAM$\\n\\tAccount Domain:\\t\\tBIA\\n\\tLogon ID:\\t\\t0x2F345A6\\n\\tLogon GUID:\\t\\t{CB6871D5-A5AB-DF69-33D5-4CAADDE042D8}\\n\\nProcess Information:\\n\\tProcess ID:\\t\\t0x0\\n\\tProcess Name:\\t\\t-\\n\\nNetwork Information:\\n\\tWorkstation Name:\\t-\\n\\tSource Network Address:\\tfe80::8525:f3ee:c80e:333a\\n\\tSource Port:\\t\\t49615\\n\\nDetailed Authentication Information:\\n\\tLogon Process:\\t\\tKerberos\\n\\tAuthentication Package:\\tKerberos\\n\\tTransited Services:\\t-\\n\\tPackage Name (NTLM only):\\t-\\n\\tKey Length:\\t\\t0\\n\\nThis event is generated when a logon session is created. It is generated on the computer that was accessed.\\n\\nThe subject fields indicate the account on the local system which requested the logon. This is most commonly a service such as the Server service, or a local process such as Winlogon.exe or Services.exe.\\n\\nThe logon type field indicates the kind of logon that occurred. The most common types are 2 (interactive) and 3 (network).\\n\\nThe New Logon fields indicate the account for whom the new logon was created, i.e. the account that was logged on.\\n\\nThe network fields indicate where a remote logon request originated. Workstation name is not always available and may be left blank in some cases.\\n\\nThe impersonation level field indicates the extent to which a process in the logon session can impersonate.\\n\\nThe authentication information fields provide detailed information about this specific logon request.\\n\\t- Logon GUID is a unique identifier that can be used to correlate this event with a KDC event.\\n\\t- Transited services indicate which intermediate services have participated in this logon request.\\n\\t- Package name indicates which sub-protocol was used among the NTLM protocols.\\n\\t- Key length indicates the length of the generated session key. This will be 0 if no session key was requested.',\n",
       "    'opcode': 'Info',\n",
       "    'process_id': 604,\n",
       "    'provider_guid': '{54849625-5478-4994-A5BA-3E3B0328C30D}',\n",
       "    'record_number': '3712642',\n",
       "    'source_name': 'Microsoft-Windows-Security-Auditing',\n",
       "    'tags': ['beats_input_codec_plain_applied'],\n",
       "    'task': 'Logon',\n",
       "    'thread_id': 5492,\n",
       "    'type': 'wineventlog',\n",
       "    'version': 1},\n",
       "   '_type': 'doc'},\n",
       "  {'_id': '52JcrmMB7NsdYXNzxWgI',\n",
       "   '_index': 'winlogbeat-6.2.4-2018.05.30',\n",
       "   '_score': 1.0,\n",
       "   '_source': {'@timestamp': '2018-05-30T00:05:11.533Z',\n",
       "    '@version': '1',\n",
       "    'beat': {'hostname': 'BIABAM', 'name': 'BIABAM', 'version': '6.2.4'},\n",
       "    'computer_name': 'BIABAM.bia.com',\n",
       "    'event_data': {'AuthenticationPackageName': 'Kerberos',\n",
       "     'ImpersonationLevel': '%%1840',\n",
       "     'IpAddress': 'fe80::8525:f3ee:c80e:333a',\n",
       "     'IpPort': '49618',\n",
       "     'KeyLength': '0',\n",
       "     'LmPackageName': '-',\n",
       "     'LogonGuid': '{CB6871D5-A5AB-DF69-33D5-4CAADDE042D8}',\n",
       "     'LogonProcessName': 'Kerberos',\n",
       "     'LogonType': '3',\n",
       "     'ProcessId': '0x0',\n",
       "     'ProcessName': '-',\n",
       "     'SubjectDomainName': '-',\n",
       "     'SubjectLogonId': '0x0',\n",
       "     'SubjectUserName': '-',\n",
       "     'SubjectUserSid': 'S-1-0-0',\n",
       "     'TargetDomainName': 'BIA',\n",
       "     'TargetLogonId': '0x2f34761',\n",
       "     'TargetUserName': 'BIABAM$',\n",
       "     'TargetUserSid': 'S-1-5-18',\n",
       "     'TransmittedServices': '-',\n",
       "     'WorkstationName': '-'},\n",
       "    'event_id': 4624,\n",
       "    'host': 'BIABAM',\n",
       "    'keywords': ['Audit Success'],\n",
       "    'level': 'Information',\n",
       "    'log_name': 'Security',\n",
       "    'message': 'An account was successfully logged on.\\n\\nSubject:\\n\\tSecurity ID:\\t\\tS-1-0-0\\n\\tAccount Name:\\t\\t-\\n\\tAccount Domain:\\t\\t-\\n\\tLogon ID:\\t\\t0x0\\n\\nLogon Type:\\t\\t\\t3\\n\\nImpersonation Level:\\t\\tDelegation\\n\\nNew Logon:\\n\\tSecurity ID:\\t\\tS-1-5-18\\n\\tAccount Name:\\t\\tBIABAM$\\n\\tAccount Domain:\\t\\tBIA\\n\\tLogon ID:\\t\\t0x2F34761\\n\\tLogon GUID:\\t\\t{CB6871D5-A5AB-DF69-33D5-4CAADDE042D8}\\n\\nProcess Information:\\n\\tProcess ID:\\t\\t0x0\\n\\tProcess Name:\\t\\t-\\n\\nNetwork Information:\\n\\tWorkstation Name:\\t-\\n\\tSource Network Address:\\tfe80::8525:f3ee:c80e:333a\\n\\tSource Port:\\t\\t49618\\n\\nDetailed Authentication Information:\\n\\tLogon Process:\\t\\tKerberos\\n\\tAuthentication Package:\\tKerberos\\n\\tTransited Services:\\t-\\n\\tPackage Name (NTLM only):\\t-\\n\\tKey Length:\\t\\t0\\n\\nThis event is generated when a logon session is created. It is generated on the computer that was accessed.\\n\\nThe subject fields indicate the account on the local system which requested the logon. This is most commonly a service such as the Server service, or a local process such as Winlogon.exe or Services.exe.\\n\\nThe logon type field indicates the kind of logon that occurred. The most common types are 2 (interactive) and 3 (network).\\n\\nThe New Logon fields indicate the account for whom the new logon was created, i.e. the account that was logged on.\\n\\nThe network fields indicate where a remote logon request originated. Workstation name is not always available and may be left blank in some cases.\\n\\nThe impersonation level field indicates the extent to which a process in the logon session can impersonate.\\n\\nThe authentication information fields provide detailed information about this specific logon request.\\n\\t- Logon GUID is a unique identifier that can be used to correlate this event with a KDC event.\\n\\t- Transited services indicate which intermediate services have participated in this logon request.\\n\\t- Package name indicates which sub-protocol was used among the NTLM protocols.\\n\\t- Key length indicates the length of the generated session key. This will be 0 if no session key was requested.',\n",
       "    'opcode': 'Info',\n",
       "    'process_id': 604,\n",
       "    'provider_guid': '{54849625-5478-4994-A5BA-3E3B0328C30D}',\n",
       "    'record_number': '3712650',\n",
       "    'source_name': 'Microsoft-Windows-Security-Auditing',\n",
       "    'tags': ['beats_input_codec_plain_applied'],\n",
       "    'task': 'Logon',\n",
       "    'thread_id': 5492,\n",
       "    'type': 'wineventlog',\n",
       "    'version': 1},\n",
       "   '_type': 'doc'},\n",
       "  {'_id': '7WJcrmMB7NsdYXNzxWgL',\n",
       "   '_index': 'winlogbeat-6.2.4-2018.05.30',\n",
       "   '_score': 1.0,\n",
       "   '_source': {'@timestamp': '2018-05-30T00:05:11.533Z',\n",
       "    '@version': '1',\n",
       "    'beat': {'hostname': 'BIABAM', 'name': 'BIABAM', 'version': '6.2.4'},\n",
       "    'computer_name': 'BIABAM.bia.com',\n",
       "    'event_data': {'PrivilegeList': 'SeSecurityPrivilege\\n\\t\\t\\tSeBackupPrivilege\\n\\t\\t\\tSeRestorePrivilege\\n\\t\\t\\tSeTakeOwnershipPrivilege\\n\\t\\t\\tSeDebugPrivilege\\n\\t\\t\\tSeSystemEnvironmentPrivilege\\n\\t\\t\\tSeLoadDriverPrivilege\\n\\t\\t\\tSeImpersonatePrivilege\\n\\t\\t\\tSeEnableDelegationPrivilege',\n",
       "     'SubjectDomainName': 'BIA',\n",
       "     'SubjectLogonId': '0x2f34761',\n",
       "     'SubjectUserName': 'BIABAM$',\n",
       "     'SubjectUserSid': 'S-1-5-18'},\n",
       "    'event_id': 4672,\n",
       "    'host': 'BIABAM',\n",
       "    'keywords': ['Audit Success'],\n",
       "    'level': 'Information',\n",
       "    'log_name': 'Security',\n",
       "    'message': 'Special privileges assigned to new logon.\\n\\nSubject:\\n\\tSecurity ID:\\t\\tS-1-5-18\\n\\tAccount Name:\\t\\tBIABAM$\\n\\tAccount Domain:\\t\\tBIA\\n\\tLogon ID:\\t\\t0x2F34761\\n\\nPrivileges:\\t\\tSeSecurityPrivilege\\n\\t\\t\\tSeBackupPrivilege\\n\\t\\t\\tSeRestorePrivilege\\n\\t\\t\\tSeTakeOwnershipPrivilege\\n\\t\\t\\tSeDebugPrivilege\\n\\t\\t\\tSeSystemEnvironmentPrivilege\\n\\t\\t\\tSeLoadDriverPrivilege\\n\\t\\t\\tSeImpersonatePrivilege\\n\\t\\t\\tSeEnableDelegationPrivilege',\n",
       "    'opcode': 'Info',\n",
       "    'process_id': 604,\n",
       "    'provider_guid': '{54849625-5478-4994-A5BA-3E3B0328C30D}',\n",
       "    'record_number': '3712649',\n",
       "    'source_name': 'Microsoft-Windows-Security-Auditing',\n",
       "    'tags': ['beats_input_codec_plain_applied'],\n",
       "    'task': 'Special Logon',\n",
       "    'thread_id': 5492,\n",
       "    'type': 'wineventlog'},\n",
       "   '_type': 'doc'},\n",
       "  {'_id': '7mJcrmMB7NsdYXNzxWgL',\n",
       "   '_index': 'winlogbeat-6.2.4-2018.05.30',\n",
       "   '_score': 1.0,\n",
       "   '_source': {'@timestamp': '2018-05-30T00:05:11.548Z',\n",
       "    '@version': '1',\n",
       "    'beat': {'hostname': 'BIABAM', 'name': 'BIABAM', 'version': '6.2.4'},\n",
       "    'computer_name': 'BIABAM.bia.com',\n",
       "    'event_data': {'LogonType': '3',\n",
       "     'TargetDomainName': 'BIA',\n",
       "     'TargetLogonId': '0x2f345d4',\n",
       "     'TargetUserName': 'BIABAM$',\n",
       "     'TargetUserSid': 'S-1-5-18'},\n",
       "    'event_id': 4634,\n",
       "    'host': 'BIABAM',\n",
       "    'keywords': ['Audit Success'],\n",
       "    'level': 'Information',\n",
       "    'log_name': 'Security',\n",
       "    'message': 'An account was logged off.\\n\\nSubject:\\n\\tSecurity ID:\\t\\tS-1-5-18\\n\\tAccount Name:\\t\\tBIABAM$\\n\\tAccount Domain:\\t\\tBIA\\n\\tLogon ID:\\t\\t0x2F345D4\\n\\nLogon Type:\\t\\t\\t3\\n\\nThis event is generated when a logon session is destroyed. It may be positively correlated with a logon event using the Logon ID value. Logon IDs are only unique between reboots on the same computer.',\n",
       "    'opcode': 'Info',\n",
       "    'process_id': 604,\n",
       "    'provider_guid': '{54849625-5478-4994-A5BA-3E3B0328C30D}',\n",
       "    'record_number': '3712653',\n",
       "    'source_name': 'Microsoft-Windows-Security-Auditing',\n",
       "    'tags': ['beats_input_codec_plain_applied'],\n",
       "    'task': 'Logoff',\n",
       "    'thread_id': 6040,\n",
       "    'type': 'wineventlog'},\n",
       "   '_type': 'doc'},\n",
       "  {'_id': '0GJZrmMB7NsdYXNzg2gY',\n",
       "   '_index': 'winlogbeat-6.2.4-2018.05.30',\n",
       "   '_score': 1.0,\n",
       "   '_source': {'@timestamp': '2018-05-30T00:01:38.348Z',\n",
       "    '@version': '1',\n",
       "    'beat': {'hostname': 'BIABAM', 'name': 'BIABAM', 'version': '6.2.4'},\n",
       "    'computer_name': 'BIABAM.bia.com',\n",
       "    'event_data': {'PrivilegeList': 'SeSecurityPrivilege\\n\\t\\t\\tSeBackupPrivilege\\n\\t\\t\\tSeRestorePrivilege\\n\\t\\t\\tSeTakeOwnershipPrivilege\\n\\t\\t\\tSeDebugPrivilege\\n\\t\\t\\tSeSystemEnvironmentPrivilege\\n\\t\\t\\tSeLoadDriverPrivilege\\n\\t\\t\\tSeImpersonatePrivilege\\n\\t\\t\\tSeEnableDelegationPrivilege',\n",
       "     'SubjectDomainName': 'BIA',\n",
       "     'SubjectLogonId': '0x2f258eb',\n",
       "     'SubjectUserName': 'BIABAM$',\n",
       "     'SubjectUserSid': 'S-1-5-18'},\n",
       "    'event_id': 4672,\n",
       "    'host': 'BIABAM',\n",
       "    'keywords': ['Audit Success'],\n",
       "    'level': 'Information',\n",
       "    'log_name': 'Security',\n",
       "    'message': 'Special privileges assigned to new logon.\\n\\nSubject:\\n\\tSecurity ID:\\t\\tS-1-5-18\\n\\tAccount Name:\\t\\tBIABAM$\\n\\tAccount Domain:\\t\\tBIA\\n\\tLogon ID:\\t\\t0x2F258EB\\n\\nPrivileges:\\t\\tSeSecurityPrivilege\\n\\t\\t\\tSeBackupPrivilege\\n\\t\\t\\tSeRestorePrivilege\\n\\t\\t\\tSeTakeOwnershipPrivilege\\n\\t\\t\\tSeDebugPrivilege\\n\\t\\t\\tSeSystemEnvironmentPrivilege\\n\\t\\t\\tSeLoadDriverPrivilege\\n\\t\\t\\tSeImpersonatePrivilege\\n\\t\\t\\tSeEnableDelegationPrivilege',\n",
       "    'opcode': 'Info',\n",
       "    'process_id': 604,\n",
       "    'provider_guid': '{54849625-5478-4994-A5BA-3E3B0328C30D}',\n",
       "    'record_number': '3712622',\n",
       "    'source_name': 'Microsoft-Windows-Security-Auditing',\n",
       "    'tags': ['beats_input_codec_plain_applied'],\n",
       "    'task': 'Special Logon',\n",
       "    'thread_id': 1956,\n",
       "    'type': 'wineventlog'},\n",
       "   '_type': 'doc'},\n",
       "  {'_id': '0WJZrmMB7NsdYXNzg2gY',\n",
       "   '_index': 'winlogbeat-6.2.4-2018.05.30',\n",
       "   '_score': 1.0,\n",
       "   '_source': {'@timestamp': '2018-05-30T00:01:38.364Z',\n",
       "    '@version': '1',\n",
       "    'beat': {'hostname': 'BIABAM', 'name': 'BIABAM', 'version': '6.2.4'},\n",
       "    'computer_name': 'BIABAM.bia.com',\n",
       "    'event_data': {'AuthenticationPackageName': 'Kerberos',\n",
       "     'ImpersonationLevel': '%%1833',\n",
       "     'IpAddress': 'fe80::8525:f3ee:c80e:333a',\n",
       "     'IpPort': '49579',\n",
       "     'KeyLength': '0',\n",
       "     'LmPackageName': '-',\n",
       "     'LogonGuid': '{0B53E2AB-DAC7-3A25-D206-5ED60772C950}',\n",
       "     'LogonProcessName': 'Kerberos',\n",
       "     'LogonType': '3',\n",
       "     'ProcessId': '0x0',\n",
       "     'ProcessName': '-',\n",
       "     'SubjectDomainName': '-',\n",
       "     'SubjectLogonId': '0x0',\n",
       "     'SubjectUserName': '-',\n",
       "     'SubjectUserSid': 'S-1-0-0',\n",
       "     'TargetDomainName': 'BIA',\n",
       "     'TargetLogonId': '0x2f2594e',\n",
       "     'TargetUserName': 'BIABAM$',\n",
       "     'TargetUserSid': 'S-1-5-18',\n",
       "     'TransmittedServices': '-',\n",
       "     'WorkstationName': '-'},\n",
       "    'event_id': 4624,\n",
       "    'host': 'BIABAM',\n",
       "    'keywords': ['Audit Success'],\n",
       "    'level': 'Information',\n",
       "    'log_name': 'Security',\n",
       "    'message': 'An account was successfully logged on.\\n\\nSubject:\\n\\tSecurity ID:\\t\\tS-1-0-0\\n\\tAccount Name:\\t\\t-\\n\\tAccount Domain:\\t\\t-\\n\\tLogon ID:\\t\\t0x0\\n\\nLogon Type:\\t\\t\\t3\\n\\nImpersonation Level:\\t\\tImpersonation\\n\\nNew Logon:\\n\\tSecurity ID:\\t\\tS-1-5-18\\n\\tAccount Name:\\t\\tBIABAM$\\n\\tAccount Domain:\\t\\tBIA\\n\\tLogon ID:\\t\\t0x2F2594E\\n\\tLogon GUID:\\t\\t{0B53E2AB-DAC7-3A25-D206-5ED60772C950}\\n\\nProcess Information:\\n\\tProcess ID:\\t\\t0x0\\n\\tProcess Name:\\t\\t-\\n\\nNetwork Information:\\n\\tWorkstation Name:\\t-\\n\\tSource Network Address:\\tfe80::8525:f3ee:c80e:333a\\n\\tSource Port:\\t\\t49579\\n\\nDetailed Authentication Information:\\n\\tLogon Process:\\t\\tKerberos\\n\\tAuthentication Package:\\tKerberos\\n\\tTransited Services:\\t-\\n\\tPackage Name (NTLM only):\\t-\\n\\tKey Length:\\t\\t0\\n\\nThis event is generated when a logon session is created. It is generated on the computer that was accessed.\\n\\nThe subject fields indicate the account on the local system which requested the logon. This is most commonly a service such as the Server service, or a local process such as Winlogon.exe or Services.exe.\\n\\nThe logon type field indicates the kind of logon that occurred. The most common types are 2 (interactive) and 3 (network).\\n\\nThe New Logon fields indicate the account for whom the new logon was created, i.e. the account that was logged on.\\n\\nThe network fields indicate where a remote logon request originated. Workstation name is not always available and may be left blank in some cases.\\n\\nThe impersonation level field indicates the extent to which a process in the logon session can impersonate.\\n\\nThe authentication information fields provide detailed information about this specific logon request.\\n\\t- Logon GUID is a unique identifier that can be used to correlate this event with a KDC event.\\n\\t- Transited services indicate which intermediate services have participated in this logon request.\\n\\t- Package name indicates which sub-protocol was used among the NTLM protocols.\\n\\t- Key length indicates the length of the generated session key. This will be 0 if no session key was requested.',\n",
       "    'opcode': 'Info',\n",
       "    'process_id': 604,\n",
       "    'provider_guid': '{54849625-5478-4994-A5BA-3E3B0328C30D}',\n",
       "    'record_number': '3712626',\n",
       "    'source_name': 'Microsoft-Windows-Security-Auditing',\n",
       "    'tags': ['beats_input_codec_plain_applied'],\n",
       "    'task': 'Logon',\n",
       "    'thread_id': 1888,\n",
       "    'type': 'wineventlog',\n",
       "    'version': 1},\n",
       "   '_type': 'doc'},\n",
       "  {'_id': 'xWJYrmMB7NsdYXNzMGgW',\n",
       "   '_index': 'winlogbeat-6.2.4-2018.05.30',\n",
       "   '_score': 1.0,\n",
       "   '_source': {'@timestamp': '2018-05-30T00:00:11.074Z',\n",
       "    '@version': '1',\n",
       "    'beat': {'hostname': 'BIABAM', 'name': 'BIABAM', 'version': '6.2.4'},\n",
       "    'computer_name': 'BIABAM.bia.com',\n",
       "    'event_data': {'AuthenticationPackageName': 'Kerberos',\n",
       "     'ImpersonationLevel': '%%1833',\n",
       "     'IpAddress': '169.254.250.50',\n",
       "     'IpPort': '49561',\n",
       "     'KeyLength': '0',\n",
       "     'LmPackageName': '-',\n",
       "     'LogonGuid': '{CB6871D5-A5AB-DF69-33D5-4CAADDE042D8}',\n",
       "     'LogonProcessName': 'Kerberos',\n",
       "     'LogonType': '3',\n",
       "     'ProcessId': '0x0',\n",
       "     'ProcessName': '-',\n",
       "     'SubjectDomainName': '-',\n",
       "     'SubjectLogonId': '0x0',\n",
       "     'SubjectUserName': '-',\n",
       "     'SubjectUserSid': 'S-1-0-0',\n",
       "     'TargetDomainName': 'BIA',\n",
       "     'TargetLogonId': '0x2f1f718',\n",
       "     'TargetUserName': 'BIABAM$',\n",
       "     'TargetUserSid': 'S-1-5-18',\n",
       "     'TransmittedServices': '-',\n",
       "     'WorkstationName': '-'},\n",
       "    'event_id': 4624,\n",
       "    'host': 'BIABAM',\n",
       "    'keywords': ['Audit Success'],\n",
       "    'level': 'Information',\n",
       "    'log_name': 'Security',\n",
       "    'message': 'An account was successfully logged on.\\n\\nSubject:\\n\\tSecurity ID:\\t\\tS-1-0-0\\n\\tAccount Name:\\t\\t-\\n\\tAccount Domain:\\t\\t-\\n\\tLogon ID:\\t\\t0x0\\n\\nLogon Type:\\t\\t\\t3\\n\\nImpersonation Level:\\t\\tImpersonation\\n\\nNew Logon:\\n\\tSecurity ID:\\t\\tS-1-5-18\\n\\tAccount Name:\\t\\tBIABAM$\\n\\tAccount Domain:\\t\\tBIA\\n\\tLogon ID:\\t\\t0x2F1F718\\n\\tLogon GUID:\\t\\t{CB6871D5-A5AB-DF69-33D5-4CAADDE042D8}\\n\\nProcess Information:\\n\\tProcess ID:\\t\\t0x0\\n\\tProcess Name:\\t\\t-\\n\\nNetwork Information:\\n\\tWorkstation Name:\\t-\\n\\tSource Network Address:\\t169.254.250.50\\n\\tSource Port:\\t\\t49561\\n\\nDetailed Authentication Information:\\n\\tLogon Process:\\t\\tKerberos\\n\\tAuthentication Package:\\tKerberos\\n\\tTransited Services:\\t-\\n\\tPackage Name (NTLM only):\\t-\\n\\tKey Length:\\t\\t0\\n\\nThis event is generated when a logon session is created. It is generated on the computer that was accessed.\\n\\nThe subject fields indicate the account on the local system which requested the logon. This is most commonly a service such as the Server service, or a local process such as Winlogon.exe or Services.exe.\\n\\nThe logon type field indicates the kind of logon that occurred. The most common types are 2 (interactive) and 3 (network).\\n\\nThe New Logon fields indicate the account for whom the new logon was created, i.e. the account that was logged on.\\n\\nThe network fields indicate where a remote logon request originated. Workstation name is not always available and may be left blank in some cases.\\n\\nThe impersonation level field indicates the extent to which a process in the logon session can impersonate.\\n\\nThe authentication information fields provide detailed information about this specific logon request.\\n\\t- Logon GUID is a unique identifier that can be used to correlate this event with a KDC event.\\n\\t- Transited services indicate which intermediate services have participated in this logon request.\\n\\t- Package name indicates which sub-protocol was used among the NTLM protocols.\\n\\t- Key length indicates the length of the generated session key. This will be 0 if no session key was requested.',\n",
       "    'opcode': 'Info',\n",
       "    'process_id': 604,\n",
       "    'provider_guid': '{54849625-5478-4994-A5BA-3E3B0328C30D}',\n",
       "    'record_number': '3712610',\n",
       "    'source_name': 'Microsoft-Windows-Security-Auditing',\n",
       "    'tags': ['beats_input_codec_plain_applied'],\n",
       "    'task': 'Logon',\n",
       "    'thread_id': 1956,\n",
       "    'type': 'wineventlog',\n",
       "    'version': 1},\n",
       "   '_type': 'doc'},\n",
       "  {'_id': '4GJcrmMB7NsdYXNzhmhD',\n",
       "   '_index': 'winlogbeat-6.2.4-2018.05.30',\n",
       "   '_score': 1.0,\n",
       "   '_source': {'@timestamp': '2018-05-30T00:04:55.824Z',\n",
       "    '@version': '1',\n",
       "    'beat': {'hostname': 'BIABAM', 'name': 'BIABAM', 'version': '6.2.4'},\n",
       "    'computer_name': 'BIABAM.bia.com',\n",
       "    'event_data': {'AuthenticationPackageName': 'Kerberos',\n",
       "     'ImpersonationLevel': '%%1833',\n",
       "     'IpAddress': '::1',\n",
       "     'IpPort': '49610',\n",
       "     'KeyLength': '0',\n",
       "     'LmPackageName': '-',\n",
       "     'LogonGuid': '{0B53E2AB-DAC7-3A25-D206-5ED60772C950}',\n",
       "     'LogonProcessName': 'Kerberos',\n",
       "     'LogonType': '3',\n",
       "     'ProcessId': '0x0',\n",
       "     'ProcessName': '-',\n",
       "     'SubjectDomainName': '-',\n",
       "     'SubjectLogonId': '0x0',\n",
       "     'SubjectUserName': '-',\n",
       "     'SubjectUserSid': 'S-1-0-0',\n",
       "     'TargetDomainName': 'BIA',\n",
       "     'TargetLogonId': '0x2f32f0c',\n",
       "     'TargetUserName': 'BIABAM$',\n",
       "     'TargetUserSid': 'S-1-5-18',\n",
       "     'TransmittedServices': '-',\n",
       "     'WorkstationName': '-'},\n",
       "    'event_id': 4624,\n",
       "    'host': 'BIABAM',\n",
       "    'keywords': ['Audit Success'],\n",
       "    'level': 'Information',\n",
       "    'log_name': 'Security',\n",
       "    'message': 'An account was successfully logged on.\\n\\nSubject:\\n\\tSecurity ID:\\t\\tS-1-0-0\\n\\tAccount Name:\\t\\t-\\n\\tAccount Domain:\\t\\t-\\n\\tLogon ID:\\t\\t0x0\\n\\nLogon Type:\\t\\t\\t3\\n\\nImpersonation Level:\\t\\tImpersonation\\n\\nNew Logon:\\n\\tSecurity ID:\\t\\tS-1-5-18\\n\\tAccount Name:\\t\\tBIABAM$\\n\\tAccount Domain:\\t\\tBIA\\n\\tLogon ID:\\t\\t0x2F32F0C\\n\\tLogon GUID:\\t\\t{0B53E2AB-DAC7-3A25-D206-5ED60772C950}\\n\\nProcess Information:\\n\\tProcess ID:\\t\\t0x0\\n\\tProcess Name:\\t\\t-\\n\\nNetwork Information:\\n\\tWorkstation Name:\\t-\\n\\tSource Network Address:\\t::1\\n\\tSource Port:\\t\\t49610\\n\\nDetailed Authentication Information:\\n\\tLogon Process:\\t\\tKerberos\\n\\tAuthentication Package:\\tKerberos\\n\\tTransited Services:\\t-\\n\\tPackage Name (NTLM only):\\t-\\n\\tKey Length:\\t\\t0\\n\\nThis event is generated when a logon session is created. It is generated on the computer that was accessed.\\n\\nThe subject fields indicate the account on the local system which requested the logon. This is most commonly a service such as the Server service, or a local process such as Winlogon.exe or Services.exe.\\n\\nThe logon type field indicates the kind of logon that occurred. The most common types are 2 (interactive) and 3 (network).\\n\\nThe New Logon fields indicate the account for whom the new logon was created, i.e. the account that was logged on.\\n\\nThe network fields indicate where a remote logon request originated. Workstation name is not always available and may be left blank in some cases.\\n\\nThe impersonation level field indicates the extent to which a process in the logon session can impersonate.\\n\\nThe authentication information fields provide detailed information about this specific logon request.\\n\\t- Logon GUID is a unique identifier that can be used to correlate this event with a KDC event.\\n\\t- Transited services indicate which intermediate services have participated in this logon request.\\n\\t- Package name indicates which sub-protocol was used among the NTLM protocols.\\n\\t- Key length indicates the length of the generated session key. This will be 0 if no session key was requested.',\n",
       "    'opcode': 'Info',\n",
       "    'process_id': 604,\n",
       "    'provider_guid': '{54849625-5478-4994-A5BA-3E3B0328C30D}',\n",
       "    'record_number': '3712639',\n",
       "    'source_name': 'Microsoft-Windows-Security-Auditing',\n",
       "    'tags': ['beats_input_codec_plain_applied'],\n",
       "    'task': 'Logon',\n",
       "    'thread_id': 1888,\n",
       "    'type': 'wineventlog',\n",
       "    'version': 1},\n",
       "   '_type': 'doc'},\n",
       "  {'_id': 'vmJYrmMB7NsdYXNzMGgW',\n",
       "   '_index': 'winlogbeat-6.2.4-2018.05.30',\n",
       "   '_score': 1.0,\n",
       "   '_source': {'@timestamp': '2018-05-30T00:00:11.074Z',\n",
       "    '@version': '1',\n",
       "    'beat': {'hostname': 'BIABAM', 'name': 'BIABAM', 'version': '6.2.4'},\n",
       "    'computer_name': 'BIABAM.bia.com',\n",
       "    'event_data': {'PrivilegeList': 'SeSecurityPrivilege\\n\\t\\t\\tSeBackupPrivilege\\n\\t\\t\\tSeRestorePrivilege\\n\\t\\t\\tSeTakeOwnershipPrivilege\\n\\t\\t\\tSeDebugPrivilege\\n\\t\\t\\tSeSystemEnvironmentPrivilege\\n\\t\\t\\tSeLoadDriverPrivilege\\n\\t\\t\\tSeImpersonatePrivilege\\n\\t\\t\\tSeEnableDelegationPrivilege',\n",
       "     'SubjectDomainName': 'BIA',\n",
       "     'SubjectLogonId': '0x2f1f5fe',\n",
       "     'SubjectUserName': 'BIABAM$',\n",
       "     'SubjectUserSid': 'S-1-5-18'},\n",
       "    'event_id': 4672,\n",
       "    'host': 'BIABAM',\n",
       "    'keywords': ['Audit Success'],\n",
       "    'level': 'Information',\n",
       "    'log_name': 'Security',\n",
       "    'message': 'Special privileges assigned to new logon.\\n\\nSubject:\\n\\tSecurity ID:\\t\\tS-1-5-18\\n\\tAccount Name:\\t\\tBIABAM$\\n\\tAccount Domain:\\t\\tBIA\\n\\tLogon ID:\\t\\t0x2F1F5FE\\n\\nPrivileges:\\t\\tSeSecurityPrivilege\\n\\t\\t\\tSeBackupPrivilege\\n\\t\\t\\tSeRestorePrivilege\\n\\t\\t\\tSeTakeOwnershipPrivilege\\n\\t\\t\\tSeDebugPrivilege\\n\\t\\t\\tSeSystemEnvironmentPrivilege\\n\\t\\t\\tSeLoadDriverPrivilege\\n\\t\\t\\tSeImpersonatePrivilege\\n\\t\\t\\tSeEnableDelegationPrivilege',\n",
       "    'opcode': 'Info',\n",
       "    'process_id': 604,\n",
       "    'provider_guid': '{54849625-5478-4994-A5BA-3E3B0328C30D}',\n",
       "    'record_number': '3712605',\n",
       "    'source_name': 'Microsoft-Windows-Security-Auditing',\n",
       "    'tags': ['beats_input_codec_plain_applied'],\n",
       "    'task': 'Special Logon',\n",
       "    'thread_id': 1888,\n",
       "    'type': 'wineventlog'},\n",
       "   '_type': 'doc'},\n",
       "  {'_id': 'wGJYrmMB7NsdYXNzMGgW',\n",
       "   '_index': 'winlogbeat-6.2.4-2018.05.30',\n",
       "   '_score': 1.0,\n",
       "   '_source': {'@timestamp': '2018-05-30T00:00:11.199Z',\n",
       "    '@version': '1',\n",
       "    'beat': {'hostname': 'BIABAM', 'name': 'BIABAM', 'version': '6.2.4'},\n",
       "    'computer_name': 'BIABAM.bia.com',\n",
       "    'event_data': {'LogonType': '3',\n",
       "     'TargetDomainName': 'BIA',\n",
       "     'TargetLogonId': '0x2f1f718',\n",
       "     'TargetUserName': 'BIABAM$',\n",
       "     'TargetUserSid': 'S-1-5-18'},\n",
       "    'event_id': 4634,\n",
       "    'host': 'BIABAM',\n",
       "    'keywords': ['Audit Success'],\n",
       "    'level': 'Information',\n",
       "    'log_name': 'Security',\n",
       "    'message': 'An account was logged off.\\n\\nSubject:\\n\\tSecurity ID:\\t\\tS-1-5-18\\n\\tAccount Name:\\t\\tBIABAM$\\n\\tAccount Domain:\\t\\tBIA\\n\\tLogon ID:\\t\\t0x2F1F718\\n\\nLogon Type:\\t\\t\\t3\\n\\nThis event is generated when a logon session is destroyed. It may be positively correlated with a logon event using the Logon ID value. Logon IDs are only unique between reboots on the same computer.',\n",
       "    'opcode': 'Info',\n",
       "    'process_id': 604,\n",
       "    'provider_guid': '{54849625-5478-4994-A5BA-3E3B0328C30D}',\n",
       "    'record_number': '3712613',\n",
       "    'source_name': 'Microsoft-Windows-Security-Auditing',\n",
       "    'tags': ['beats_input_codec_plain_applied'],\n",
       "    'task': 'Logoff',\n",
       "    'thread_id': 6040,\n",
       "    'type': 'wineventlog'},\n",
       "   '_type': 'doc'}],\n",
       " 'max_score': 1.0,\n",
       " 'total': 8481}"
      ]
     },
     "execution_count": 41,
     "metadata": {},
     "output_type": "execute_result"
    }
   ],
   "source": [
    "es1[\"hits\"]"
   ]
  },
  {
   "cell_type": "code",
   "execution_count": 42,
   "metadata": {},
   "outputs": [
    {
     "data": {
      "text/plain": [
       "dict_keys(['total', 'max_score', 'hits'])"
      ]
     },
     "execution_count": 42,
     "metadata": {},
     "output_type": "execute_result"
    }
   ],
   "source": [
    "es1[\"hits\"].keys()"
   ]
  },
  {
   "cell_type": "code",
   "execution_count": 44,
   "metadata": {},
   "outputs": [
    {
     "data": {
      "text/plain": [
       "8481"
      ]
     },
     "execution_count": 44,
     "metadata": {},
     "output_type": "execute_result"
    }
   ],
   "source": [
    "#number of hits\n",
    "es1[\"hits\"]['total']"
   ]
  },
  {
   "cell_type": "code",
   "execution_count": 58,
   "metadata": {},
   "outputs": [
    {
     "data": {
      "text/html": [
       "<div>\n",
       "<style scoped>\n",
       "    .dataframe tbody tr th:only-of-type {\n",
       "        vertical-align: middle;\n",
       "    }\n",
       "\n",
       "    .dataframe tbody tr th {\n",
       "        vertical-align: top;\n",
       "    }\n",
       "\n",
       "    .dataframe thead th {\n",
       "        text-align: right;\n",
       "    }\n",
       "</style>\n",
       "<table border=\"1\" class=\"dataframe\">\n",
       "  <thead>\n",
       "    <tr style=\"text-align: right;\">\n",
       "      <th></th>\n",
       "      <th>_id</th>\n",
       "      <th>_index</th>\n",
       "      <th>_score</th>\n",
       "      <th>_source</th>\n",
       "      <th>_type</th>\n",
       "    </tr>\n",
       "  </thead>\n",
       "  <tbody>\n",
       "    <tr>\n",
       "      <th>@timestamp</th>\n",
       "      <td>0WJZrmMB7NsdYXNzg2gY</td>\n",
       "      <td>winlogbeat-6.2.4-2018.05.30</td>\n",
       "      <td>1.0</td>\n",
       "      <td>2018-05-30T00:01:38.364Z</td>\n",
       "      <td>doc</td>\n",
       "    </tr>\n",
       "    <tr>\n",
       "      <th>@version</th>\n",
       "      <td>0WJZrmMB7NsdYXNzg2gY</td>\n",
       "      <td>winlogbeat-6.2.4-2018.05.30</td>\n",
       "      <td>1.0</td>\n",
       "      <td>1</td>\n",
       "      <td>doc</td>\n",
       "    </tr>\n",
       "    <tr>\n",
       "      <th>beat</th>\n",
       "      <td>0WJZrmMB7NsdYXNzg2gY</td>\n",
       "      <td>winlogbeat-6.2.4-2018.05.30</td>\n",
       "      <td>1.0</td>\n",
       "      <td>{'name': 'BIABAM', 'hostname': 'BIABAM', 'vers...</td>\n",
       "      <td>doc</td>\n",
       "    </tr>\n",
       "    <tr>\n",
       "      <th>computer_name</th>\n",
       "      <td>0WJZrmMB7NsdYXNzg2gY</td>\n",
       "      <td>winlogbeat-6.2.4-2018.05.30</td>\n",
       "      <td>1.0</td>\n",
       "      <td>BIABAM.bia.com</td>\n",
       "      <td>doc</td>\n",
       "    </tr>\n",
       "    <tr>\n",
       "      <th>event_data</th>\n",
       "      <td>0WJZrmMB7NsdYXNzg2gY</td>\n",
       "      <td>winlogbeat-6.2.4-2018.05.30</td>\n",
       "      <td>1.0</td>\n",
       "      <td>{'SubjectLogonId': '0x0', 'KeyLength': '0', 'L...</td>\n",
       "      <td>doc</td>\n",
       "    </tr>\n",
       "    <tr>\n",
       "      <th>event_id</th>\n",
       "      <td>0WJZrmMB7NsdYXNzg2gY</td>\n",
       "      <td>winlogbeat-6.2.4-2018.05.30</td>\n",
       "      <td>1.0</td>\n",
       "      <td>4624</td>\n",
       "      <td>doc</td>\n",
       "    </tr>\n",
       "    <tr>\n",
       "      <th>host</th>\n",
       "      <td>0WJZrmMB7NsdYXNzg2gY</td>\n",
       "      <td>winlogbeat-6.2.4-2018.05.30</td>\n",
       "      <td>1.0</td>\n",
       "      <td>BIABAM</td>\n",
       "      <td>doc</td>\n",
       "    </tr>\n",
       "    <tr>\n",
       "      <th>keywords</th>\n",
       "      <td>0WJZrmMB7NsdYXNzg2gY</td>\n",
       "      <td>winlogbeat-6.2.4-2018.05.30</td>\n",
       "      <td>1.0</td>\n",
       "      <td>[Audit Success]</td>\n",
       "      <td>doc</td>\n",
       "    </tr>\n",
       "    <tr>\n",
       "      <th>level</th>\n",
       "      <td>0WJZrmMB7NsdYXNzg2gY</td>\n",
       "      <td>winlogbeat-6.2.4-2018.05.30</td>\n",
       "      <td>1.0</td>\n",
       "      <td>Information</td>\n",
       "      <td>doc</td>\n",
       "    </tr>\n",
       "    <tr>\n",
       "      <th>log_name</th>\n",
       "      <td>0WJZrmMB7NsdYXNzg2gY</td>\n",
       "      <td>winlogbeat-6.2.4-2018.05.30</td>\n",
       "      <td>1.0</td>\n",
       "      <td>Security</td>\n",
       "      <td>doc</td>\n",
       "    </tr>\n",
       "    <tr>\n",
       "      <th>message</th>\n",
       "      <td>0WJZrmMB7NsdYXNzg2gY</td>\n",
       "      <td>winlogbeat-6.2.4-2018.05.30</td>\n",
       "      <td>1.0</td>\n",
       "      <td>An account was successfully logged on.\\n\\nSubj...</td>\n",
       "      <td>doc</td>\n",
       "    </tr>\n",
       "    <tr>\n",
       "      <th>opcode</th>\n",
       "      <td>0WJZrmMB7NsdYXNzg2gY</td>\n",
       "      <td>winlogbeat-6.2.4-2018.05.30</td>\n",
       "      <td>1.0</td>\n",
       "      <td>Info</td>\n",
       "      <td>doc</td>\n",
       "    </tr>\n",
       "    <tr>\n",
       "      <th>process_id</th>\n",
       "      <td>0WJZrmMB7NsdYXNzg2gY</td>\n",
       "      <td>winlogbeat-6.2.4-2018.05.30</td>\n",
       "      <td>1.0</td>\n",
       "      <td>604</td>\n",
       "      <td>doc</td>\n",
       "    </tr>\n",
       "    <tr>\n",
       "      <th>provider_guid</th>\n",
       "      <td>0WJZrmMB7NsdYXNzg2gY</td>\n",
       "      <td>winlogbeat-6.2.4-2018.05.30</td>\n",
       "      <td>1.0</td>\n",
       "      <td>{54849625-5478-4994-A5BA-3E3B0328C30D}</td>\n",
       "      <td>doc</td>\n",
       "    </tr>\n",
       "    <tr>\n",
       "      <th>record_number</th>\n",
       "      <td>0WJZrmMB7NsdYXNzg2gY</td>\n",
       "      <td>winlogbeat-6.2.4-2018.05.30</td>\n",
       "      <td>1.0</td>\n",
       "      <td>3712626</td>\n",
       "      <td>doc</td>\n",
       "    </tr>\n",
       "    <tr>\n",
       "      <th>source_name</th>\n",
       "      <td>0WJZrmMB7NsdYXNzg2gY</td>\n",
       "      <td>winlogbeat-6.2.4-2018.05.30</td>\n",
       "      <td>1.0</td>\n",
       "      <td>Microsoft-Windows-Security-Auditing</td>\n",
       "      <td>doc</td>\n",
       "    </tr>\n",
       "    <tr>\n",
       "      <th>tags</th>\n",
       "      <td>0WJZrmMB7NsdYXNzg2gY</td>\n",
       "      <td>winlogbeat-6.2.4-2018.05.30</td>\n",
       "      <td>1.0</td>\n",
       "      <td>[beats_input_codec_plain_applied]</td>\n",
       "      <td>doc</td>\n",
       "    </tr>\n",
       "    <tr>\n",
       "      <th>task</th>\n",
       "      <td>0WJZrmMB7NsdYXNzg2gY</td>\n",
       "      <td>winlogbeat-6.2.4-2018.05.30</td>\n",
       "      <td>1.0</td>\n",
       "      <td>Logon</td>\n",
       "      <td>doc</td>\n",
       "    </tr>\n",
       "    <tr>\n",
       "      <th>thread_id</th>\n",
       "      <td>0WJZrmMB7NsdYXNzg2gY</td>\n",
       "      <td>winlogbeat-6.2.4-2018.05.30</td>\n",
       "      <td>1.0</td>\n",
       "      <td>1888</td>\n",
       "      <td>doc</td>\n",
       "    </tr>\n",
       "    <tr>\n",
       "      <th>type</th>\n",
       "      <td>0WJZrmMB7NsdYXNzg2gY</td>\n",
       "      <td>winlogbeat-6.2.4-2018.05.30</td>\n",
       "      <td>1.0</td>\n",
       "      <td>wineventlog</td>\n",
       "      <td>doc</td>\n",
       "    </tr>\n",
       "    <tr>\n",
       "      <th>version</th>\n",
       "      <td>0WJZrmMB7NsdYXNzg2gY</td>\n",
       "      <td>winlogbeat-6.2.4-2018.05.30</td>\n",
       "      <td>1.0</td>\n",
       "      <td>1</td>\n",
       "      <td>doc</td>\n",
       "    </tr>\n",
       "  </tbody>\n",
       "</table>\n",
       "</div>"
      ],
      "text/plain": [
       "                                _id                       _index  _score  \\\n",
       "@timestamp     0WJZrmMB7NsdYXNzg2gY  winlogbeat-6.2.4-2018.05.30     1.0   \n",
       "@version       0WJZrmMB7NsdYXNzg2gY  winlogbeat-6.2.4-2018.05.30     1.0   \n",
       "beat           0WJZrmMB7NsdYXNzg2gY  winlogbeat-6.2.4-2018.05.30     1.0   \n",
       "computer_name  0WJZrmMB7NsdYXNzg2gY  winlogbeat-6.2.4-2018.05.30     1.0   \n",
       "event_data     0WJZrmMB7NsdYXNzg2gY  winlogbeat-6.2.4-2018.05.30     1.0   \n",
       "event_id       0WJZrmMB7NsdYXNzg2gY  winlogbeat-6.2.4-2018.05.30     1.0   \n",
       "host           0WJZrmMB7NsdYXNzg2gY  winlogbeat-6.2.4-2018.05.30     1.0   \n",
       "keywords       0WJZrmMB7NsdYXNzg2gY  winlogbeat-6.2.4-2018.05.30     1.0   \n",
       "level          0WJZrmMB7NsdYXNzg2gY  winlogbeat-6.2.4-2018.05.30     1.0   \n",
       "log_name       0WJZrmMB7NsdYXNzg2gY  winlogbeat-6.2.4-2018.05.30     1.0   \n",
       "message        0WJZrmMB7NsdYXNzg2gY  winlogbeat-6.2.4-2018.05.30     1.0   \n",
       "opcode         0WJZrmMB7NsdYXNzg2gY  winlogbeat-6.2.4-2018.05.30     1.0   \n",
       "process_id     0WJZrmMB7NsdYXNzg2gY  winlogbeat-6.2.4-2018.05.30     1.0   \n",
       "provider_guid  0WJZrmMB7NsdYXNzg2gY  winlogbeat-6.2.4-2018.05.30     1.0   \n",
       "record_number  0WJZrmMB7NsdYXNzg2gY  winlogbeat-6.2.4-2018.05.30     1.0   \n",
       "source_name    0WJZrmMB7NsdYXNzg2gY  winlogbeat-6.2.4-2018.05.30     1.0   \n",
       "tags           0WJZrmMB7NsdYXNzg2gY  winlogbeat-6.2.4-2018.05.30     1.0   \n",
       "task           0WJZrmMB7NsdYXNzg2gY  winlogbeat-6.2.4-2018.05.30     1.0   \n",
       "thread_id      0WJZrmMB7NsdYXNzg2gY  winlogbeat-6.2.4-2018.05.30     1.0   \n",
       "type           0WJZrmMB7NsdYXNzg2gY  winlogbeat-6.2.4-2018.05.30     1.0   \n",
       "version        0WJZrmMB7NsdYXNzg2gY  winlogbeat-6.2.4-2018.05.30     1.0   \n",
       "\n",
       "                                                         _source _type  \n",
       "@timestamp                              2018-05-30T00:01:38.364Z   doc  \n",
       "@version                                                       1   doc  \n",
       "beat           {'name': 'BIABAM', 'hostname': 'BIABAM', 'vers...   doc  \n",
       "computer_name                                     BIABAM.bia.com   doc  \n",
       "event_data     {'SubjectLogonId': '0x0', 'KeyLength': '0', 'L...   doc  \n",
       "event_id                                                    4624   doc  \n",
       "host                                                      BIABAM   doc  \n",
       "keywords                                         [Audit Success]   doc  \n",
       "level                                                Information   doc  \n",
       "log_name                                                Security   doc  \n",
       "message        An account was successfully logged on.\\n\\nSubj...   doc  \n",
       "opcode                                                      Info   doc  \n",
       "process_id                                                   604   doc  \n",
       "provider_guid             {54849625-5478-4994-A5BA-3E3B0328C30D}   doc  \n",
       "record_number                                            3712626   doc  \n",
       "source_name                  Microsoft-Windows-Security-Auditing   doc  \n",
       "tags                           [beats_input_codec_plain_applied]   doc  \n",
       "task                                                       Logon   doc  \n",
       "thread_id                                                   1888   doc  \n",
       "type                                                 wineventlog   doc  \n",
       "version                                                        1   doc  "
      ]
     },
     "execution_count": 58,
     "metadata": {},
     "output_type": "execute_result"
    }
   ],
   "source": [
    "pd.DataFrame(es1[\"hits\"][\"hits\"][5])"
   ]
  },
  {
   "cell_type": "code",
   "execution_count": 63,
   "metadata": {},
   "outputs": [
    {
     "data": {
      "text/plain": [
       "dict_keys(['record_number', 'log_name', 'tags', 'event_id', 'source_name', '@timestamp', 'computer_name', 'beat', 'level', 'provider_guid', 'opcode', 'type', 'message', 'event_data', '@version', 'task', 'version', 'process_id', 'host', 'thread_id', 'keywords'])"
      ]
     },
     "execution_count": 63,
     "metadata": {},
     "output_type": "execute_result"
    }
   ],
   "source": [
    "es1[\"hits\"][\"hits\"][5]['_source'].keys()"
   ]
  },
  {
   "cell_type": "code",
   "execution_count": 67,
   "metadata": {},
   "outputs": [
    {
     "name": "stdout",
     "output_type": "stream",
     "text": [
      "{\n",
      "      \"@timestamp\": \"2018-05-30T00:01:38.364Z\",\n",
      "      \"@version\": \"1\",\n",
      "      \"beat\": {\n",
      "            \"hostname\": \"BIABAM\",\n",
      "            \"name\": \"BIABAM\",\n",
      "            \"version\": \"6.2.4\"\n",
      "      },\n",
      "      \"computer_name\": \"BIABAM.bia.com\",\n",
      "      \"event_data\": {\n",
      "            \"AuthenticationPackageName\": \"Kerberos\",\n",
      "            \"ImpersonationLevel\": \"%%1833\",\n",
      "            \"IpAddress\": \"fe80::8525:f3ee:c80e:333a\",\n",
      "            \"IpPort\": \"49579\",\n",
      "            \"KeyLength\": \"0\",\n",
      "            \"LmPackageName\": \"-\",\n",
      "            \"LogonGuid\": \"{0B53E2AB-DAC7-3A25-D206-5ED60772C950}\",\n",
      "            \"LogonProcessName\": \"Kerberos\",\n",
      "            \"LogonType\": \"3\",\n",
      "            \"ProcessId\": \"0x0\",\n",
      "            \"ProcessName\": \"-\",\n",
      "            \"SubjectDomainName\": \"-\",\n",
      "            \"SubjectLogonId\": \"0x0\",\n",
      "            \"SubjectUserName\": \"-\",\n",
      "            \"SubjectUserSid\": \"S-1-0-0\",\n",
      "            \"TargetDomainName\": \"BIA\",\n",
      "            \"TargetLogonId\": \"0x2f2594e\",\n",
      "            \"TargetUserName\": \"BIABAM$\",\n",
      "            \"TargetUserSid\": \"S-1-5-18\",\n",
      "            \"TransmittedServices\": \"-\",\n",
      "            \"WorkstationName\": \"-\"\n",
      "      },\n",
      "      \"event_id\": 4624,\n",
      "      \"host\": \"BIABAM\",\n",
      "      \"keywords\": [\n",
      "            \"Audit Success\"\n",
      "      ],\n",
      "      \"level\": \"Information\",\n",
      "      \"log_name\": \"Security\",\n",
      "      \"message\": \"An account was successfully logged on.\\n\\nSubject:\\n\\tSecurity ID:\\t\\tS-1-0-0\\n\\tAccount Name:\\t\\t-\\n\\tAccount Domain:\\t\\t-\\n\\tLogon ID:\\t\\t0x0\\n\\nLogon Type:\\t\\t\\t3\\n\\nImpersonation Level:\\t\\tImpersonation\\n\\nNew Logon:\\n\\tSecurity ID:\\t\\tS-1-5-18\\n\\tAccount Name:\\t\\tBIABAM$\\n\\tAccount Domain:\\t\\tBIA\\n\\tLogon ID:\\t\\t0x2F2594E\\n\\tLogon GUID:\\t\\t{0B53E2AB-DAC7-3A25-D206-5ED60772C950}\\n\\nProcess Information:\\n\\tProcess ID:\\t\\t0x0\\n\\tProcess Name:\\t\\t-\\n\\nNetwork Information:\\n\\tWorkstation Name:\\t-\\n\\tSource Network Address:\\tfe80::8525:f3ee:c80e:333a\\n\\tSource Port:\\t\\t49579\\n\\nDetailed Authentication Information:\\n\\tLogon Process:\\t\\tKerberos\\n\\tAuthentication Package:\\tKerberos\\n\\tTransited Services:\\t-\\n\\tPackage Name (NTLM only):\\t-\\n\\tKey Length:\\t\\t0\\n\\nThis event is generated when a logon session is created. It is generated on the computer that was accessed.\\n\\nThe subject fields indicate the account on the local system which requested the logon. This is most commonly a service such as the Server service, or a local process such as Winlogon.exe or Services.exe.\\n\\nThe logon type field indicates the kind of logon that occurred. The most common types are 2 (interactive) and 3 (network).\\n\\nThe New Logon fields indicate the account for whom the new logon was created, i.e. the account that was logged on.\\n\\nThe network fields indicate where a remote logon request originated. Workstation name is not always available and may be left blank in some cases.\\n\\nThe impersonation level field indicates the extent to which a process in the logon session can impersonate.\\n\\nThe authentication information fields provide detailed information about this specific logon request.\\n\\t- Logon GUID is a unique identifier that can be used to correlate this event with a KDC event.\\n\\t- Transited services indicate which intermediate services have participated in this logon request.\\n\\t- Package name indicates which sub-protocol was used among the NTLM protocols.\\n\\t- Key length indicates the length of the generated session key. This will be 0 if no session key was requested.\",\n",
      "      \"opcode\": \"Info\",\n",
      "      \"process_id\": 604,\n",
      "      \"provider_guid\": \"{54849625-5478-4994-A5BA-3E3B0328C30D}\",\n",
      "      \"record_number\": \"3712626\",\n",
      "      \"source_name\": \"Microsoft-Windows-Security-Auditing\",\n",
      "      \"tags\": [\n",
      "            \"beats_input_codec_plain_applied\"\n",
      "      ],\n",
      "      \"task\": \"Logon\",\n",
      "      \"thread_id\": 1888,\n",
      "      \"type\": \"wineventlog\",\n",
      "      \"version\": 1\n",
      "}\n"
     ]
    }
   ],
   "source": [
    "print (json.dumps(es1[\"hits\"][\"hits\"][5]['_source'] , indent=6 , sort_keys=True))"
   ]
  },
  {
   "cell_type": "code",
   "execution_count": 65,
   "metadata": {},
   "outputs": [
    {
     "data": {
      "text/plain": [
       "{'@timestamp': '2018-05-30T00:01:38.364Z',\n",
       " '@version': '1',\n",
       " 'beat': {'hostname': 'BIABAM', 'name': 'BIABAM', 'version': '6.2.4'},\n",
       " 'computer_name': 'BIABAM.bia.com',\n",
       " 'event_data': {'AuthenticationPackageName': 'Kerberos',\n",
       "  'ImpersonationLevel': '%%1833',\n",
       "  'IpAddress': 'fe80::8525:f3ee:c80e:333a',\n",
       "  'IpPort': '49579',\n",
       "  'KeyLength': '0',\n",
       "  'LmPackageName': '-',\n",
       "  'LogonGuid': '{0B53E2AB-DAC7-3A25-D206-5ED60772C950}',\n",
       "  'LogonProcessName': 'Kerberos',\n",
       "  'LogonType': '3',\n",
       "  'ProcessId': '0x0',\n",
       "  'ProcessName': '-',\n",
       "  'SubjectDomainName': '-',\n",
       "  'SubjectLogonId': '0x0',\n",
       "  'SubjectUserName': '-',\n",
       "  'SubjectUserSid': 'S-1-0-0',\n",
       "  'TargetDomainName': 'BIA',\n",
       "  'TargetLogonId': '0x2f2594e',\n",
       "  'TargetUserName': 'BIABAM$',\n",
       "  'TargetUserSid': 'S-1-5-18',\n",
       "  'TransmittedServices': '-',\n",
       "  'WorkstationName': '-'},\n",
       " 'event_id': 4624,\n",
       " 'host': 'BIABAM',\n",
       " 'keywords': ['Audit Success'],\n",
       " 'level': 'Information',\n",
       " 'log_name': 'Security',\n",
       " 'message': 'An account was successfully logged on.\\n\\nSubject:\\n\\tSecurity ID:\\t\\tS-1-0-0\\n\\tAccount Name:\\t\\t-\\n\\tAccount Domain:\\t\\t-\\n\\tLogon ID:\\t\\t0x0\\n\\nLogon Type:\\t\\t\\t3\\n\\nImpersonation Level:\\t\\tImpersonation\\n\\nNew Logon:\\n\\tSecurity ID:\\t\\tS-1-5-18\\n\\tAccount Name:\\t\\tBIABAM$\\n\\tAccount Domain:\\t\\tBIA\\n\\tLogon ID:\\t\\t0x2F2594E\\n\\tLogon GUID:\\t\\t{0B53E2AB-DAC7-3A25-D206-5ED60772C950}\\n\\nProcess Information:\\n\\tProcess ID:\\t\\t0x0\\n\\tProcess Name:\\t\\t-\\n\\nNetwork Information:\\n\\tWorkstation Name:\\t-\\n\\tSource Network Address:\\tfe80::8525:f3ee:c80e:333a\\n\\tSource Port:\\t\\t49579\\n\\nDetailed Authentication Information:\\n\\tLogon Process:\\t\\tKerberos\\n\\tAuthentication Package:\\tKerberos\\n\\tTransited Services:\\t-\\n\\tPackage Name (NTLM only):\\t-\\n\\tKey Length:\\t\\t0\\n\\nThis event is generated when a logon session is created. It is generated on the computer that was accessed.\\n\\nThe subject fields indicate the account on the local system which requested the logon. This is most commonly a service such as the Server service, or a local process such as Winlogon.exe or Services.exe.\\n\\nThe logon type field indicates the kind of logon that occurred. The most common types are 2 (interactive) and 3 (network).\\n\\nThe New Logon fields indicate the account for whom the new logon was created, i.e. the account that was logged on.\\n\\nThe network fields indicate where a remote logon request originated. Workstation name is not always available and may be left blank in some cases.\\n\\nThe impersonation level field indicates the extent to which a process in the logon session can impersonate.\\n\\nThe authentication information fields provide detailed information about this specific logon request.\\n\\t- Logon GUID is a unique identifier that can be used to correlate this event with a KDC event.\\n\\t- Transited services indicate which intermediate services have participated in this logon request.\\n\\t- Package name indicates which sub-protocol was used among the NTLM protocols.\\n\\t- Key length indicates the length of the generated session key. This will be 0 if no session key was requested.',\n",
       " 'opcode': 'Info',\n",
       " 'process_id': 604,\n",
       " 'provider_guid': '{54849625-5478-4994-A5BA-3E3B0328C30D}',\n",
       " 'record_number': '3712626',\n",
       " 'source_name': 'Microsoft-Windows-Security-Auditing',\n",
       " 'tags': ['beats_input_codec_plain_applied'],\n",
       " 'task': 'Logon',\n",
       " 'thread_id': 1888,\n",
       " 'type': 'wineventlog',\n",
       " 'version': 1}"
      ]
     },
     "execution_count": 65,
     "metadata": {},
     "output_type": "execute_result"
    }
   ],
   "source": [
    "es1[\"hits\"][\"hits\"][5]['_source']"
   ]
  },
  {
   "cell_type": "code",
   "execution_count": 85,
   "metadata": {},
   "outputs": [],
   "source": [
    "a = {\n",
    "    '@timestamp': '2018-05-30T00:01:38.364Z',\n",
    " '@version': '1',\n",
    " 'beat': {'hostname': 'BIABAM', 'name': 'BIABAM', 'version': '6.2.4'},\n",
    " 'computer_name': 'BIABAM.bia.com',\n",
    " 'event_data': {'AuthenticationPackageName': 'Kerberos',\n",
    "  'ImpersonationLevel': '%%1833',\n",
    "  'IpAddress': 'fe80::8525:f3ee:c80e:333a',\n",
    "  'IpPort': '49579',\n",
    "  'KeyLength': '0',\n",
    "  'LmPackageName': '-',\n",
    "  'LogonGuid': '{0B53E2AB-DAC7-3A25-D206-5ED60772C950}',\n",
    "  'LogonProcessName': 'Kerberos',\n",
    "  'LogonType': '3',\n",
    "  'ProcessId': '0x0',\n",
    "  'ProcessName': '-',\n",
    "  'SubjectDomainName': '-',\n",
    "  'SubjectLogonId': '0x0',\n",
    "  'SubjectUserName': '-',\n",
    "  'SubjectUserSid': 'S-1-0-0',\n",
    "  'TargetDomainName': 'BIA',\n",
    "  'TargetLogonId': '0x2f2594e',\n",
    "  'TargetUserName': 'BIABAM$',\n",
    "  'TargetUserSid': 'S-1-5-18',\n",
    "  'TransmittedServices': '-',\n",
    "  'WorkstationName': '-'},\n",
    " 'event_id': 4624,\n",
    " 'host': 'BIABAM',\n",
    " 'keywords': ['Audit Success'],\n",
    " 'level': 'Information',\n",
    " 'log_name': 'Security',\n",
    " 'message': 'An account was successfully logged on.\\n\\nSubject:\\n\\tSecurity ID:\\t\\tS-1-0-0\\n\\tAccount Name:\\t\\t-\\n\\tAccount Domain:\\t\\t-\\n\\tLogon ID:\\t\\t0x0\\n\\nLogon Type:\\t\\t\\t3\\n\\nImpersonation Level:\\t\\tImpersonation\\n\\nNew Logon:\\n\\tSecurity ID:\\t\\tS-1-5-18\\n\\tAccount Name:\\t\\tBIABAM$\\n\\tAccount Domain:\\t\\tBIA\\n\\tLogon ID:\\t\\t0x2F2594E\\n\\tLogon GUID:\\t\\t{0B53E2AB-DAC7-3A25-D206-5ED60772C950}\\n\\nProcessInformation:\\n\\tProcess ID:\\t\\t0x0\\n\\tProcess Name:\\t\\t-\\n\\nNetwork Information:\\n\\tWorkstation Name:\\t-\\n\\tSource Network Address:\\tfe80::8525:f3ee:c80e:333a\\n\\tSource Port:\\t\\t49579\\n\\nDetailed Authentication Information:\\n\\tLogon Process:\\t\\tKerberos\\n\\tAuthentication Package:\\tKerberos\\n\\tTransited Services:\\t-\\n\\tPackage Name (NTLM only):\\t-\\n\\tKey Length:\\t\\t0\\n\\nThis event is generated when a logon session is created. It is generated on the computer that was accessed.\\n\\nThe subject fields indicate the account on the local system which requested the logon. This is most commonly a service such as the Server service, or a local process such as Winlogon.exe or Services.exe.\\n\\nThe logon type field indicates the kind of logon that occurred. The most common types are 2 (interactive) and 3 (network).\\n\\nThe New Logon fields indicate the account for whom the new logon was created, i.e. the account that was logged on.\\n\\nThe network fields indicate where a remote logon request originated. Workstation name is not always available and may be left blank in some cases.\\n\\nThe impersonation level field indicates the extent to which a process in the logon session can impersonate.\\n\\nThe authentication information fields provide detailed information about this specific logon request.\\n\\t- Logon GUID is a unique identifier that can be used to correlate this event with a KDC event.\\n\\t- Transited services indicate which intermediate services have participated in this logon request.\\n\\t- Package name indicates which sub-protocol was used among the NTLM protocols.\\n\\t- Key length indicates the length of the generated session key. This will be 0 if no session key was requested.',\n",
    "\n",
    " 'opcode': 'Info',\n",
    " 'process_id': 604,\n",
    " 'provider_guid': '{54849625-5478-4994-A5BA-3E3B0328C30D}',\n",
    " 'record_number': '3712626',\n",
    " 'source_name': 'Microsoft-Windows-Security-Auditing',\n",
    " 'tags': ['beats_input_codec_plain_applied'],\n",
    " 'task': 'Logon',\n",
    " 'thread_id': 1888,\n",
    " 'type': 'wineventlog',\n",
    " 'version': 1\n",
    "}\n",
    "    \n",
    "    "
   ]
  },
  {
   "cell_type": "code",
   "execution_count": 69,
   "metadata": {},
   "outputs": [
    {
     "data": {
      "text/plain": [
       "dict_keys(['@timestamp', '@version', 'beat', 'computer_name', 'event_data', 'event_id', 'host', 'keywords', 'level', 'log_name', 'message', 'opcode', 'process_id', 'provider_guid', 'record_number', 'source_name', 'tags', 'task', 'thread_id', 'type', 'version'])"
      ]
     },
     "execution_count": 69,
     "metadata": {},
     "output_type": "execute_result"
    }
   ],
   "source": [
    "a.keys()"
   ]
  },
  {
   "cell_type": "code",
   "execution_count": 94,
   "metadata": {},
   "outputs": [],
   "source": [
    "di = {'a' : 4 , 'b' :9 , 'c' : 10}"
   ]
  },
  {
   "cell_type": "code",
   "execution_count": 104,
   "metadata": {},
   "outputs": [
    {
     "data": {
      "text/html": [
       "<div>\n",
       "<style scoped>\n",
       "    .dataframe tbody tr th:only-of-type {\n",
       "        vertical-align: middle;\n",
       "    }\n",
       "\n",
       "    .dataframe tbody tr th {\n",
       "        vertical-align: top;\n",
       "    }\n",
       "\n",
       "    .dataframe thead th {\n",
       "        text-align: right;\n",
       "    }\n",
       "</style>\n",
       "<table border=\"1\" class=\"dataframe\">\n",
       "  <thead>\n",
       "    <tr style=\"text-align: right;\">\n",
       "      <th></th>\n",
       "      <th>@timestamp</th>\n",
       "      <th>@version</th>\n",
       "      <th>beat</th>\n",
       "      <th>computer_name</th>\n",
       "      <th>event_data</th>\n",
       "      <th>event_id</th>\n",
       "      <th>host</th>\n",
       "      <th>keywords</th>\n",
       "      <th>level</th>\n",
       "      <th>log_name</th>\n",
       "      <th>...</th>\n",
       "      <th>opcode</th>\n",
       "      <th>process_id</th>\n",
       "      <th>provider_guid</th>\n",
       "      <th>record_number</th>\n",
       "      <th>source_name</th>\n",
       "      <th>tags</th>\n",
       "      <th>task</th>\n",
       "      <th>thread_id</th>\n",
       "      <th>type</th>\n",
       "      <th>version</th>\n",
       "    </tr>\n",
       "  </thead>\n",
       "  <tbody>\n",
       "    <tr>\n",
       "      <th>0</th>\n",
       "      <td>2018-05-30T00:01:38.364Z</td>\n",
       "      <td>1</td>\n",
       "      <td>{'hostname': 'BIABAM', 'name': 'BIABAM', 'vers...</td>\n",
       "      <td>BIABAM.bia.com</td>\n",
       "      <td>{'AuthenticationPackageName': 'Kerberos', 'Imp...</td>\n",
       "      <td>4624</td>\n",
       "      <td>BIABAM</td>\n",
       "      <td>[Audit Success]</td>\n",
       "      <td>Information</td>\n",
       "      <td>Security</td>\n",
       "      <td>...</td>\n",
       "      <td>Info</td>\n",
       "      <td>604</td>\n",
       "      <td>{54849625-5478-4994-A5BA-3E3B0328C30D}</td>\n",
       "      <td>3712626</td>\n",
       "      <td>Microsoft-Windows-Security-Auditing</td>\n",
       "      <td>[beats_input_codec_plain_applied]</td>\n",
       "      <td>Logon</td>\n",
       "      <td>1888</td>\n",
       "      <td>wineventlog</td>\n",
       "      <td>1</td>\n",
       "    </tr>\n",
       "  </tbody>\n",
       "</table>\n",
       "<p>1 rows × 21 columns</p>\n",
       "</div>"
      ],
      "text/plain": [
       "                 @timestamp @version  \\\n",
       "0  2018-05-30T00:01:38.364Z        1   \n",
       "\n",
       "                                                beat   computer_name  \\\n",
       "0  {'hostname': 'BIABAM', 'name': 'BIABAM', 'vers...  BIABAM.bia.com   \n",
       "\n",
       "                                          event_data event_id    host  \\\n",
       "0  {'AuthenticationPackageName': 'Kerberos', 'Imp...     4624  BIABAM   \n",
       "\n",
       "          keywords        level  log_name   ...   opcode process_id  \\\n",
       "0  [Audit Success]  Information  Security   ...     Info        604   \n",
       "\n",
       "                            provider_guid record_number  \\\n",
       "0  {54849625-5478-4994-A5BA-3E3B0328C30D}       3712626   \n",
       "\n",
       "                           source_name                               tags  \\\n",
       "0  Microsoft-Windows-Security-Auditing  [beats_input_codec_plain_applied]   \n",
       "\n",
       "    task thread_id         type version  \n",
       "0  Logon      1888  wineventlog       1  \n",
       "\n",
       "[1 rows x 21 columns]"
      ]
     },
     "execution_count": 104,
     "metadata": {},
     "output_type": "execute_result"
    }
   ],
   "source": [
    "pd.DataFrame(pd.Series(a)).T"
   ]
  },
  {
   "cell_type": "code",
   "execution_count": 101,
   "metadata": {},
   "outputs": [
    {
     "data": {
      "text/plain": [
       "0      0\n",
       "1      1\n",
       "2      2\n",
       "3      3\n",
       "4      4\n",
       "5      5\n",
       "6      6\n",
       "7      7\n",
       "8      8\n",
       "9      9\n",
       "10    10\n",
       "11    11\n",
       "12    12\n",
       "13    13\n",
       "14    14\n",
       "15    15\n",
       "16    16\n",
       "17    17\n",
       "18    18\n",
       "19    19\n",
       "20    20\n",
       "dtype: int64"
      ]
     },
     "execution_count": 101,
     "metadata": {},
     "output_type": "execute_result"
    }
   ],
   "source": [
    "pd.Series(np.arange(len(a)))"
   ]
  },
  {
   "cell_type": "code",
   "execution_count": 100,
   "metadata": {},
   "outputs": [
    {
     "data": {
      "text/plain": [
       "21"
      ]
     },
     "execution_count": 100,
     "metadata": {},
     "output_type": "execute_result"
    }
   ],
   "source": [
    "import numpy as np\n",
    "len(a)"
   ]
  },
  {
   "cell_type": "code",
   "execution_count": 95,
   "metadata": {
    "collapsed": true
   },
   "outputs": [
    {
     "ename": "ValueError",
     "evalue": "If using all scalar values, you must pass an index",
     "output_type": "error",
     "traceback": [
      "\u001b[0;31m---------------------------------------------------------------------------\u001b[0m",
      "\u001b[0;31mValueError\u001b[0m                                Traceback (most recent call last)",
      "\u001b[0;32m<ipython-input-95-acc33be4f310>\u001b[0m in \u001b[0;36m<module>\u001b[0;34m()\u001b[0m\n\u001b[0;32m----> 1\u001b[0;31m \u001b[0mpd\u001b[0m\u001b[0;34m.\u001b[0m\u001b[0mDataFrame\u001b[0m\u001b[0;34m(\u001b[0m\u001b[0mdi\u001b[0m\u001b[0;34m)\u001b[0m\u001b[0;34m\u001b[0m\u001b[0m\n\u001b[0m",
      "\u001b[0;32m~/.local/lib/python3.6/site-packages/pandas/core/frame.py\u001b[0m in \u001b[0;36m__init__\u001b[0;34m(self, data, index, columns, dtype, copy)\u001b[0m\n\u001b[1;32m    346\u001b[0m                                  dtype=dtype, copy=copy)\n\u001b[1;32m    347\u001b[0m         \u001b[0;32melif\u001b[0m \u001b[0misinstance\u001b[0m\u001b[0;34m(\u001b[0m\u001b[0mdata\u001b[0m\u001b[0;34m,\u001b[0m \u001b[0mdict\u001b[0m\u001b[0;34m)\u001b[0m\u001b[0;34m:\u001b[0m\u001b[0;34m\u001b[0m\u001b[0m\n\u001b[0;32m--> 348\u001b[0;31m             \u001b[0mmgr\u001b[0m \u001b[0;34m=\u001b[0m \u001b[0mself\u001b[0m\u001b[0;34m.\u001b[0m\u001b[0m_init_dict\u001b[0m\u001b[0;34m(\u001b[0m\u001b[0mdata\u001b[0m\u001b[0;34m,\u001b[0m \u001b[0mindex\u001b[0m\u001b[0;34m,\u001b[0m \u001b[0mcolumns\u001b[0m\u001b[0;34m,\u001b[0m \u001b[0mdtype\u001b[0m\u001b[0;34m=\u001b[0m\u001b[0mdtype\u001b[0m\u001b[0;34m)\u001b[0m\u001b[0;34m\u001b[0m\u001b[0m\n\u001b[0m\u001b[1;32m    349\u001b[0m         \u001b[0;32melif\u001b[0m \u001b[0misinstance\u001b[0m\u001b[0;34m(\u001b[0m\u001b[0mdata\u001b[0m\u001b[0;34m,\u001b[0m \u001b[0mma\u001b[0m\u001b[0;34m.\u001b[0m\u001b[0mMaskedArray\u001b[0m\u001b[0;34m)\u001b[0m\u001b[0;34m:\u001b[0m\u001b[0;34m\u001b[0m\u001b[0m\n\u001b[1;32m    350\u001b[0m             \u001b[0;32mimport\u001b[0m \u001b[0mnumpy\u001b[0m\u001b[0;34m.\u001b[0m\u001b[0mma\u001b[0m\u001b[0;34m.\u001b[0m\u001b[0mmrecords\u001b[0m \u001b[0;32mas\u001b[0m \u001b[0mmrecords\u001b[0m\u001b[0;34m\u001b[0m\u001b[0m\n",
      "\u001b[0;32m~/.local/lib/python3.6/site-packages/pandas/core/frame.py\u001b[0m in \u001b[0;36m_init_dict\u001b[0;34m(self, data, index, columns, dtype)\u001b[0m\n\u001b[1;32m    457\u001b[0m             \u001b[0marrays\u001b[0m \u001b[0;34m=\u001b[0m \u001b[0;34m[\u001b[0m\u001b[0mdata\u001b[0m\u001b[0;34m[\u001b[0m\u001b[0mk\u001b[0m\u001b[0;34m]\u001b[0m \u001b[0;32mfor\u001b[0m \u001b[0mk\u001b[0m \u001b[0;32min\u001b[0m \u001b[0mkeys\u001b[0m\u001b[0;34m]\u001b[0m\u001b[0;34m\u001b[0m\u001b[0m\n\u001b[1;32m    458\u001b[0m \u001b[0;34m\u001b[0m\u001b[0m\n\u001b[0;32m--> 459\u001b[0;31m         \u001b[0;32mreturn\u001b[0m \u001b[0m_arrays_to_mgr\u001b[0m\u001b[0;34m(\u001b[0m\u001b[0marrays\u001b[0m\u001b[0;34m,\u001b[0m \u001b[0mdata_names\u001b[0m\u001b[0;34m,\u001b[0m \u001b[0mindex\u001b[0m\u001b[0;34m,\u001b[0m \u001b[0mcolumns\u001b[0m\u001b[0;34m,\u001b[0m \u001b[0mdtype\u001b[0m\u001b[0;34m=\u001b[0m\u001b[0mdtype\u001b[0m\u001b[0;34m)\u001b[0m\u001b[0;34m\u001b[0m\u001b[0m\n\u001b[0m\u001b[1;32m    460\u001b[0m \u001b[0;34m\u001b[0m\u001b[0m\n\u001b[1;32m    461\u001b[0m     \u001b[0;32mdef\u001b[0m \u001b[0m_init_ndarray\u001b[0m\u001b[0;34m(\u001b[0m\u001b[0mself\u001b[0m\u001b[0;34m,\u001b[0m \u001b[0mvalues\u001b[0m\u001b[0;34m,\u001b[0m \u001b[0mindex\u001b[0m\u001b[0;34m,\u001b[0m \u001b[0mcolumns\u001b[0m\u001b[0;34m,\u001b[0m \u001b[0mdtype\u001b[0m\u001b[0;34m=\u001b[0m\u001b[0;32mNone\u001b[0m\u001b[0;34m,\u001b[0m \u001b[0mcopy\u001b[0m\u001b[0;34m=\u001b[0m\u001b[0;32mFalse\u001b[0m\u001b[0;34m)\u001b[0m\u001b[0;34m:\u001b[0m\u001b[0;34m\u001b[0m\u001b[0m\n",
      "\u001b[0;32m~/.local/lib/python3.6/site-packages/pandas/core/frame.py\u001b[0m in \u001b[0;36m_arrays_to_mgr\u001b[0;34m(arrays, arr_names, index, columns, dtype)\u001b[0m\n\u001b[1;32m   7313\u001b[0m     \u001b[0;31m# figure out the index, if necessary\u001b[0m\u001b[0;34m\u001b[0m\u001b[0;34m\u001b[0m\u001b[0m\n\u001b[1;32m   7314\u001b[0m     \u001b[0;32mif\u001b[0m \u001b[0mindex\u001b[0m \u001b[0;32mis\u001b[0m \u001b[0;32mNone\u001b[0m\u001b[0;34m:\u001b[0m\u001b[0;34m\u001b[0m\u001b[0m\n\u001b[0;32m-> 7315\u001b[0;31m         \u001b[0mindex\u001b[0m \u001b[0;34m=\u001b[0m \u001b[0mextract_index\u001b[0m\u001b[0;34m(\u001b[0m\u001b[0marrays\u001b[0m\u001b[0;34m)\u001b[0m\u001b[0;34m\u001b[0m\u001b[0m\n\u001b[0m\u001b[1;32m   7316\u001b[0m \u001b[0;34m\u001b[0m\u001b[0m\n\u001b[1;32m   7317\u001b[0m     \u001b[0;31m# don't force copy because getting jammed in an ndarray anyway\u001b[0m\u001b[0;34m\u001b[0m\u001b[0;34m\u001b[0m\u001b[0m\n",
      "\u001b[0;32m~/.local/lib/python3.6/site-packages/pandas/core/frame.py\u001b[0m in \u001b[0;36mextract_index\u001b[0;34m(data)\u001b[0m\n\u001b[1;32m   7350\u001b[0m \u001b[0;34m\u001b[0m\u001b[0m\n\u001b[1;32m   7351\u001b[0m         \u001b[0;32mif\u001b[0m \u001b[0;32mnot\u001b[0m \u001b[0mindexes\u001b[0m \u001b[0;32mand\u001b[0m \u001b[0;32mnot\u001b[0m \u001b[0mraw_lengths\u001b[0m\u001b[0;34m:\u001b[0m\u001b[0;34m\u001b[0m\u001b[0m\n\u001b[0;32m-> 7352\u001b[0;31m             raise ValueError('If using all scalar values, you must pass'\n\u001b[0m\u001b[1;32m   7353\u001b[0m                              ' an index')\n\u001b[1;32m   7354\u001b[0m \u001b[0;34m\u001b[0m\u001b[0m\n",
      "\u001b[0;31mValueError\u001b[0m: If using all scalar values, you must pass an index"
     ]
    }
   ],
   "source": [
    "pd.DataFrame(di)"
   ]
  },
  {
   "cell_type": "code",
   "execution_count": 61,
   "metadata": {},
   "outputs": [
    {
     "data": {
      "text/plain": [
       "21"
      ]
     },
     "execution_count": 61,
     "metadata": {},
     "output_type": "execute_result"
    }
   ],
   "source": [
    "len(a)"
   ]
  },
  {
   "cell_type": "code",
   "execution_count": 64,
   "metadata": {},
   "outputs": [
    {
     "data": {
      "text/plain": [
       "{'type': None, 'beat': None}"
      ]
     },
     "execution_count": 64,
     "metadata": {},
     "output_type": "execute_result"
    }
   ],
   "source": [
    "a.fromkeys([ 'type', 'beat'])"
   ]
  },
  {
   "cell_type": "code",
   "execution_count": 74,
   "metadata": {},
   "outputs": [
    {
     "ename": "NameError",
     "evalue": "name 'values' is not defined",
     "output_type": "error",
     "traceback": [
      "\u001b[0;31m---------------------------------------------------------------------------\u001b[0m",
      "\u001b[0;31mNameError\u001b[0m                                 Traceback (most recent call last)",
      "\u001b[0;32m<ipython-input-74-4486d293e4f8>\u001b[0m in \u001b[0;36m<module>\u001b[0;34m()\u001b[0m\n\u001b[1;32m      1\u001b[0m \u001b[0;32mfor\u001b[0m \u001b[0mi\u001b[0m \u001b[0;32min\u001b[0m \u001b[0ma\u001b[0m\u001b[0;34m.\u001b[0m\u001b[0mkeys\u001b[0m\u001b[0;34m(\u001b[0m\u001b[0;34m)\u001b[0m\u001b[0;34m:\u001b[0m\u001b[0;34m\u001b[0m\u001b[0m\n\u001b[0;32m----> 2\u001b[0;31m     \u001b[0mprint\u001b[0m \u001b[0;34m(\u001b[0m\u001b[0mvalues\u001b[0m\u001b[0;34m)\u001b[0m\u001b[0;34m\u001b[0m\u001b[0m\n\u001b[0m",
      "\u001b[0;31mNameError\u001b[0m: name 'values' is not defined"
     ]
    }
   ],
   "source": [
    "for i in a.keys():\n",
    "    print (values)"
   ]
  },
  {
   "cell_type": "code",
   "execution_count": 78,
   "metadata": {},
   "outputs": [],
   "source": [
    "n  =list(a.items())"
   ]
  },
  {
   "cell_type": "code",
   "execution_count": 71,
   "metadata": {},
   "outputs": [
    {
     "data": {
      "text/plain": [
       "{'beat': None}"
      ]
     },
     "execution_count": 71,
     "metadata": {},
     "output_type": "execute_result"
    }
   ],
   "source": [
    "a.fromkeys()"
   ]
  },
  {
   "cell_type": "code",
   "execution_count": 52,
   "metadata": {},
   "outputs": [],
   "source": [
    "import pandas as pd"
   ]
  },
  {
   "cell_type": "code",
   "execution_count": 56,
   "metadata": {},
   "outputs": [
    {
     "ename": "ValueError",
     "evalue": "Mixing dicts with non-Series may lead to ambiguous ordering.",
     "output_type": "error",
     "traceback": [
      "\u001b[0;31m---------------------------------------------------------------------------\u001b[0m",
      "\u001b[0;31mValueError\u001b[0m                                Traceback (most recent call last)",
      "\u001b[0;32m<ipython-input-56-a4c5236a3cd4>\u001b[0m in \u001b[0;36m<module>\u001b[0;34m()\u001b[0m\n\u001b[0;32m----> 1\u001b[0;31m \u001b[0mpd\u001b[0m\u001b[0;34m.\u001b[0m\u001b[0mDataFrame\u001b[0m\u001b[0;34m(\u001b[0m\u001b[0ma\u001b[0m\u001b[0;34m)\u001b[0m\u001b[0;34m\u001b[0m\u001b[0m\n\u001b[0m",
      "\u001b[0;32m~/.local/lib/python3.6/site-packages/pandas/core/frame.py\u001b[0m in \u001b[0;36m__init__\u001b[0;34m(self, data, index, columns, dtype, copy)\u001b[0m\n\u001b[1;32m    346\u001b[0m                                  dtype=dtype, copy=copy)\n\u001b[1;32m    347\u001b[0m         \u001b[0;32melif\u001b[0m \u001b[0misinstance\u001b[0m\u001b[0;34m(\u001b[0m\u001b[0mdata\u001b[0m\u001b[0;34m,\u001b[0m \u001b[0mdict\u001b[0m\u001b[0;34m)\u001b[0m\u001b[0;34m:\u001b[0m\u001b[0;34m\u001b[0m\u001b[0m\n\u001b[0;32m--> 348\u001b[0;31m             \u001b[0mmgr\u001b[0m \u001b[0;34m=\u001b[0m \u001b[0mself\u001b[0m\u001b[0;34m.\u001b[0m\u001b[0m_init_dict\u001b[0m\u001b[0;34m(\u001b[0m\u001b[0mdata\u001b[0m\u001b[0;34m,\u001b[0m \u001b[0mindex\u001b[0m\u001b[0;34m,\u001b[0m \u001b[0mcolumns\u001b[0m\u001b[0;34m,\u001b[0m \u001b[0mdtype\u001b[0m\u001b[0;34m=\u001b[0m\u001b[0mdtype\u001b[0m\u001b[0;34m)\u001b[0m\u001b[0;34m\u001b[0m\u001b[0m\n\u001b[0m\u001b[1;32m    349\u001b[0m         \u001b[0;32melif\u001b[0m \u001b[0misinstance\u001b[0m\u001b[0;34m(\u001b[0m\u001b[0mdata\u001b[0m\u001b[0;34m,\u001b[0m \u001b[0mma\u001b[0m\u001b[0;34m.\u001b[0m\u001b[0mMaskedArray\u001b[0m\u001b[0;34m)\u001b[0m\u001b[0;34m:\u001b[0m\u001b[0;34m\u001b[0m\u001b[0m\n\u001b[1;32m    350\u001b[0m             \u001b[0;32mimport\u001b[0m \u001b[0mnumpy\u001b[0m\u001b[0;34m.\u001b[0m\u001b[0mma\u001b[0m\u001b[0;34m.\u001b[0m\u001b[0mmrecords\u001b[0m \u001b[0;32mas\u001b[0m \u001b[0mmrecords\u001b[0m\u001b[0;34m\u001b[0m\u001b[0m\n",
      "\u001b[0;32m~/.local/lib/python3.6/site-packages/pandas/core/frame.py\u001b[0m in \u001b[0;36m_init_dict\u001b[0;34m(self, data, index, columns, dtype)\u001b[0m\n\u001b[1;32m    457\u001b[0m             \u001b[0marrays\u001b[0m \u001b[0;34m=\u001b[0m \u001b[0;34m[\u001b[0m\u001b[0mdata\u001b[0m\u001b[0;34m[\u001b[0m\u001b[0mk\u001b[0m\u001b[0;34m]\u001b[0m \u001b[0;32mfor\u001b[0m \u001b[0mk\u001b[0m \u001b[0;32min\u001b[0m \u001b[0mkeys\u001b[0m\u001b[0;34m]\u001b[0m\u001b[0;34m\u001b[0m\u001b[0m\n\u001b[1;32m    458\u001b[0m \u001b[0;34m\u001b[0m\u001b[0m\n\u001b[0;32m--> 459\u001b[0;31m         \u001b[0;32mreturn\u001b[0m \u001b[0m_arrays_to_mgr\u001b[0m\u001b[0;34m(\u001b[0m\u001b[0marrays\u001b[0m\u001b[0;34m,\u001b[0m \u001b[0mdata_names\u001b[0m\u001b[0;34m,\u001b[0m \u001b[0mindex\u001b[0m\u001b[0;34m,\u001b[0m \u001b[0mcolumns\u001b[0m\u001b[0;34m,\u001b[0m \u001b[0mdtype\u001b[0m\u001b[0;34m=\u001b[0m\u001b[0mdtype\u001b[0m\u001b[0;34m)\u001b[0m\u001b[0;34m\u001b[0m\u001b[0m\n\u001b[0m\u001b[1;32m    460\u001b[0m \u001b[0;34m\u001b[0m\u001b[0m\n\u001b[1;32m    461\u001b[0m     \u001b[0;32mdef\u001b[0m \u001b[0m_init_ndarray\u001b[0m\u001b[0;34m(\u001b[0m\u001b[0mself\u001b[0m\u001b[0;34m,\u001b[0m \u001b[0mvalues\u001b[0m\u001b[0;34m,\u001b[0m \u001b[0mindex\u001b[0m\u001b[0;34m,\u001b[0m \u001b[0mcolumns\u001b[0m\u001b[0;34m,\u001b[0m \u001b[0mdtype\u001b[0m\u001b[0;34m=\u001b[0m\u001b[0;32mNone\u001b[0m\u001b[0;34m,\u001b[0m \u001b[0mcopy\u001b[0m\u001b[0;34m=\u001b[0m\u001b[0;32mFalse\u001b[0m\u001b[0;34m)\u001b[0m\u001b[0;34m:\u001b[0m\u001b[0;34m\u001b[0m\u001b[0m\n",
      "\u001b[0;32m~/.local/lib/python3.6/site-packages/pandas/core/frame.py\u001b[0m in \u001b[0;36m_arrays_to_mgr\u001b[0;34m(arrays, arr_names, index, columns, dtype)\u001b[0m\n\u001b[1;32m   7313\u001b[0m     \u001b[0;31m# figure out the index, if necessary\u001b[0m\u001b[0;34m\u001b[0m\u001b[0;34m\u001b[0m\u001b[0m\n\u001b[1;32m   7314\u001b[0m     \u001b[0;32mif\u001b[0m \u001b[0mindex\u001b[0m \u001b[0;32mis\u001b[0m \u001b[0;32mNone\u001b[0m\u001b[0;34m:\u001b[0m\u001b[0;34m\u001b[0m\u001b[0m\n\u001b[0;32m-> 7315\u001b[0;31m         \u001b[0mindex\u001b[0m \u001b[0;34m=\u001b[0m \u001b[0mextract_index\u001b[0m\u001b[0;34m(\u001b[0m\u001b[0marrays\u001b[0m\u001b[0;34m)\u001b[0m\u001b[0;34m\u001b[0m\u001b[0m\n\u001b[0m\u001b[1;32m   7316\u001b[0m \u001b[0;34m\u001b[0m\u001b[0m\n\u001b[1;32m   7317\u001b[0m     \u001b[0;31m# don't force copy because getting jammed in an ndarray anyway\u001b[0m\u001b[0;34m\u001b[0m\u001b[0;34m\u001b[0m\u001b[0m\n",
      "\u001b[0;32m~/.local/lib/python3.6/site-packages/pandas/core/frame.py\u001b[0m in \u001b[0;36mextract_index\u001b[0;34m(data)\u001b[0m\n\u001b[1;32m   7362\u001b[0m \u001b[0;34m\u001b[0m\u001b[0m\n\u001b[1;32m   7363\u001b[0m             \u001b[0;32mif\u001b[0m \u001b[0mhave_dicts\u001b[0m\u001b[0;34m:\u001b[0m\u001b[0;34m\u001b[0m\u001b[0m\n\u001b[0;32m-> 7364\u001b[0;31m                 raise ValueError('Mixing dicts with non-Series may lead to '\n\u001b[0m\u001b[1;32m   7365\u001b[0m                                  'ambiguous ordering.')\n\u001b[1;32m   7366\u001b[0m \u001b[0;34m\u001b[0m\u001b[0m\n",
      "\u001b[0;31mValueError\u001b[0m: Mixing dicts with non-Series may lead to ambiguous ordering."
     ]
    }
   ],
   "source": [
    "pd.DataFrame(a)"
   ]
  },
  {
   "cell_type": "code",
   "execution_count": null,
   "metadata": {},
   "outputs": [],
   "source": []
  },
  {
   "cell_type": "code",
   "execution_count": 51,
   "metadata": {
    "scrolled": true
   },
   "outputs": [
    {
     "data": {
      "text/plain": [
       "10"
      ]
     },
     "execution_count": 51,
     "metadata": {},
     "output_type": "execute_result"
    }
   ],
   "source": [
    "len(es1[\"hits\"][\"hits\"])"
   ]
  },
  {
   "cell_type": "code",
   "execution_count": null,
   "metadata": {},
   "outputs": [],
   "source": []
  },
  {
   "cell_type": "code",
   "execution_count": null,
   "metadata": {},
   "outputs": [],
   "source": []
  },
  {
   "cell_type": "code",
   "execution_count": null,
   "metadata": {},
   "outputs": [],
   "source": []
  },
  {
   "cell_type": "code",
   "execution_count": null,
   "metadata": {},
   "outputs": [],
   "source": []
  },
  {
   "cell_type": "code",
   "execution_count": null,
   "metadata": {},
   "outputs": [],
   "source": []
  },
  {
   "cell_type": "code",
   "execution_count": 28,
   "metadata": {},
   "outputs": [],
   "source": [
    "import pandas as pd"
   ]
  },
  {
   "cell_type": "code",
   "execution_count": 29,
   "metadata": {},
   "outputs": [],
   "source": [
    "df = pd.DataFrame(es1)"
   ]
  },
  {
   "cell_type": "code",
   "execution_count": 30,
   "metadata": {},
   "outputs": [
    {
     "data": {
      "text/html": [
       "<div>\n",
       "<style scoped>\n",
       "    .dataframe tbody tr th:only-of-type {\n",
       "        vertical-align: middle;\n",
       "    }\n",
       "\n",
       "    .dataframe tbody tr th {\n",
       "        vertical-align: top;\n",
       "    }\n",
       "\n",
       "    .dataframe thead th {\n",
       "        text-align: right;\n",
       "    }\n",
       "</style>\n",
       "<table border=\"1\" class=\"dataframe\">\n",
       "  <thead>\n",
       "    <tr style=\"text-align: right;\">\n",
       "      <th></th>\n",
       "      <th>_shards</th>\n",
       "      <th>hits</th>\n",
       "      <th>timed_out</th>\n",
       "      <th>took</th>\n",
       "    </tr>\n",
       "  </thead>\n",
       "  <tbody>\n",
       "    <tr>\n",
       "      <th>failed</th>\n",
       "      <td>0.0</td>\n",
       "      <td>NaN</td>\n",
       "      <td>False</td>\n",
       "      <td>0</td>\n",
       "    </tr>\n",
       "    <tr>\n",
       "      <th>hits</th>\n",
       "      <td>NaN</td>\n",
       "      <td>[{'_index': 'winlogbeat-6.2.4-2018.05.30', '_t...</td>\n",
       "      <td>False</td>\n",
       "      <td>0</td>\n",
       "    </tr>\n",
       "    <tr>\n",
       "      <th>max_score</th>\n",
       "      <td>NaN</td>\n",
       "      <td>1</td>\n",
       "      <td>False</td>\n",
       "      <td>0</td>\n",
       "    </tr>\n",
       "    <tr>\n",
       "      <th>skipped</th>\n",
       "      <td>0.0</td>\n",
       "      <td>NaN</td>\n",
       "      <td>False</td>\n",
       "      <td>0</td>\n",
       "    </tr>\n",
       "    <tr>\n",
       "      <th>successful</th>\n",
       "      <td>5.0</td>\n",
       "      <td>NaN</td>\n",
       "      <td>False</td>\n",
       "      <td>0</td>\n",
       "    </tr>\n",
       "    <tr>\n",
       "      <th>total</th>\n",
       "      <td>5.0</td>\n",
       "      <td>8481</td>\n",
       "      <td>False</td>\n",
       "      <td>0</td>\n",
       "    </tr>\n",
       "  </tbody>\n",
       "</table>\n",
       "</div>"
      ],
      "text/plain": [
       "            _shards                                               hits  \\\n",
       "failed          0.0                                                NaN   \n",
       "hits            NaN  [{'_index': 'winlogbeat-6.2.4-2018.05.30', '_t...   \n",
       "max_score       NaN                                                  1   \n",
       "skipped         0.0                                                NaN   \n",
       "successful      5.0                                                NaN   \n",
       "total           5.0                                               8481   \n",
       "\n",
       "            timed_out  took  \n",
       "failed          False     0  \n",
       "hits            False     0  \n",
       "max_score       False     0  \n",
       "skipped         False     0  \n",
       "successful      False     0  \n",
       "total           False     0  "
      ]
     },
     "execution_count": 30,
     "metadata": {},
     "output_type": "execute_result"
    }
   ],
   "source": [
    "df"
   ]
  },
  {
   "cell_type": "code",
   "execution_count": 15,
   "metadata": {},
   "outputs": [
    {
     "data": {
      "text/plain": [
       "108"
      ]
     },
     "execution_count": 15,
     "metadata": {},
     "output_type": "execute_result"
    }
   ],
   "source": [
    "res.content[]"
   ]
  },
  {
   "cell_type": "code",
   "execution_count": 8,
   "metadata": {},
   "outputs": [],
   "source": [
    "from elasticsearch import Elasticsearch\n",
    "es = Elasticsearch([{'host': 'localhost', 'port': 9200}])"
   ]
  },
  {
   "cell_type": "code",
   "execution_count": 5,
   "metadata": {},
   "outputs": [],
   "source": [
    "st = 'yellow open filebeat-6.2.4-2018.05.26           5CGfwoFNSOK2F4Gs5nteHQ 5 1   190 0 433.6kb 433.6kb\\nyellow open filebeat-6.2.4-2018.05.30           cxZu9oDUQSuyKDMf_BjS-g 5 1  3140 0   1.4mb   1.4mb\\nyellow open winlogbeat-6.2.4-2018.05.22         1Q7svXiASpWWIrRDhGuGZw 5 1 15082 0  12.4mb  12.4mb\\nyellow open filebeat-6.2.4-2018.05.15           1HxFIJXeQ0aEFlFKSfZ3XA 5 1    19 0 148.1kb 148.1kb\\ngreen  open .kibana                             aj9NpweaSvavav326TTsaw 1 0    31 3 101.4kb 101.4kb\\nyellow open liferay                             pN-jUE13Q1Kf1hKaHY5zlw 5 1 15382 0   3.7mb   3.7mb\\nyellow open filebeat-6.2.4-2018.05.27           3InUcPwCR4GOiSCLkp8QKg 5 1   188 0 290.1kb 290.1kb\\nyellow open filebeat-6.2.2-2018.05.27           FZ3kj-x_Toy_oaq9qgCiNQ 5 1  4117 0     1mb     1mb\\nyellow open filebeat-6.2.2-2018.05.23           x6KdwacVTjKwP0cqVYMoKw 5 1   472 0 544.5kb 544.5kb\\nyellow open winlogbeat-6.2.4-2018.05.17         fb_19glCR_OMb0be7t22Rg 5 1 12800 0  10.6mb  10.6mb\\nyellow open winlogbeat-6.2.4-2018.05.20         ZWuOkj7ZR0GW6zL8PKCvaw 5 1 10571 0   8.7mb   8.7mb\\nyellow open filebeat-6.2.2-2018.05.26           qmaJ5uu8Rv6Qc3DxgSjYzw 5 1   360 0 604.4kb 604.4kb\\nyellow open winlogbeat-6.2.4-2018.05.18         -MlW1UlVTAyujXZD6TbKaA 5 1 12435 0  10.5mb  10.5mb\\nyellow open winlogbeat-6.2.4-2018.05.30         Tbfoy337Rw-82dIlCGK1bw 5 1  8387 0   7.8mb   7.8mb\\nyellow open filebeat-6.2.2-2018.05.19           uz7Xe8pTRye_hD3-sM8o8Q 5 1    50 0 120.7kb 120.7kb\\nyellow open %{[@metadata][log_type]}-2018.05.15 btfNlyCjTCeEGYDVuaHUsw 5 1    17 0  88.9kb  88.9kb\\nyellow open winlogbeat-6.2.4-2018.05.19         FgYIfLJ0Q8mOvBIxb_UV0g 5 1 10591 0     9mb     9mb\\nyellow open winlogbeat-6.2.4-2018.05.24         d8OYBkQXSoiMsbPHzKNPWQ 5 1 89034 0  64.8mb  64.8mb\\nyellow open filebeat-6.2.4-2018.05.29           GaBZFpSuSSeEQQw0xoCsmQ 5 1  3189 0   1.1mb   1.1mb\\nyellow open filebeat-6.2.2-2018.05.24           ZlFmAjqRTJGjyJNKw1huSg 5 1     7 0  70.6kb  70.6kb\\nyellow open winlogbeat-6.2.4-2018.05.25         qEMbvNoKRVW8SFCkmLzqWQ 5 1 12174 0    10mb    10mb\\nyellow open winlogbeat-6.2.4-2018.05.26         PjSLA_xDSkSdYdy11wXYEA 5 1 10660 0   8.7mb   8.7mb\\nyellow open filebeat-6.2.2-2018.05.21           T2SeG4wRQv6XmX5MnU2KyA 5 1     1 0  15.1kb  15.1kb\\nyellow open filebeat-6.2.2-2018.05.25           MHvrj7hDQw-XUSluOkqasw 5 1   281 0 424.9kb 424.9kb\\nyellow open filebeat-6.2.2-2018.05.22           oFapNA9TTpSGL9DTopR-Sw 5 1     1 0  15.1kb  15.1kb\\nyellow open winlogbeat-6.2.4-2018.05.16         TCrqmqFrQRCHc5lqRSRb6g 5 1 18577 0  15.3mb  15.3mb\\nyellow open filebeat-6.2.4-2018.05.25           20qUB1BRRs2vS_723QXGEw 5 1  1433 0 599.2kb 599.2kb\\nyellow open filebeat-6.2.4-2018.05.16           dO5IgdhMQjiyc72veLqrrA 5 1   273 0 721.3kb 721.3kb\\nyellow open filebeat-6.2.2-2018.05.30           8cEfDHYkQ7yBYa8hzl7l6g 5 1    51 0 331.9kb 331.9kb\\nyellow open filebeat-6.2.2-2018.05.20           EW5NQh-NQ0W9xUBp3yaTfg 5 1     1 0  15.1kb  15.1kb\\nyellow open filebeat-6.2.2-2018.05.18           6Ff6__idT2Syzz9ePr3kRA 5 1   262 0 467.1kb 467.1kb\\nyellow open winlogbeat-6.2.4-2018.05.21         Y1qNS1j3QtSSvzR7c8k6fA 5 1 11106 0   9.2mb   9.2mb\\nyellow open filebeat-6.2.2-2018.05.29           XBN9G4N8TyitU9kcz8E-Zw 5 1   182 0 465.5kb 465.5kb\\nyellow open winlogbeat-6.2.4-2018.05.23         26cj2EDzQ_Os6D01Zs7xpQ 5 1 13673 0  11.6mb  11.6mb\\nyellow open winlogbeat-6.2.4-2018.05.27         yYvMYpS9SmWtsnwBeeXvFQ 5 1  9466 0   8.6mb   8.6mb\\nyellow open winlogbeat-6.2.4-2018.05.29         rbM3vb78TROFRBHDWjIZcA 5 1 12951 0  10.7mb  10.7mb\\nyellow open filebeat-6.2.4-2018.05.17           KmbkVx4bRH691Ffs79lN5w 5 1    42 0 179.2kb 179.2kb\\nyellow open winlogbeat-6.2.4-2018.05.28         CuFgBUFpSjmbS_QJmUyRWg 5 1 13441 0  11.1mb  11.1mb\\nyellow open winlogbeat-6.2.4-2018.05.15         nWeDUCxUQGiUb9t8yp-bvw 5 1  3822 0     4mb     4mb\\nyellow open filebeat-6.2.2-2018.05.28           YXGxj7sZR766Rh3DavfmYg 5 1 12040 0   2.4mb   2.4mb\\nyellow open filebeat-6.2.2-2018.05.17           RsE9S8xTS-e2a1pqR5v0pw 5 1  8623 0   1.9mb   1.9mb\\nyellow open filebeat-6.2.2-2018.05.16           OIPsJKQIQzKhG-nRww2p8w 5 1     1 0  11.5kb  11.5kb\\nyellow open filebeat-6.2.4-2018.05.28           t7eXp1N3Tn253cSzkaOnQw 5 1  6272 0   1.8mb   1.8mb\\n'"
   ]
  },
  {
   "cell_type": "code",
   "execution_count": 6,
   "metadata": {},
   "outputs": [
    {
     "data": {
      "text/plain": [
       "'yellow open filebeat-6.2.4-2018.05.26           5CGfwoFNSOK2F4Gs5nteHQ 5 1   190 0 433.6kb 433.6kb\\nyellow open filebeat-6.2.4-2018.05.30           cxZu9oDUQSuyKDMf_BjS-g 5 1  3140 0   1.4mb   1.4mb\\nyellow open winlogbeat-6.2.4-2018.05.22         1Q7svXiASpWWIrRDhGuGZw 5 1 15082 0  12.4mb  12.4mb\\nyellow open filebeat-6.2.4-2018.05.15           1HxFIJXeQ0aEFlFKSfZ3XA 5 1    19 0 148.1kb 148.1kb\\ngreen  open .kibana                             aj9NpweaSvavav326TTsaw 1 0    31 3 101.4kb 101.4kb\\nyellow open liferay                             pN-jUE13Q1Kf1hKaHY5zlw 5 1 15382 0   3.7mb   3.7mb\\nyellow open filebeat-6.2.4-2018.05.27           3InUcPwCR4GOiSCLkp8QKg 5 1   188 0 290.1kb 290.1kb\\nyellow open filebeat-6.2.2-2018.05.27           FZ3kj-x_Toy_oaq9qgCiNQ 5 1  4117 0     1mb     1mb\\nyellow open filebeat-6.2.2-2018.05.23           x6KdwacVTjKwP0cqVYMoKw 5 1   472 0 544.5kb 544.5kb\\nyellow open winlogbeat-6.2.4-2018.05.17         fb_19glCR_OMb0be7t22Rg 5 1 12800 0  10.6mb  10.6mb\\nyellow open winlogbeat-6.2.4-2018.05.20         ZWuOkj7ZR0GW6zL8PKCvaw 5 1 10571 0   8.7mb   8.7mb\\nyellow open filebeat-6.2.2-2018.05.26           qmaJ5uu8Rv6Qc3DxgSjYzw 5 1   360 0 604.4kb 604.4kb\\nyellow open winlogbeat-6.2.4-2018.05.18         -MlW1UlVTAyujXZD6TbKaA 5 1 12435 0  10.5mb  10.5mb\\nyellow open winlogbeat-6.2.4-2018.05.30         Tbfoy337Rw-82dIlCGK1bw 5 1  8387 0   7.8mb   7.8mb\\nyellow open filebeat-6.2.2-2018.05.19           uz7Xe8pTRye_hD3-sM8o8Q 5 1    50 0 120.7kb 120.7kb\\nyellow open %{[@metadata][log_type]}-2018.05.15 btfNlyCjTCeEGYDVuaHUsw 5 1    17 0  88.9kb  88.9kb\\nyellow open winlogbeat-6.2.4-2018.05.19         FgYIfLJ0Q8mOvBIxb_UV0g 5 1 10591 0     9mb     9mb\\nyellow open winlogbeat-6.2.4-2018.05.24         d8OYBkQXSoiMsbPHzKNPWQ 5 1 89034 0  64.8mb  64.8mb\\nyellow open filebeat-6.2.4-2018.05.29           GaBZFpSuSSeEQQw0xoCsmQ 5 1  3189 0   1.1mb   1.1mb\\nyellow open filebeat-6.2.2-2018.05.24           ZlFmAjqRTJGjyJNKw1huSg 5 1     7 0  70.6kb  70.6kb\\nyellow open winlogbeat-6.2.4-2018.05.25         qEMbvNoKRVW8SFCkmLzqWQ 5 1 12174 0    10mb    10mb\\nyellow open winlogbeat-6.2.4-2018.05.26         PjSLA_xDSkSdYdy11wXYEA 5 1 10660 0   8.7mb   8.7mb\\nyellow open filebeat-6.2.2-2018.05.21           T2SeG4wRQv6XmX5MnU2KyA 5 1     1 0  15.1kb  15.1kb\\nyellow open filebeat-6.2.2-2018.05.25           MHvrj7hDQw-XUSluOkqasw 5 1   281 0 424.9kb 424.9kb\\nyellow open filebeat-6.2.2-2018.05.22           oFapNA9TTpSGL9DTopR-Sw 5 1     1 0  15.1kb  15.1kb\\nyellow open winlogbeat-6.2.4-2018.05.16         TCrqmqFrQRCHc5lqRSRb6g 5 1 18577 0  15.3mb  15.3mb\\nyellow open filebeat-6.2.4-2018.05.25           20qUB1BRRs2vS_723QXGEw 5 1  1433 0 599.2kb 599.2kb\\nyellow open filebeat-6.2.4-2018.05.16           dO5IgdhMQjiyc72veLqrrA 5 1   273 0 721.3kb 721.3kb\\nyellow open filebeat-6.2.2-2018.05.30           8cEfDHYkQ7yBYa8hzl7l6g 5 1    51 0 331.9kb 331.9kb\\nyellow open filebeat-6.2.2-2018.05.20           EW5NQh-NQ0W9xUBp3yaTfg 5 1     1 0  15.1kb  15.1kb\\nyellow open filebeat-6.2.2-2018.05.18           6Ff6__idT2Syzz9ePr3kRA 5 1   262 0 467.1kb 467.1kb\\nyellow open winlogbeat-6.2.4-2018.05.21         Y1qNS1j3QtSSvzR7c8k6fA 5 1 11106 0   9.2mb   9.2mb\\nyellow open filebeat-6.2.2-2018.05.29           XBN9G4N8TyitU9kcz8E-Zw 5 1   182 0 465.5kb 465.5kb\\nyellow open winlogbeat-6.2.4-2018.05.23         26cj2EDzQ_Os6D01Zs7xpQ 5 1 13673 0  11.6mb  11.6mb\\nyellow open winlogbeat-6.2.4-2018.05.27         yYvMYpS9SmWtsnwBeeXvFQ 5 1  9466 0   8.6mb   8.6mb\\nyellow open winlogbeat-6.2.4-2018.05.29         rbM3vb78TROFRBHDWjIZcA 5 1 12951 0  10.7mb  10.7mb\\nyellow open filebeat-6.2.4-2018.05.17           KmbkVx4bRH691Ffs79lN5w 5 1    42 0 179.2kb 179.2kb\\nyellow open winlogbeat-6.2.4-2018.05.28         CuFgBUFpSjmbS_QJmUyRWg 5 1 13441 0  11.1mb  11.1mb\\nyellow open winlogbeat-6.2.4-2018.05.15         nWeDUCxUQGiUb9t8yp-bvw 5 1  3822 0     4mb     4mb\\nyellow open filebeat-6.2.2-2018.05.28           YXGxj7sZR766Rh3DavfmYg 5 1 12040 0   2.4mb   2.4mb\\nyellow open filebeat-6.2.2-2018.05.17           RsE9S8xTS-e2a1pqR5v0pw 5 1  8623 0   1.9mb   1.9mb\\nyellow open filebeat-6.2.2-2018.05.16           OIPsJKQIQzKhG-nRww2p8w 5 1     1 0  11.5kb  11.5kb\\nyellow open filebeat-6.2.4-2018.05.28           t7eXp1N3Tn253cSzkaOnQw 5 1  6272 0   1.8mb   1.8mb\\n'"
      ]
     },
     "execution_count": 6,
     "metadata": {},
     "output_type": "execute_result"
    }
   ],
   "source": [
    "st"
   ]
  },
  {
   "cell_type": "code",
   "execution_count": 8,
   "metadata": {},
   "outputs": [],
   "source": [
    "import re"
   ]
  },
  {
   "cell_type": "code",
   "execution_count": 11,
   "metadata": {},
   "outputs": [],
   "source": [
    "n= re.search('open\\s(.+?)\\s\\s' , st)"
   ]
  },
  {
   "cell_type": "code",
   "execution_count": 12,
   "metadata": {},
   "outputs": [
    {
     "data": {
      "text/plain": [
       "'filebeat-6.2.4-2018.05.26'"
      ]
     },
     "execution_count": 12,
     "metadata": {},
     "output_type": "execute_result"
    }
   ],
   "source": [
    "n.group(1)"
   ]
  },
  {
   "cell_type": "code",
   "execution_count": 20,
   "metadata": {},
   "outputs": [],
   "source": [
    "v = st.split('           ')"
   ]
  },
  {
   "cell_type": "code",
   "execution_count": 21,
   "metadata": {},
   "outputs": [
    {
     "data": {
      "text/plain": [
       "['yellow open filebeat-6.2.4-2018.05.26',\n",
       " '5CGfwoFNSOK2F4Gs5nteHQ 5 1   190 0 433.6kb 433.6kb\\nyellow open filebeat-6.2.4-2018.05.30',\n",
       " 'cxZu9oDUQSuyKDMf_BjS-g 5 1  3140 0   1.4mb   1.4mb\\nyellow open winlogbeat-6.2.4-2018.05.22         1Q7svXiASpWWIrRDhGuGZw 5 1 15082 0  12.4mb  12.4mb\\nyellow open filebeat-6.2.4-2018.05.15',\n",
       " '1HxFIJXeQ0aEFlFKSfZ3XA 5 1    19 0 148.1kb 148.1kb\\ngreen  open .kibana',\n",
       " '',\n",
       " '       aj9NpweaSvavav326TTsaw 1 0    31 3 101.4kb 101.4kb\\nyellow open liferay',\n",
       " '',\n",
       " '       pN-jUE13Q1Kf1hKaHY5zlw 5 1 15382 0   3.7mb   3.7mb\\nyellow open filebeat-6.2.4-2018.05.27',\n",
       " '3InUcPwCR4GOiSCLkp8QKg 5 1   188 0 290.1kb 290.1kb\\nyellow open filebeat-6.2.2-2018.05.27',\n",
       " 'FZ3kj-x_Toy_oaq9qgCiNQ 5 1  4117 0     1mb     1mb\\nyellow open filebeat-6.2.2-2018.05.23',\n",
       " 'x6KdwacVTjKwP0cqVYMoKw 5 1   472 0 544.5kb 544.5kb\\nyellow open winlogbeat-6.2.4-2018.05.17         fb_19glCR_OMb0be7t22Rg 5 1 12800 0  10.6mb  10.6mb\\nyellow open winlogbeat-6.2.4-2018.05.20         ZWuOkj7ZR0GW6zL8PKCvaw 5 1 10571 0   8.7mb   8.7mb\\nyellow open filebeat-6.2.2-2018.05.26',\n",
       " 'qmaJ5uu8Rv6Qc3DxgSjYzw 5 1   360 0 604.4kb 604.4kb\\nyellow open winlogbeat-6.2.4-2018.05.18         -MlW1UlVTAyujXZD6TbKaA 5 1 12435 0  10.5mb  10.5mb\\nyellow open winlogbeat-6.2.4-2018.05.30         Tbfoy337Rw-82dIlCGK1bw 5 1  8387 0   7.8mb   7.8mb\\nyellow open filebeat-6.2.2-2018.05.19',\n",
       " 'uz7Xe8pTRye_hD3-sM8o8Q 5 1    50 0 120.7kb 120.7kb\\nyellow open %{[@metadata][log_type]}-2018.05.15 btfNlyCjTCeEGYDVuaHUsw 5 1    17 0  88.9kb  88.9kb\\nyellow open winlogbeat-6.2.4-2018.05.19         FgYIfLJ0Q8mOvBIxb_UV0g 5 1 10591 0     9mb     9mb\\nyellow open winlogbeat-6.2.4-2018.05.24         d8OYBkQXSoiMsbPHzKNPWQ 5 1 89034 0  64.8mb  64.8mb\\nyellow open filebeat-6.2.4-2018.05.29',\n",
       " 'GaBZFpSuSSeEQQw0xoCsmQ 5 1  3189 0   1.1mb   1.1mb\\nyellow open filebeat-6.2.2-2018.05.24',\n",
       " 'ZlFmAjqRTJGjyJNKw1huSg 5 1     7 0  70.6kb  70.6kb\\nyellow open winlogbeat-6.2.4-2018.05.25         qEMbvNoKRVW8SFCkmLzqWQ 5 1 12174 0    10mb    10mb\\nyellow open winlogbeat-6.2.4-2018.05.26         PjSLA_xDSkSdYdy11wXYEA 5 1 10660 0   8.7mb   8.7mb\\nyellow open filebeat-6.2.2-2018.05.21',\n",
       " 'T2SeG4wRQv6XmX5MnU2KyA 5 1     1 0  15.1kb  15.1kb\\nyellow open filebeat-6.2.2-2018.05.25',\n",
       " 'MHvrj7hDQw-XUSluOkqasw 5 1   281 0 424.9kb 424.9kb\\nyellow open filebeat-6.2.2-2018.05.22',\n",
       " 'oFapNA9TTpSGL9DTopR-Sw 5 1     1 0  15.1kb  15.1kb\\nyellow open winlogbeat-6.2.4-2018.05.16         TCrqmqFrQRCHc5lqRSRb6g 5 1 18577 0  15.3mb  15.3mb\\nyellow open filebeat-6.2.4-2018.05.25',\n",
       " '20qUB1BRRs2vS_723QXGEw 5 1  1433 0 599.2kb 599.2kb\\nyellow open filebeat-6.2.4-2018.05.16',\n",
       " 'dO5IgdhMQjiyc72veLqrrA 5 1   273 0 721.3kb 721.3kb\\nyellow open filebeat-6.2.2-2018.05.30',\n",
       " '8cEfDHYkQ7yBYa8hzl7l6g 5 1    51 0 331.9kb 331.9kb\\nyellow open filebeat-6.2.2-2018.05.20',\n",
       " 'EW5NQh-NQ0W9xUBp3yaTfg 5 1     1 0  15.1kb  15.1kb\\nyellow open filebeat-6.2.2-2018.05.18',\n",
       " '6Ff6__idT2Syzz9ePr3kRA 5 1   262 0 467.1kb 467.1kb\\nyellow open winlogbeat-6.2.4-2018.05.21         Y1qNS1j3QtSSvzR7c8k6fA 5 1 11106 0   9.2mb   9.2mb\\nyellow open filebeat-6.2.2-2018.05.29',\n",
       " 'XBN9G4N8TyitU9kcz8E-Zw 5 1   182 0 465.5kb 465.5kb\\nyellow open winlogbeat-6.2.4-2018.05.23         26cj2EDzQ_Os6D01Zs7xpQ 5 1 13673 0  11.6mb  11.6mb\\nyellow open winlogbeat-6.2.4-2018.05.27         yYvMYpS9SmWtsnwBeeXvFQ 5 1  9466 0   8.6mb   8.6mb\\nyellow open winlogbeat-6.2.4-2018.05.29         rbM3vb78TROFRBHDWjIZcA 5 1 12951 0  10.7mb  10.7mb\\nyellow open filebeat-6.2.4-2018.05.17',\n",
       " 'KmbkVx4bRH691Ffs79lN5w 5 1    42 0 179.2kb 179.2kb\\nyellow open winlogbeat-6.2.4-2018.05.28         CuFgBUFpSjmbS_QJmUyRWg 5 1 13441 0  11.1mb  11.1mb\\nyellow open winlogbeat-6.2.4-2018.05.15         nWeDUCxUQGiUb9t8yp-bvw 5 1  3822 0     4mb     4mb\\nyellow open filebeat-6.2.2-2018.05.28',\n",
       " 'YXGxj7sZR766Rh3DavfmYg 5 1 12040 0   2.4mb   2.4mb\\nyellow open filebeat-6.2.2-2018.05.17',\n",
       " 'RsE9S8xTS-e2a1pqR5v0pw 5 1  8623 0   1.9mb   1.9mb\\nyellow open filebeat-6.2.2-2018.05.16',\n",
       " 'OIPsJKQIQzKhG-nRww2p8w 5 1     1 0  11.5kb  11.5kb\\nyellow open filebeat-6.2.4-2018.05.28',\n",
       " 't7eXp1N3Tn253cSzkaOnQw 5 1  6272 0   1.8mb   1.8mb\\n']"
      ]
     },
     "execution_count": 21,
     "metadata": {},
     "output_type": "execute_result"
    }
   ],
   "source": [
    "v"
   ]
  },
  {
   "cell_type": "code",
   "execution_count": 28,
   "metadata": {},
   "outputs": [],
   "source": [
    "b = []\n",
    "for i in v: \n",
    "    if re.findall('^filebeat-*.$' , i):\n",
    "        b.append(i)"
   ]
  },
  {
   "cell_type": "code",
   "execution_count": 30,
   "metadata": {
    "collapsed": true
   },
   "outputs": [
    {
     "name": "stdout",
     "output_type": "stream",
     "text": [
      "yellow open filebeat-6.2.4-2018.05.26\n",
      "5CGfwoFNSOK2F4Gs5nteHQ 5 1   190 0 433.6kb 433.6kb\n",
      "yellow open filebeat-6.2.4-2018.05.30\n",
      "cxZu9oDUQSuyKDMf_BjS-g 5 1  3140 0   1.4mb   1.4mb\n",
      "yellow open winlogbeat-6.2.4-2018.05.22         1Q7svXiASpWWIrRDhGuGZw 5 1 15082 0  12.4mb  12.4mb\n",
      "yellow open filebeat-6.2.4-2018.05.15\n",
      "1HxFIJXeQ0aEFlFKSfZ3XA 5 1    19 0 148.1kb 148.1kb\n",
      "green  open .kibana\n",
      "\n",
      "       aj9NpweaSvavav326TTsaw 1 0    31 3 101.4kb 101.4kb\n",
      "yellow open liferay\n",
      "\n",
      "       pN-jUE13Q1Kf1hKaHY5zlw 5 1 15382 0   3.7mb   3.7mb\n",
      "yellow open filebeat-6.2.4-2018.05.27\n",
      "3InUcPwCR4GOiSCLkp8QKg 5 1   188 0 290.1kb 290.1kb\n",
      "yellow open filebeat-6.2.2-2018.05.27\n",
      "FZ3kj-x_Toy_oaq9qgCiNQ 5 1  4117 0     1mb     1mb\n",
      "yellow open filebeat-6.2.2-2018.05.23\n",
      "x6KdwacVTjKwP0cqVYMoKw 5 1   472 0 544.5kb 544.5kb\n",
      "yellow open winlogbeat-6.2.4-2018.05.17         fb_19glCR_OMb0be7t22Rg 5 1 12800 0  10.6mb  10.6mb\n",
      "yellow open winlogbeat-6.2.4-2018.05.20         ZWuOkj7ZR0GW6zL8PKCvaw 5 1 10571 0   8.7mb   8.7mb\n",
      "yellow open filebeat-6.2.2-2018.05.26\n",
      "qmaJ5uu8Rv6Qc3DxgSjYzw 5 1   360 0 604.4kb 604.4kb\n",
      "yellow open winlogbeat-6.2.4-2018.05.18         -MlW1UlVTAyujXZD6TbKaA 5 1 12435 0  10.5mb  10.5mb\n",
      "yellow open winlogbeat-6.2.4-2018.05.30         Tbfoy337Rw-82dIlCGK1bw 5 1  8387 0   7.8mb   7.8mb\n",
      "yellow open filebeat-6.2.2-2018.05.19\n",
      "uz7Xe8pTRye_hD3-sM8o8Q 5 1    50 0 120.7kb 120.7kb\n",
      "yellow open %{[@metadata][log_type]}-2018.05.15 btfNlyCjTCeEGYDVuaHUsw 5 1    17 0  88.9kb  88.9kb\n",
      "yellow open winlogbeat-6.2.4-2018.05.19         FgYIfLJ0Q8mOvBIxb_UV0g 5 1 10591 0     9mb     9mb\n",
      "yellow open winlogbeat-6.2.4-2018.05.24         d8OYBkQXSoiMsbPHzKNPWQ 5 1 89034 0  64.8mb  64.8mb\n",
      "yellow open filebeat-6.2.4-2018.05.29\n",
      "GaBZFpSuSSeEQQw0xoCsmQ 5 1  3189 0   1.1mb   1.1mb\n",
      "yellow open filebeat-6.2.2-2018.05.24\n",
      "ZlFmAjqRTJGjyJNKw1huSg 5 1     7 0  70.6kb  70.6kb\n",
      "yellow open winlogbeat-6.2.4-2018.05.25         qEMbvNoKRVW8SFCkmLzqWQ 5 1 12174 0    10mb    10mb\n",
      "yellow open winlogbeat-6.2.4-2018.05.26         PjSLA_xDSkSdYdy11wXYEA 5 1 10660 0   8.7mb   8.7mb\n",
      "yellow open filebeat-6.2.2-2018.05.21\n",
      "T2SeG4wRQv6XmX5MnU2KyA 5 1     1 0  15.1kb  15.1kb\n",
      "yellow open filebeat-6.2.2-2018.05.25\n",
      "MHvrj7hDQw-XUSluOkqasw 5 1   281 0 424.9kb 424.9kb\n",
      "yellow open filebeat-6.2.2-2018.05.22\n",
      "oFapNA9TTpSGL9DTopR-Sw 5 1     1 0  15.1kb  15.1kb\n",
      "yellow open winlogbeat-6.2.4-2018.05.16         TCrqmqFrQRCHc5lqRSRb6g 5 1 18577 0  15.3mb  15.3mb\n",
      "yellow open filebeat-6.2.4-2018.05.25\n",
      "20qUB1BRRs2vS_723QXGEw 5 1  1433 0 599.2kb 599.2kb\n",
      "yellow open filebeat-6.2.4-2018.05.16\n",
      "dO5IgdhMQjiyc72veLqrrA 5 1   273 0 721.3kb 721.3kb\n",
      "yellow open filebeat-6.2.2-2018.05.30\n",
      "8cEfDHYkQ7yBYa8hzl7l6g 5 1    51 0 331.9kb 331.9kb\n",
      "yellow open filebeat-6.2.2-2018.05.20\n",
      "EW5NQh-NQ0W9xUBp3yaTfg 5 1     1 0  15.1kb  15.1kb\n",
      "yellow open filebeat-6.2.2-2018.05.18\n",
      "6Ff6__idT2Syzz9ePr3kRA 5 1   262 0 467.1kb 467.1kb\n",
      "yellow open winlogbeat-6.2.4-2018.05.21         Y1qNS1j3QtSSvzR7c8k6fA 5 1 11106 0   9.2mb   9.2mb\n",
      "yellow open filebeat-6.2.2-2018.05.29\n",
      "XBN9G4N8TyitU9kcz8E-Zw 5 1   182 0 465.5kb 465.5kb\n",
      "yellow open winlogbeat-6.2.4-2018.05.23         26cj2EDzQ_Os6D01Zs7xpQ 5 1 13673 0  11.6mb  11.6mb\n",
      "yellow open winlogbeat-6.2.4-2018.05.27         yYvMYpS9SmWtsnwBeeXvFQ 5 1  9466 0   8.6mb   8.6mb\n",
      "yellow open winlogbeat-6.2.4-2018.05.29         rbM3vb78TROFRBHDWjIZcA 5 1 12951 0  10.7mb  10.7mb\n",
      "yellow open filebeat-6.2.4-2018.05.17\n",
      "KmbkVx4bRH691Ffs79lN5w 5 1    42 0 179.2kb 179.2kb\n",
      "yellow open winlogbeat-6.2.4-2018.05.28         CuFgBUFpSjmbS_QJmUyRWg 5 1 13441 0  11.1mb  11.1mb\n",
      "yellow open winlogbeat-6.2.4-2018.05.15         nWeDUCxUQGiUb9t8yp-bvw 5 1  3822 0     4mb     4mb\n",
      "yellow open filebeat-6.2.2-2018.05.28\n",
      "YXGxj7sZR766Rh3DavfmYg 5 1 12040 0   2.4mb   2.4mb\n",
      "yellow open filebeat-6.2.2-2018.05.17\n",
      "RsE9S8xTS-e2a1pqR5v0pw 5 1  8623 0   1.9mb   1.9mb\n",
      "yellow open filebeat-6.2.2-2018.05.16\n",
      "OIPsJKQIQzKhG-nRww2p8w 5 1     1 0  11.5kb  11.5kb\n",
      "yellow open filebeat-6.2.4-2018.05.28\n",
      "t7eXp1N3Tn253cSzkaOnQw 5 1  6272 0   1.8mb   1.8mb\n",
      "\n"
     ]
    }
   ],
   "source": [
    "for i in v:\n",
    "    print (i)"
   ]
  },
  {
   "cell_type": "code",
   "execution_count": 25,
   "metadata": {},
   "outputs": [
    {
     "name": "stdout",
     "output_type": "stream",
     "text": [
      "[]\n"
     ]
    }
   ],
   "source": [
    "y = re.findall('^f.+'  , st)\n",
    "print(y)"
   ]
  },
  {
   "cell_type": "code",
   "execution_count": 31,
   "metadata": {},
   "outputs": [
    {
     "data": {
      "text/plain": [
       "'yellow open filebeat-6.2.4-2018.05.26'"
      ]
     },
     "execution_count": 31,
     "metadata": {},
     "output_type": "execute_result"
    }
   ],
   "source": [
    "v[0]"
   ]
  },
  {
   "cell_type": "code",
   "execution_count": 32,
   "metadata": {},
   "outputs": [
    {
     "name": "stdout",
     "output_type": "stream",
     "text": [
      "['-6.2.4-2018.05.26']\n"
     ]
    }
   ],
   "source": [
    "y = re.findall('-6.2.4-2018.05.26$' , v[0])\n",
    "print(y)"
   ]
  },
  {
   "cell_type": "code",
   "execution_count": 38,
   "metadata": {},
   "outputs": [
    {
     "data": {
      "text/plain": [
       "['cxZu9oDUQSuyKDMf_BjS-g',\n",
       " '5',\n",
       " '1',\n",
       " '3140',\n",
       " '0',\n",
       " '1.4mb',\n",
       " '1.4mb',\n",
       " 'yellow',\n",
       " 'open',\n",
       " 'winlogbeat-6.2.4-2018.05.22',\n",
       " '1Q7svXiASpWWIrRDhGuGZw',\n",
       " '5',\n",
       " '1',\n",
       " '15082',\n",
       " '0',\n",
       " '12.4mb',\n",
       " '12.4mb',\n",
       " 'yellow',\n",
       " 'open',\n",
       " 'filebeat-6.2.4-2018.05.15']"
      ]
     },
     "execution_count": 38,
     "metadata": {},
     "output_type": "execute_result"
    }
   ],
   "source": [
    "v[2].split()"
   ]
  },
  {
   "cell_type": "code",
   "execution_count": 39,
   "metadata": {},
   "outputs": [
    {
     "data": {
      "text/plain": [
       "['yellow open filebeat-6.2.4-2018.05.26',\n",
       " '5CGfwoFNSOK2F4Gs5nteHQ 5 1   190 0 433.6kb 433.6kb\\nyellow open filebeat-6.2.4-2018.05.30']"
      ]
     },
     "execution_count": 39,
     "metadata": {},
     "output_type": "execute_result"
    }
   ],
   "source": [
    "v[:2]"
   ]
  },
  {
   "cell_type": "code",
   "execution_count": 44,
   "metadata": {},
   "outputs": [],
   "source": [
    "d = []\n",
    "for i in v:\n",
    "    for j in i.split():\n",
    "        if j.startswith('fi'):\n",
    "            d.append(j)\n",
    "        "
   ]
  },
  {
   "cell_type": "code",
   "execution_count": 45,
   "metadata": {},
   "outputs": [
    {
     "data": {
      "text/plain": [
       "['filebeat-6.2.4-2018.05.26',\n",
       " 'filebeat-6.2.4-2018.05.30',\n",
       " 'filebeat-6.2.4-2018.05.15',\n",
       " 'filebeat-6.2.4-2018.05.27',\n",
       " 'filebeat-6.2.2-2018.05.27',\n",
       " 'filebeat-6.2.2-2018.05.23',\n",
       " 'filebeat-6.2.2-2018.05.26',\n",
       " 'filebeat-6.2.2-2018.05.19',\n",
       " 'filebeat-6.2.4-2018.05.29',\n",
       " 'filebeat-6.2.2-2018.05.24',\n",
       " 'filebeat-6.2.2-2018.05.21',\n",
       " 'filebeat-6.2.2-2018.05.25',\n",
       " 'filebeat-6.2.2-2018.05.22',\n",
       " 'filebeat-6.2.4-2018.05.25',\n",
       " 'filebeat-6.2.4-2018.05.16',\n",
       " 'filebeat-6.2.2-2018.05.30',\n",
       " 'filebeat-6.2.2-2018.05.20',\n",
       " 'filebeat-6.2.2-2018.05.18',\n",
       " 'filebeat-6.2.2-2018.05.29',\n",
       " 'filebeat-6.2.4-2018.05.17',\n",
       " 'filebeat-6.2.2-2018.05.28',\n",
       " 'filebeat-6.2.2-2018.05.17',\n",
       " 'filebeat-6.2.2-2018.05.16',\n",
       " 'filebeat-6.2.4-2018.05.28']"
      ]
     },
     "execution_count": 45,
     "metadata": {},
     "output_type": "execute_result"
    }
   ],
   "source": [
    "d"
   ]
  },
  {
   "cell_type": "code",
   "execution_count": 50,
   "metadata": {},
   "outputs": [],
   "source": [
    "b = []\n",
    "for i in st.split():\n",
    "    for j in i.split():\n",
    "        if j.startswith('fi'):\n",
    "            b.append(j)\n",
    "        "
   ]
  },
  {
   "cell_type": "code",
   "execution_count": 51,
   "metadata": {},
   "outputs": [
    {
     "data": {
      "text/plain": [
       "['filebeat-6.2.4-2018.05.26',\n",
       " 'filebeat-6.2.4-2018.05.30',\n",
       " 'filebeat-6.2.4-2018.05.15',\n",
       " 'filebeat-6.2.4-2018.05.27',\n",
       " 'filebeat-6.2.2-2018.05.27',\n",
       " 'filebeat-6.2.2-2018.05.23',\n",
       " 'filebeat-6.2.2-2018.05.26',\n",
       " 'filebeat-6.2.2-2018.05.19',\n",
       " 'filebeat-6.2.4-2018.05.29',\n",
       " 'filebeat-6.2.2-2018.05.24',\n",
       " 'filebeat-6.2.2-2018.05.21',\n",
       " 'filebeat-6.2.2-2018.05.25',\n",
       " 'filebeat-6.2.2-2018.05.22',\n",
       " 'filebeat-6.2.4-2018.05.25',\n",
       " 'filebeat-6.2.4-2018.05.16',\n",
       " 'filebeat-6.2.2-2018.05.30',\n",
       " 'filebeat-6.2.2-2018.05.20',\n",
       " 'filebeat-6.2.2-2018.05.18',\n",
       " 'filebeat-6.2.2-2018.05.29',\n",
       " 'filebeat-6.2.4-2018.05.17',\n",
       " 'filebeat-6.2.2-2018.05.28',\n",
       " 'filebeat-6.2.2-2018.05.17',\n",
       " 'filebeat-6.2.2-2018.05.16',\n",
       " 'filebeat-6.2.4-2018.05.28']"
      ]
     },
     "execution_count": 51,
     "metadata": {},
     "output_type": "execute_result"
    }
   ],
   "source": [
    "b"
   ]
  },
  {
   "cell_type": "code",
   "execution_count": 105,
   "metadata": {},
   "outputs": [],
   "source": [
    "vv = {'hits': [{'_id': '5WJcrmMB7NsdYXNzxWgI',\n",
    "   '_index': 'winlogbeat-6.2.4-2018.05.30',\n",
    "   '_score': 1.0,\n",
    "   '_source': {'@timestamp': '2018-05-30T00:05:11.205Z',\n",
    "    '@version': '1',\n",
    "    'beat': {'hostname': 'BIABAM', 'name': 'BIABAM', 'version': '6.2.4'},\n",
    "    'computer_name': 'BIABAM.bia.com',\n",
    "    'event_data': {'AuthenticationPackageName': 'Kerberos',\n",
    "     'ImpersonationLevel': '%%1833',\n",
    "     'IpAddress': 'fe80::8525:f3ee:c80e:333a',\n",
    "     'IpPort': '49615',\n",
    "     'KeyLength': '0',\n",
    "     'LmPackageName': '-',\n",
    "     'LogonGuid': '{CB6871D5-A5AB-DF69-33D5-4CAADDE042D8}',\n",
    "     'LogonProcessName': 'Kerberos',\n",
    "     'LogonType': '3',\n",
    "     'ProcessId': '0x0',\n",
    "     'ProcessName': '-',\n",
    "     'SubjectDomainName': '-',\n",
    "     'SubjectLogonId': '0x0',\n",
    "     'SubjectUserName': '-',\n",
    "     'SubjectUserSid': 'S-1-0-0',\n",
    "     'TargetDomainName': 'BIA',\n",
    "     'TargetLogonId': '0x2f345a6',\n",
    "     'TargetUserName': 'BIABAM$',\n",
    "     'TargetUserSid': 'S-1-5-18',\n",
    "     'TransmittedServices': '-',\n",
    "     'WorkstationName': '-'},\n",
    "    'event_id': 4624,\n",
    "    'host': 'BIABAM',\n",
    "    'keywords': ['Audit Success'],\n",
    "    'level': 'Information',\n",
    "    'log_name': 'Security',\n",
    "    'message': 'An account was successfully logged on.\\n\\nSubject:\\n\\tSecurity ID:\\t\\tS-1-0-0\\n\\tAccount Name:\\t\\t-\\n\\tAccount Domain:\\t\\t-\\n\\tLogon ID:\\t\\t0x0\\n\\nLogon Type:\\t\\t\\t3\\n\\nImpersonation Level:\\t\\tImpersonation\\n\\nNew Logon:\\n\\tSecurity ID:\\t\\tS-1-5-18\\n\\tAccount Name:\\t\\tBIABAM$\\n\\tAccount Domain:\\t\\tBIA\\n\\tLogon ID:\\t\\t0x2F345A6\\n\\tLogon GUID:\\t\\t{CB6871D5-A5AB-DF69-33D5-4CAADDE042D8}\\n\\nProcess Information:\\n\\tProcess ID:\\t\\t0x0\\n\\tProcess Name:\\t\\t-\\n\\nNetwork Information:\\n\\tWorkstation Name:\\t-\\n\\tSource Network Address:\\tfe80::8525:f3ee:c80e:333a\\n\\tSource Port:\\t\\t49615\\n\\nDetailed Authentication Information:\\n\\tLogon Process:\\t\\tKerberos\\n\\tAuthentication Package:\\tKerberos\\n\\tTransited Services:\\t-\\n\\tPackage Name (NTLM only):\\t-\\n\\tKey Length:\\t\\t0\\n\\nThis event is generated when a logon session is created. It is generated on the computer that was accessed.\\n\\nThe subject fields indicate the account on the local system which requested the logon. This is most commonly a service such as the Server service, or a local process such as Winlogon.exe or Services.exe.\\n\\nThe logon type field indicates the kind of logon that occurred. The most common types are 2 (interactive) and 3 (network).\\n\\nThe New Logon fields indicate the account for whom the new logon was created, i.e. the account that was logged on.\\n\\nThe network fields indicate where a remote logon request originated. Workstation name is not always available and may be left blank in some cases.\\n\\nThe impersonation level field indicates the extent to which a process in the logon session can impersonate.\\n\\nThe authentication information fields provide detailed information about this specific logon request.\\n\\t- Logon GUID is a unique identifier that can be used to correlate this event with a KDC event.\\n\\t- Transited services indicate which intermediate services have participated in this logon request.\\n\\t- Package name indicates which sub-protocol was used among the NTLM protocols.\\n\\t- Key length indicates the length of the generated session key. This will be 0 if no session key was requested.',\n",
    "    'opcode': 'Info',\n",
    "    'process_id': 604,\n",
    "    'provider_guid': '{54849625-5478-4994-A5BA-3E3B0328C30D}',\n",
    "    'record_number': '3712642',\n",
    "    'source_name': 'Microsoft-Windows-Security-Auditing',\n",
    "    'tags': ['beats_input_codec_plain_applied'],\n",
    "    'task': 'Logon',\n",
    "    'thread_id': 5492,\n",
    "    'type': 'wineventlog',\n",
    "    'version': 1},\n",
    "   '_type': 'doc'},\n",
    "  {'_id': '52JcrmMB7NsdYXNzxWgI',\n",
    "   '_index': 'winlogbeat-6.2.4-2018.05.30',\n",
    "   '_score': 1.0,\n",
    "   '_source': {'@timestamp': '2018-05-30T00:05:11.533Z',\n",
    "    '@version': '1',\n",
    "    'beat': {'hostname': 'BIABAM', 'name': 'BIABAM', 'version': '6.2.4'},\n",
    "    'computer_name': 'BIABAM.bia.com',\n",
    "    'event_data': {'AuthenticationPackageName': 'Kerberos',\n",
    "     'ImpersonationLevel': '%%1840',\n",
    "     'IpAddress': 'fe80::8525:f3ee:c80e:333a',\n",
    "     'IpPort': '49618',\n",
    "     'KeyLength': '0',\n",
    "     'LmPackageName': '-',\n",
    "     'LogonGuid': '{CB6871D5-A5AB-DF69-33D5-4CAADDE042D8}',\n",
    "     'LogonProcessName': 'Kerberos',\n",
    "     'LogonType': '3',\n",
    "     'ProcessId': '0x0',\n",
    "     'ProcessName': '-',\n",
    "     'SubjectDomainName': '-',\n",
    "     'SubjectLogonId': '0x0',\n",
    "     'SubjectUserName': '-',\n",
    "     'SubjectUserSid': 'S-1-0-0',\n",
    "     'TargetDomainName': 'BIA',\n",
    "     'TargetLogonId': '0x2f34761',\n",
    "     'TargetUserName': 'BIABAM$',\n",
    "     'TargetUserSid': 'S-1-5-18',\n",
    "     'TransmittedServices': '-',\n",
    "     'WorkstationName': '-'},\n",
    "    'event_id': 4624,\n",
    "    'host': 'BIABAM',\n",
    "    'keywords': ['Audit Success'],\n",
    "    'level': 'Information',\n",
    "    'log_name': 'Security',\n",
    "    'message': 'An account was successfully logged on.\\n\\nSubject:\\n\\tSecurity ID:\\t\\tS-1-0-0\\n\\tAccount Name:\\t\\t-\\n\\tAccount Domain:\\t\\t-\\n\\tLogon ID:\\t\\t0x0\\n\\nLogon Type:\\t\\t\\t3\\n\\nImpersonation Level:\\t\\tDelegation\\n\\nNew Logon:\\n\\tSecurity ID:\\t\\tS-1-5-18\\n\\tAccount Name:\\t\\tBIABAM$\\n\\tAccount Domain:\\t\\tBIA\\n\\tLogon ID:\\t\\t0x2F34761\\n\\tLogon GUID:\\t\\t{CB6871D5-A5AB-DF69-33D5-4CAADDE042D8}\\n\\nProcess Information:\\n\\tProcess ID:\\t\\t0x0\\n\\tProcess Name:\\t\\t-\\n\\nNetwork Information:\\n\\tWorkstation Name:\\t-\\n\\tSource Network Address:\\tfe80::8525:f3ee:c80e:333a\\n\\tSource Port:\\t\\t49618\\n\\nDetailed Authentication Information:\\n\\tLogon Process:\\t\\tKerberos\\n\\tAuthentication Package:\\tKerberos\\n\\tTransited Services:\\t-\\n\\tPackage Name (NTLM only):\\t-\\n\\tKey Length:\\t\\t0\\n\\nThis event is generated when a logon session is created. It is generated on the computer that was accessed.\\n\\nThe subject fields indicate the account on the local system which requested the logon. This is most commonly a service such as the Server service, or a local process such as Winlogon.exe or Services.exe.\\n\\nThe logon type field indicates the kind of logon that occurred. The most common types are 2 (interactive) and 3 (network).\\n\\nThe New Logon fields indicate the account for whom the new logon was created, i.e. the account that was logged on.\\n\\nThe network fields indicate where a remote logon request originated. Workstation name is not always available and may be left blank in some cases.\\n\\nThe impersonation level field indicates the extent to which a process in the logon session can impersonate.\\n\\nThe authentication information fields provide detailed information about this specific logon request.\\n\\t- Logon GUID is a unique identifier that can be used to correlate this event with a KDC event.\\n\\t- Transited services indicate which intermediate services have participated in this logon request.\\n\\t- Package name indicates which sub-protocol was used among the NTLM protocols.\\n\\t- Key length indicates the length of the generated session key. This will be 0 if no session key was requested.',\n",
    "    'opcode': 'Info',\n",
    "    'process_id': 604,\n",
    "    'provider_guid': '{54849625-5478-4994-A5BA-3E3B0328C30D}',\n",
    "    'record_number': '3712650',\n",
    "    'source_name': 'Microsoft-Windows-Security-Auditing',\n",
    "    'tags': ['beats_input_codec_plain_applied'],\n",
    "    'task': 'Logon',\n",
    "    'thread_id': 5492,\n",
    "    'type': 'wineventlog',\n",
    "    'version': 1},\n",
    "   '_type': 'doc'},\n",
    "  {'_id': '7WJcrmMB7NsdYXNzxWgL',\n",
    "   '_index': 'winlogbeat-6.2.4-2018.05.30',\n",
    "   '_score': 1.0,\n",
    "   '_source': {'@timestamp': '2018-05-30T00:05:11.533Z',\n",
    "    '@version': '1',\n",
    "    'beat': {'hostname': 'BIABAM', 'name': 'BIABAM', 'version': '6.2.4'},\n",
    "    'computer_name': 'BIABAM.bia.com',\n",
    "    'event_data': {'PrivilegeList': 'SeSecurityPrivilege\\n\\t\\t\\tSeBackupPrivilege\\n\\t\\t\\tSeRestorePrivilege\\n\\t\\t\\tSeTakeOwnershipPrivilege\\n\\t\\t\\tSeDebugPrivilege\\n\\t\\t\\tSeSystemEnvironmentPrivilege\\n\\t\\t\\tSeLoadDriverPrivilege\\n\\t\\t\\tSeImpersonatePrivilege\\n\\t\\t\\tSeEnableDelegationPrivilege',\n",
    "     'SubjectDomainName': 'BIA',\n",
    "     'SubjectLogonId': '0x2f34761',\n",
    "     'SubjectUserName': 'BIABAM$',\n",
    "     'SubjectUserSid': 'S-1-5-18'},\n",
    "    'event_id': 4672,\n",
    "    'host': 'BIABAM',\n",
    "    'keywords': ['Audit Success'],\n",
    "    'level': 'Information',\n",
    "    'log_name': 'Security',\n",
    "    'message': 'Special privileges assigned to new logon.\\n\\nSubject:\\n\\tSecurity ID:\\t\\tS-1-5-18\\n\\tAccount Name:\\t\\tBIABAM$\\n\\tAccount Domain:\\t\\tBIA\\n\\tLogon ID:\\t\\t0x2F34761\\n\\nPrivileges:\\t\\tSeSecurityPrivilege\\n\\t\\t\\tSeBackupPrivilege\\n\\t\\t\\tSeRestorePrivilege\\n\\t\\t\\tSeTakeOwnershipPrivilege\\n\\t\\t\\tSeDebugPrivilege\\n\\t\\t\\tSeSystemEnvironmentPrivilege\\n\\t\\t\\tSeLoadDriverPrivilege\\n\\t\\t\\tSeImpersonatePrivilege\\n\\t\\t\\tSeEnableDelegationPrivilege',\n",
    "    'opcode': 'Info',\n",
    "    'process_id': 604,\n",
    "    'provider_guid': '{54849625-5478-4994-A5BA-3E3B0328C30D}',\n",
    "    'record_number': '3712649',\n",
    "    'source_name': 'Microsoft-Windows-Security-Auditing',\n",
    "    'tags': ['beats_input_codec_plain_applied'],\n",
    "    'task': 'Special Logon',\n",
    "    'thread_id': 5492,\n",
    "    'type': 'wineventlog'},\n",
    "   '_type': 'doc'},\n",
    "  {'_id': '7mJcrmMB7NsdYXNzxWgL',\n",
    "   '_index': 'winlogbeat-6.2.4-2018.05.30',\n",
    "   '_score': 1.0,\n",
    "   '_source': {'@timestamp': '2018-05-30T00:05:11.548Z',\n",
    "    '@version': '1',\n",
    "    'beat': {'hostname': 'BIABAM', 'name': 'BIABAM', 'version': '6.2.4'},\n",
    "    'computer_name': 'BIABAM.bia.com',\n",
    "    'event_data': {'LogonType': '3',\n",
    "     'TargetDomainName': 'BIA',\n",
    "     'TargetLogonId': '0x2f345d4',\n",
    "     'TargetUserName': 'BIABAM$',\n",
    "     'TargetUserSid': 'S-1-5-18'},\n",
    "    'event_id': 4634,\n",
    "    'host': 'BIABAM',\n",
    "    'keywords': ['Audit Success'],\n",
    "    'level': 'Information',\n",
    "    'log_name': 'Security',\n",
    "    'message': 'An account was logged off.\\n\\nSubject:\\n\\tSecurity ID:\\t\\tS-1-5-18\\n\\tAccount Name:\\t\\tBIABAM$\\n\\tAccount Domain:\\t\\tBIA\\n\\tLogon ID:\\t\\t0x2F345D4\\n\\nLogon Type:\\t\\t\\t3\\n\\nThis event is generated when a logon session is destroyed. It may be positively correlated with a logon event using the Logon ID value. Logon IDs are only unique between reboots on the same computer.',\n",
    "    'opcode': 'Info',\n",
    "    'process_id': 604,\n",
    "    'provider_guid': '{54849625-5478-4994-A5BA-3E3B0328C30D}',\n",
    "    'record_number': '3712653',\n",
    "    'source_name': 'Microsoft-Windows-Security-Auditing',\n",
    "    'tags': ['beats_input_codec_plain_applied'],\n",
    "    'task': 'Logoff',\n",
    "    'thread_id': 6040,\n",
    "    'type': 'wineventlog'},\n",
    "   '_type': 'doc'},\n",
    "  {'_id': '0GJZrmMB7NsdYXNzg2gY',\n",
    "   '_index': 'winlogbeat-6.2.4-2018.05.30',\n",
    "   '_score': 1.0,\n",
    "   '_source': {'@timestamp': '2018-05-30T00:01:38.348Z',\n",
    "    '@version': '1',\n",
    "    'beat': {'hostname': 'BIABAM', 'name': 'BIABAM', 'version': '6.2.4'},\n",
    "    'computer_name': 'BIABAM.bia.com',\n",
    "    'event_data': {'PrivilegeList': 'SeSecurityPrivilege\\n\\t\\t\\tSeBackupPrivilege\\n\\t\\t\\tSeRestorePrivilege\\n\\t\\t\\tSeTakeOwnershipPrivilege\\n\\t\\t\\tSeDebugPrivilege\\n\\t\\t\\tSeSystemEnvironmentPrivilege\\n\\t\\t\\tSeLoadDriverPrivilege\\n\\t\\t\\tSeImpersonatePrivilege\\n\\t\\t\\tSeEnableDelegationPrivilege',\n",
    "     'SubjectDomainName': 'BIA',\n",
    "     'SubjectLogonId': '0x2f258eb',\n",
    "     'SubjectUserName': 'BIABAM$',\n",
    "     'SubjectUserSid': 'S-1-5-18'},\n",
    "    'event_id': 4672,\n",
    "    'host': 'BIABAM',\n",
    "    'keywords': ['Audit Success'],\n",
    "    'level': 'Information',\n",
    "    'log_name': 'Security',\n",
    "    'message': 'Special privileges assigned to new logon.\\n\\nSubject:\\n\\tSecurity ID:\\t\\tS-1-5-18\\n\\tAccount Name:\\t\\tBIABAM$\\n\\tAccount Domain:\\t\\tBIA\\n\\tLogon ID:\\t\\t0x2F258EB\\n\\nPrivileges:\\t\\tSeSecurityPrivilege\\n\\t\\t\\tSeBackupPrivilege\\n\\t\\t\\tSeRestorePrivilege\\n\\t\\t\\tSeTakeOwnershipPrivilege\\n\\t\\t\\tSeDebugPrivilege\\n\\t\\t\\tSeSystemEnvironmentPrivilege\\n\\t\\t\\tSeLoadDriverPrivilege\\n\\t\\t\\tSeImpersonatePrivilege\\n\\t\\t\\tSeEnableDelegationPrivilege',\n",
    "    'opcode': 'Info',\n",
    "    'process_id': 604,\n",
    "    'provider_guid': '{54849625-5478-4994-A5BA-3E3B0328C30D}',\n",
    "    'record_number': '3712622',\n",
    "    'source_name': 'Microsoft-Windows-Security-Auditing',\n",
    "    'tags': ['beats_input_codec_plain_applied'],\n",
    "    'task': 'Special Logon',\n",
    "    'thread_id': 1956,\n",
    "    'type': 'wineventlog'},\n",
    "   '_type': 'doc'},\n",
    "  {'_id': '0WJZrmMB7NsdYXNzg2gY',\n",
    "   '_index': 'winlogbeat-6.2.4-2018.05.30',\n",
    "   '_score': 1.0,\n",
    "   '_source': {'@timestamp': '2018-05-30T00:01:38.364Z',\n",
    "    '@version': '1',\n",
    "    'beat': {'hostname': 'BIABAM', 'name': 'BIABAM', 'version': '6.2.4'},\n",
    "    'computer_name': 'BIABAM.bia.com',\n",
    "    'event_data': {'AuthenticationPackageName': 'Kerberos',\n",
    "     'ImpersonationLevel': '%%1833',\n",
    "     'IpAddress': 'fe80::8525:f3ee:c80e:333a',\n",
    "     'IpPort': '49579',\n",
    "     'KeyLength': '0',\n",
    "     'LmPackageName': '-',\n",
    "     'LogonGuid': '{0B53E2AB-DAC7-3A25-D206-5ED60772C950}',\n",
    "     'LogonProcessName': 'Kerberos',\n",
    "     'LogonType': '3',\n",
    "     'ProcessId': '0x0',\n",
    "     'ProcessName': '-',\n",
    "     'SubjectDomainName': '-',\n",
    "     'SubjectLogonId': '0x0',\n",
    "     'SubjectUserName': '-',\n",
    "     'SubjectUserSid': 'S-1-0-0',\n",
    "     'TargetDomainName': 'BIA',\n",
    "     'TargetLogonId': '0x2f2594e',\n",
    "     'TargetUserName': 'BIABAM$',\n",
    "     'TargetUserSid': 'S-1-5-18',\n",
    "     'TransmittedServices': '-',\n",
    "     'WorkstationName': '-'},\n",
    "    'event_id': 4624,\n",
    "    'host': 'BIABAM',\n",
    "    'keywords': ['Audit Success'],\n",
    "    'level': 'Information',\n",
    "    'log_name': 'Security',\n",
    "    'message': 'An account was successfully logged on.\\n\\nSubject:\\n\\tSecurity ID:\\t\\tS-1-0-0\\n\\tAccount Name:\\t\\t-\\n\\tAccount Domain:\\t\\t-\\n\\tLogon ID:\\t\\t0x0\\n\\nLogon Type:\\t\\t\\t3\\n\\nImpersonation Level:\\t\\tImpersonation\\n\\nNew Logon:\\n\\tSecurity ID:\\t\\tS-1-5-18\\n\\tAccount Name:\\t\\tBIABAM$\\n\\tAccount Domain:\\t\\tBIA\\n\\tLogon ID:\\t\\t0x2F2594E\\n\\tLogon GUID:\\t\\t{0B53E2AB-DAC7-3A25-D206-5ED60772C950}\\n\\nProcess Information:\\n\\tProcess ID:\\t\\t0x0\\n\\tProcess Name:\\t\\t-\\n\\nNetwork Information:\\n\\tWorkstation Name:\\t-\\n\\tSource Network Address:\\tfe80::8525:f3ee:c80e:333a\\n\\tSource Port:\\t\\t49579\\n\\nDetailed Authentication Information:\\n\\tLogon Process:\\t\\tKerberos\\n\\tAuthentication Package:\\tKerberos\\n\\tTransited Services:\\t-\\n\\tPackage Name (NTLM only):\\t-\\n\\tKey Length:\\t\\t0\\n\\nThis event is generated when a logon session is created. It is generated on the computer that was accessed.\\n\\nThe subject fields indicate the account on the local system which requested the logon. This is most commonly a service such as the Server service, or a local process such as Winlogon.exe or Services.exe.\\n\\nThe logon type field indicates the kind of logon that occurred. The most common types are 2 (interactive) and 3 (network).\\n\\nThe New Logon fields indicate the account for whom the new logon was created, i.e. the account that was logged on.\\n\\nThe network fields indicate where a remote logon request originated. Workstation name is not always available and may be left blank in some cases.\\n\\nThe impersonation level field indicates the extent to which a process in the logon session can impersonate.\\n\\nThe authentication information fields provide detailed information about this specific logon request.\\n\\t- Logon GUID is a unique identifier that can be used to correlate this event with a KDC event.\\n\\t- Transited services indicate which intermediate services have participated in this logon request.\\n\\t- Package name indicates which sub-protocol was used among the NTLM protocols.\\n\\t- Key length indicates the length of the generated session key. This will be 0 if no session key was requested.',\n",
    "    'opcode': 'Info',\n",
    "    'process_id': 604,\n",
    "    'provider_guid': '{54849625-5478-4994-A5BA-3E3B0328C30D}',\n",
    "    'record_number': '3712626',\n",
    "    'source_name': 'Microsoft-Windows-Security-Auditing',\n",
    "    'tags': ['beats_input_codec_plain_applied'],\n",
    "    'task': 'Logon',\n",
    "    'thread_id': 1888,\n",
    "    'type': 'wineventlog',\n",
    "    'version': 1},\n",
    "   '_type': 'doc'},\n",
    "  {'_id': 'xWJYrmMB7NsdYXNzMGgW',\n",
    "   '_index': 'winlogbeat-6.2.4-2018.05.30',\n",
    "   '_score': 1.0,\n",
    "   '_source': {'@timestamp': '2018-05-30T00:00:11.074Z',\n",
    "    '@version': '1',\n",
    "    'beat': {'hostname': 'BIABAM', 'name': 'BIABAM', 'version': '6.2.4'},\n",
    "    'computer_name': 'BIABAM.bia.com',\n",
    "    'event_data': {'AuthenticationPackageName': 'Kerberos',\n",
    "     'ImpersonationLevel': '%%1833',\n",
    "     'IpAddress': '169.254.250.50',\n",
    "     'IpPort': '49561',\n",
    "     'KeyLength': '0',\n",
    "     'LmPackageName': '-',\n",
    "     'LogonGuid': '{CB6871D5-A5AB-DF69-33D5-4CAADDE042D8}',\n",
    "     'LogonProcessName': 'Kerberos',\n",
    "     'LogonType': '3',\n",
    "     'ProcessId': '0x0',\n",
    "     'ProcessName': '-',\n",
    "     'SubjectDomainName': '-',\n",
    "     'SubjectLogonId': '0x0',\n",
    "     'SubjectUserName': '-',\n",
    "     'SubjectUserSid': 'S-1-0-0',\n",
    "     'TargetDomainName': 'BIA',\n",
    "     'TargetLogonId': '0x2f1f718',\n",
    "     'TargetUserName': 'BIABAM$',\n",
    "     'TargetUserSid': 'S-1-5-18',\n",
    "     'TransmittedServices': '-',\n",
    "     'WorkstationName': '-'},\n",
    "    'event_id': 4624,\n",
    "    'host': 'BIABAM',\n",
    "    'keywords': ['Audit Success'],\n",
    "    'level': 'Information',\n",
    "    'log_name': 'Security',\n",
    "    'message': 'An account was successfully logged on.\\n\\nSubject:\\n\\tSecurity ID:\\t\\tS-1-0-0\\n\\tAccount Name:\\t\\t-\\n\\tAccount Domain:\\t\\t-\\n\\tLogon ID:\\t\\t0x0\\n\\nLogon Type:\\t\\t\\t3\\n\\nImpersonation Level:\\t\\tImpersonation\\n\\nNew Logon:\\n\\tSecurity ID:\\t\\tS-1-5-18\\n\\tAccount Name:\\t\\tBIABAM$\\n\\tAccount Domain:\\t\\tBIA\\n\\tLogon ID:\\t\\t0x2F1F718\\n\\tLogon GUID:\\t\\t{CB6871D5-A5AB-DF69-33D5-4CAADDE042D8}\\n\\nProcess Information:\\n\\tProcess ID:\\t\\t0x0\\n\\tProcess Name:\\t\\t-\\n\\nNetwork Information:\\n\\tWorkstation Name:\\t-\\n\\tSource Network Address:\\t169.254.250.50\\n\\tSource Port:\\t\\t49561\\n\\nDetailed Authentication Information:\\n\\tLogon Process:\\t\\tKerberos\\n\\tAuthentication Package:\\tKerberos\\n\\tTransited Services:\\t-\\n\\tPackage Name (NTLM only):\\t-\\n\\tKey Length:\\t\\t0\\n\\nThis event is generated when a logon session is created. It is generated on the computer that was accessed.\\n\\nThe subject fields indicate the account on the local system which requested the logon. This is most commonly a service such as the Server service, or a local process such as Winlogon.exe or Services.exe.\\n\\nThe logon type field indicates the kind of logon that occurred. The most common types are 2 (interactive) and 3 (network).\\n\\nThe New Logon fields indicate the account for whom the new logon was created, i.e. the account that was logged on.\\n\\nThe network fields indicate where a remote logon request originated. Workstation name is not always available and may be left blank in some cases.\\n\\nThe impersonation level field indicates the extent to which a process in the logon session can impersonate.\\n\\nThe authentication information fields provide detailed information about this specific logon request.\\n\\t- Logon GUID is a unique identifier that can be used to correlate this event with a KDC event.\\n\\t- Transited services indicate which intermediate services have participated in this logon request.\\n\\t- Package name indicates which sub-protocol was used among the NTLM protocols.\\n\\t- Key length indicates the length of the generated session key. This will be 0 if no session key was requested.',\n",
    "    'opcode': 'Info',\n",
    "    'process_id': 604,\n",
    "    'provider_guid': '{54849625-5478-4994-A5BA-3E3B0328C30D}',\n",
    "    'record_number': '3712610',\n",
    "    'source_name': 'Microsoft-Windows-Security-Auditing',\n",
    "    'tags': ['beats_input_codec_plain_applied'],\n",
    "    'task': 'Logon',\n",
    "    'thread_id': 1956,\n",
    "    'type': 'wineventlog',\n",
    "    'version': 1},\n",
    "   '_type': 'doc'},\n",
    "  {'_id': '4GJcrmMB7NsdYXNzhmhD',\n",
    "   '_index': 'winlogbeat-6.2.4-2018.05.30',\n",
    "   '_score': 1.0,\n",
    "   '_source': {'@timestamp': '2018-05-30T00:04:55.824Z',\n",
    "    '@version': '1',\n",
    "    'beat': {'hostname': 'BIABAM', 'name': 'BIABAM', 'version': '6.2.4'},\n",
    "    'computer_name': 'BIABAM.bia.com',\n",
    "    'event_data': {'AuthenticationPackageName': 'Kerberos',\n",
    "     'ImpersonationLevel': '%%1833',\n",
    "     'IpAddress': '::1',\n",
    "     'IpPort': '49610',\n",
    "     'KeyLength': '0',\n",
    "     'LmPackageName': '-',\n",
    "     'LogonGuid': '{0B53E2AB-DAC7-3A25-D206-5ED60772C950}',\n",
    "     'LogonProcessName': 'Kerberos',\n",
    "     'LogonType': '3',\n",
    "     'ProcessId': '0x0',\n",
    "     'ProcessName': '-',\n",
    "     'SubjectDomainName': '-',\n",
    "     'SubjectLogonId': '0x0',\n",
    "     'SubjectUserName': '-',\n",
    "     'SubjectUserSid': 'S-1-0-0',\n",
    "     'TargetDomainName': 'BIA',\n",
    "     'TargetLogonId': '0x2f32f0c',\n",
    "     'TargetUserName': 'BIABAM$',\n",
    "     'TargetUserSid': 'S-1-5-18',\n",
    "     'TransmittedServices': '-',\n",
    "     'WorkstationName': '-'},\n",
    "    'event_id': 4624,\n",
    "    'host': 'BIABAM',\n",
    "    'keywords': ['Audit Success'],\n",
    "    'level': 'Information',\n",
    "    'log_name': 'Security',\n",
    "    'message': 'An account was successfully logged on.\\n\\nSubject:\\n\\tSecurity ID:\\t\\tS-1-0-0\\n\\tAccount Name:\\t\\t-\\n\\tAccount Domain:\\t\\t-\\n\\tLogon ID:\\t\\t0x0\\n\\nLogon Type:\\t\\t\\t3\\n\\nImpersonation Level:\\t\\tImpersonation\\n\\nNew Logon:\\n\\tSecurity ID:\\t\\tS-1-5-18\\n\\tAccount Name:\\t\\tBIABAM$\\n\\tAccount Domain:\\t\\tBIA\\n\\tLogon ID:\\t\\t0x2F32F0C\\n\\tLogon GUID:\\t\\t{0B53E2AB-DAC7-3A25-D206-5ED60772C950}\\n\\nProcess Information:\\n\\tProcess ID:\\t\\t0x0\\n\\tProcess Name:\\t\\t-\\n\\nNetwork Information:\\n\\tWorkstation Name:\\t-\\n\\tSource Network Address:\\t::1\\n\\tSource Port:\\t\\t49610\\n\\nDetailed Authentication Information:\\n\\tLogon Process:\\t\\tKerberos\\n\\tAuthentication Package:\\tKerberos\\n\\tTransited Services:\\t-\\n\\tPackage Name (NTLM only):\\t-\\n\\tKey Length:\\t\\t0\\n\\nThis event is generated when a logon session is created. It is generated on the computer that was accessed.\\n\\nThe subject fields indicate the account on the local system which requested the logon. This is most commonly a service such as the Server service, or a local process such as Winlogon.exe or Services.exe.\\n\\nThe logon type field indicates the kind of logon that occurred. The most common types are 2 (interactive) and 3 (network).\\n\\nThe New Logon fields indicate the account for whom the new logon was created, i.e. the account that was logged on.\\n\\nThe network fields indicate where a remote logon request originated. Workstation name is not always available and may be left blank in some cases.\\n\\nThe impersonation level field indicates the extent to which a process in the logon session can impersonate.\\n\\nThe authentication information fields provide detailed information about this specific logon request.\\n\\t- Logon GUID is a unique identifier that can be used to correlate this event with a KDC event.\\n\\t- Transited services indicate which intermediate services have participated in this logon request.\\n\\t- Package name indicates which sub-protocol was used among the NTLM protocols.\\n\\t- Key length indicates the length of the generated session key. This will be 0 if no session key was requested.',\n",
    "    'opcode': 'Info',\n",
    "    'process_id': 604,\n",
    "    'provider_guid': '{54849625-5478-4994-A5BA-3E3B0328C30D}',\n",
    "    'record_number': '3712639',\n",
    "    'source_name': 'Microsoft-Windows-Security-Auditing',\n",
    "    'tags': ['beats_input_codec_plain_applied'],\n",
    "    'task': 'Logon',\n",
    "    'thread_id': 1888,\n",
    "    'type': 'wineventlog',\n",
    "    'version': 1},\n",
    "   '_type': 'doc'},\n",
    "  {'_id': 'vmJYrmMB7NsdYXNzMGgW',\n",
    "   '_index': 'winlogbeat-6.2.4-2018.05.30',\n",
    "   '_score': 1.0,\n",
    "   '_source': {'@timestamp': '2018-05-30T00:00:11.074Z',\n",
    "    '@version': '1',\n",
    "    'beat': {'hostname': 'BIABAM', 'name': 'BIABAM', 'version': '6.2.4'},\n",
    "    'computer_name': 'BIABAM.bia.com',\n",
    "    'event_data': {'PrivilegeList': 'SeSecurityPrivilege\\n\\t\\t\\tSeBackupPrivilege\\n\\t\\t\\tSeRestorePrivilege\\n\\t\\t\\tSeTakeOwnershipPrivilege\\n\\t\\t\\tSeDebugPrivilege\\n\\t\\t\\tSeSystemEnvironmentPrivilege\\n\\t\\t\\tSeLoadDriverPrivilege\\n\\t\\t\\tSeImpersonatePrivilege\\n\\t\\t\\tSeEnableDelegationPrivilege',\n",
    "     'SubjectDomainName': 'BIA',\n",
    "     'SubjectLogonId': '0x2f1f5fe',\n",
    "     'SubjectUserName': 'BIABAM$',\n",
    "     'SubjectUserSid': 'S-1-5-18'},\n",
    "    'event_id': 4672,\n",
    "    'host': 'BIABAM',\n",
    "    'keywords': ['Audit Success'],\n",
    "    'level': 'Information',\n",
    "    'log_name': 'Security',\n",
    "    'message': 'Special privileges assigned to new logon.\\n\\nSubject:\\n\\tSecurity ID:\\t\\tS-1-5-18\\n\\tAccount Name:\\t\\tBIABAM$\\n\\tAccount Domain:\\t\\tBIA\\n\\tLogon ID:\\t\\t0x2F1F5FE\\n\\nPrivileges:\\t\\tSeSecurityPrivilege\\n\\t\\t\\tSeBackupPrivilege\\n\\t\\t\\tSeRestorePrivilege\\n\\t\\t\\tSeTakeOwnershipPrivilege\\n\\t\\t\\tSeDebugPrivilege\\n\\t\\t\\tSeSystemEnvironmentPrivilege\\n\\t\\t\\tSeLoadDriverPrivilege\\n\\t\\t\\tSeImpersonatePrivilege\\n\\t\\t\\tSeEnableDelegationPrivilege',\n",
    "    'opcode': 'Info',\n",
    "    'process_id': 604,\n",
    "    'provider_guid': '{54849625-5478-4994-A5BA-3E3B0328C30D}',\n",
    "    'record_number': '3712605',\n",
    "    'source_name': 'Microsoft-Windows-Security-Auditing',\n",
    "    'tags': ['beats_input_codec_plain_applied'],\n",
    "    'task': 'Special Logon',\n",
    "    'thread_id': 1888,\n",
    "    'type': 'wineventlog'},\n",
    "   '_type': 'doc'},\n",
    "  {'_id': 'wGJYrmMB7NsdYXNzMGgW',\n",
    "   '_index': 'winlogbeat-6.2.4-2018.05.30',\n",
    "   '_score': 1.0,\n",
    "   '_source': {'@timestamp': '2018-05-30T00:00:11.199Z',\n",
    "    '@version': '1',\n",
    "    'beat': {'hostname': 'BIABAM', 'name': 'BIABAM', 'version': '6.2.4'},\n",
    "    'computer_name': 'BIABAM.bia.com',\n",
    "    'event_data': {'LogonType': '3',\n",
    "     'TargetDomainName': 'BIA',\n",
    "     'TargetLogonId': '0x2f1f718',\n",
    "     'TargetUserName': 'BIABAM$',\n",
    "     'TargetUserSid': 'S-1-5-18'},\n",
    "    'event_id': 4634,\n",
    "    'host': 'BIABAM',\n",
    "    'keywords': ['Audit Success'],\n",
    "    'level': 'Information',\n",
    "    'log_name': 'Security',\n",
    "    'message': 'An account was logged off.\\n\\nSubject:\\n\\tSecurity ID:\\t\\tS-1-5-18\\n\\tAccount Name:\\t\\tBIABAM$\\n\\tAccount Domain:\\t\\tBIA\\n\\tLogon ID:\\t\\t0x2F1F718\\n\\nLogon Type:\\t\\t\\t3\\n\\nThis event is generated when a logon session is destroyed. It may be positively correlated with a logon event using the Logon ID value. Logon IDs are only unique between reboots on the same computer.',\n",
    "    'opcode': 'Info',\n",
    "    'process_id': 604,\n",
    "    'provider_guid': '{54849625-5478-4994-A5BA-3E3B0328C30D}',\n",
    "    'record_number': '3712613',\n",
    "    'source_name': 'Microsoft-Windows-Security-Auditing',\n",
    "    'tags': ['beats_input_codec_plain_applied'],\n",
    "    'task': 'Logoff',\n",
    "    'thread_id': 6040,\n",
    "    'type': 'wineventlog'},\n",
    "   '_type': 'doc'}],\n",
    " 'max_score': 1.0,\n",
    " 'total': 8481}"
   ]
  },
  {
   "cell_type": "code",
   "execution_count": 107,
   "metadata": {},
   "outputs": [
    {
     "data": {
      "text/plain": [
       "dict"
      ]
     },
     "execution_count": 107,
     "metadata": {},
     "output_type": "execute_result"
    }
   ],
   "source": [
    "type(vv)"
   ]
  },
  {
   "cell_type": "code",
   "execution_count": 108,
   "metadata": {},
   "outputs": [
    {
     "data": {
      "text/plain": [
       "dict_keys(['hits', 'max_score', 'total'])"
      ]
     },
     "execution_count": 108,
     "metadata": {},
     "output_type": "execute_result"
    }
   ],
   "source": [
    "vv.keys()"
   ]
  },
  {
   "cell_type": "code",
   "execution_count": 113,
   "metadata": {
    "collapsed": true
   },
   "outputs": [
    {
     "data": {
      "text/plain": [
       "{'_id': '52JcrmMB7NsdYXNzxWgI',\n",
       " '_index': 'winlogbeat-6.2.4-2018.05.30',\n",
       " '_score': 1.0,\n",
       " '_source': {'@timestamp': '2018-05-30T00:05:11.533Z',\n",
       "  '@version': '1',\n",
       "  'beat': {'hostname': 'BIABAM', 'name': 'BIABAM', 'version': '6.2.4'},\n",
       "  'computer_name': 'BIABAM.bia.com',\n",
       "  'event_data': {'AuthenticationPackageName': 'Kerberos',\n",
       "   'ImpersonationLevel': '%%1840',\n",
       "   'IpAddress': 'fe80::8525:f3ee:c80e:333a',\n",
       "   'IpPort': '49618',\n",
       "   'KeyLength': '0',\n",
       "   'LmPackageName': '-',\n",
       "   'LogonGuid': '{CB6871D5-A5AB-DF69-33D5-4CAADDE042D8}',\n",
       "   'LogonProcessName': 'Kerberos',\n",
       "   'LogonType': '3',\n",
       "   'ProcessId': '0x0',\n",
       "   'ProcessName': '-',\n",
       "   'SubjectDomainName': '-',\n",
       "   'SubjectLogonId': '0x0',\n",
       "   'SubjectUserName': '-',\n",
       "   'SubjectUserSid': 'S-1-0-0',\n",
       "   'TargetDomainName': 'BIA',\n",
       "   'TargetLogonId': '0x2f34761',\n",
       "   'TargetUserName': 'BIABAM$',\n",
       "   'TargetUserSid': 'S-1-5-18',\n",
       "   'TransmittedServices': '-',\n",
       "   'WorkstationName': '-'},\n",
       "  'event_id': 4624,\n",
       "  'host': 'BIABAM',\n",
       "  'keywords': ['Audit Success'],\n",
       "  'level': 'Information',\n",
       "  'log_name': 'Security',\n",
       "  'message': 'An account was successfully logged on.\\n\\nSubject:\\n\\tSecurity ID:\\t\\tS-1-0-0\\n\\tAccount Name:\\t\\t-\\n\\tAccount Domain:\\t\\t-\\n\\tLogon ID:\\t\\t0x0\\n\\nLogon Type:\\t\\t\\t3\\n\\nImpersonation Level:\\t\\tDelegation\\n\\nNew Logon:\\n\\tSecurity ID:\\t\\tS-1-5-18\\n\\tAccount Name:\\t\\tBIABAM$\\n\\tAccount Domain:\\t\\tBIA\\n\\tLogon ID:\\t\\t0x2F34761\\n\\tLogon GUID:\\t\\t{CB6871D5-A5AB-DF69-33D5-4CAADDE042D8}\\n\\nProcess Information:\\n\\tProcess ID:\\t\\t0x0\\n\\tProcess Name:\\t\\t-\\n\\nNetwork Information:\\n\\tWorkstation Name:\\t-\\n\\tSource Network Address:\\tfe80::8525:f3ee:c80e:333a\\n\\tSource Port:\\t\\t49618\\n\\nDetailed Authentication Information:\\n\\tLogon Process:\\t\\tKerberos\\n\\tAuthentication Package:\\tKerberos\\n\\tTransited Services:\\t-\\n\\tPackage Name (NTLM only):\\t-\\n\\tKey Length:\\t\\t0\\n\\nThis event is generated when a logon session is created. It is generated on the computer that was accessed.\\n\\nThe subject fields indicate the account on the local system which requested the logon. This is most commonly a service such as the Server service, or a local process such as Winlogon.exe or Services.exe.\\n\\nThe logon type field indicates the kind of logon that occurred. The most common types are 2 (interactive) and 3 (network).\\n\\nThe New Logon fields indicate the account for whom the new logon was created, i.e. the account that was logged on.\\n\\nThe network fields indicate where a remote logon request originated. Workstation name is not always available and may be left blank in some cases.\\n\\nThe impersonation level field indicates the extent to which a process in the logon session can impersonate.\\n\\nThe authentication information fields provide detailed information about this specific logon request.\\n\\t- Logon GUID is a unique identifier that can be used to correlate this event with a KDC event.\\n\\t- Transited services indicate which intermediate services have participated in this logon request.\\n\\t- Package name indicates which sub-protocol was used among the NTLM protocols.\\n\\t- Key length indicates the length of the generated session key. This will be 0 if no session key was requested.',\n",
       "  'opcode': 'Info',\n",
       "  'process_id': 604,\n",
       "  'provider_guid': '{54849625-5478-4994-A5BA-3E3B0328C30D}',\n",
       "  'record_number': '3712650',\n",
       "  'source_name': 'Microsoft-Windows-Security-Auditing',\n",
       "  'tags': ['beats_input_codec_plain_applied'],\n",
       "  'task': 'Logon',\n",
       "  'thread_id': 5492,\n",
       "  'type': 'wineventlog',\n",
       "  'version': 1},\n",
       " '_type': 'doc'}"
      ]
     },
     "execution_count": 113,
     "metadata": {},
     "output_type": "execute_result"
    }
   ],
   "source": [
    "vv[\"hits\"][1]"
   ]
  },
  {
   "cell_type": "code",
   "execution_count": 118,
   "metadata": {
    "collapsed": true
   },
   "outputs": [
    {
     "ename": "TypeError",
     "evalue": "unhashable type: 'dict'",
     "output_type": "error",
     "traceback": [
      "\u001b[0;31m---------------------------------------------------------------------------\u001b[0m",
      "\u001b[0;31mTypeError\u001b[0m                                 Traceback (most recent call last)",
      "\u001b[0;32m<ipython-input-118-75dedd3e5da0>\u001b[0m in \u001b[0;36m<module>\u001b[0;34m()\u001b[0m\n\u001b[1;32m      1\u001b[0m \u001b[0mbb\u001b[0m \u001b[0;34m=\u001b[0m \u001b[0mpd\u001b[0m\u001b[0;34m.\u001b[0m\u001b[0mDataFrame\u001b[0m\u001b[0;34m(\u001b[0m\u001b[0;34m)\u001b[0m\u001b[0;34m\u001b[0m\u001b[0m\n\u001b[1;32m      2\u001b[0m \u001b[0;32mfor\u001b[0m \u001b[0mi\u001b[0m \u001b[0;32min\u001b[0m \u001b[0mvv\u001b[0m\u001b[0;34m[\u001b[0m\u001b[0;34m\"hits\"\u001b[0m\u001b[0;34m]\u001b[0m\u001b[0;34m:\u001b[0m\u001b[0;34m\u001b[0m\u001b[0m\n\u001b[0;32m----> 3\u001b[0;31m     \u001b[0mbb\u001b[0m\u001b[0;34m[\u001b[0m\u001b[0mi\u001b[0m\u001b[0;34m]\u001b[0m\u001b[0;34m=\u001b[0m\u001b[0mpd\u001b[0m\u001b[0;34m.\u001b[0m\u001b[0mSeries\u001b[0m\u001b[0;34m(\u001b[0m\u001b[0mi\u001b[0m\u001b[0;34m)\u001b[0m\u001b[0;34m\u001b[0m\u001b[0m\n\u001b[0m\u001b[1;32m      4\u001b[0m \u001b[0;34m\u001b[0m\u001b[0m\n\u001b[1;32m      5\u001b[0m \u001b[0;34m\u001b[0m\u001b[0m\n",
      "\u001b[0;32m~/.local/lib/python3.6/site-packages/pandas/core/frame.py\u001b[0m in \u001b[0;36m__setitem__\u001b[0;34m(self, key, value)\u001b[0m\n\u001b[1;32m   3114\u001b[0m         \u001b[0;32melse\u001b[0m\u001b[0;34m:\u001b[0m\u001b[0;34m\u001b[0m\u001b[0m\n\u001b[1;32m   3115\u001b[0m             \u001b[0;31m# set column\u001b[0m\u001b[0;34m\u001b[0m\u001b[0;34m\u001b[0m\u001b[0m\n\u001b[0;32m-> 3116\u001b[0;31m             \u001b[0mself\u001b[0m\u001b[0;34m.\u001b[0m\u001b[0m_set_item\u001b[0m\u001b[0;34m(\u001b[0m\u001b[0mkey\u001b[0m\u001b[0;34m,\u001b[0m \u001b[0mvalue\u001b[0m\u001b[0;34m)\u001b[0m\u001b[0;34m\u001b[0m\u001b[0m\n\u001b[0m\u001b[1;32m   3117\u001b[0m \u001b[0;34m\u001b[0m\u001b[0m\n\u001b[1;32m   3118\u001b[0m     \u001b[0;32mdef\u001b[0m \u001b[0m_setitem_slice\u001b[0m\u001b[0;34m(\u001b[0m\u001b[0mself\u001b[0m\u001b[0;34m,\u001b[0m \u001b[0mkey\u001b[0m\u001b[0;34m,\u001b[0m \u001b[0mvalue\u001b[0m\u001b[0;34m)\u001b[0m\u001b[0;34m:\u001b[0m\u001b[0;34m\u001b[0m\u001b[0m\n",
      "\u001b[0;32m~/.local/lib/python3.6/site-packages/pandas/core/frame.py\u001b[0m in \u001b[0;36m_set_item\u001b[0;34m(self, key, value)\u001b[0m\n\u001b[1;32m   3189\u001b[0m \u001b[0;34m\u001b[0m\u001b[0m\n\u001b[1;32m   3190\u001b[0m         \u001b[0mself\u001b[0m\u001b[0;34m.\u001b[0m\u001b[0m_ensure_valid_index\u001b[0m\u001b[0;34m(\u001b[0m\u001b[0mvalue\u001b[0m\u001b[0;34m)\u001b[0m\u001b[0;34m\u001b[0m\u001b[0m\n\u001b[0;32m-> 3191\u001b[0;31m         \u001b[0mvalue\u001b[0m \u001b[0;34m=\u001b[0m \u001b[0mself\u001b[0m\u001b[0;34m.\u001b[0m\u001b[0m_sanitize_column\u001b[0m\u001b[0;34m(\u001b[0m\u001b[0mkey\u001b[0m\u001b[0;34m,\u001b[0m \u001b[0mvalue\u001b[0m\u001b[0;34m)\u001b[0m\u001b[0;34m\u001b[0m\u001b[0m\n\u001b[0m\u001b[1;32m   3192\u001b[0m         \u001b[0mNDFrame\u001b[0m\u001b[0;34m.\u001b[0m\u001b[0m_set_item\u001b[0m\u001b[0;34m(\u001b[0m\u001b[0mself\u001b[0m\u001b[0;34m,\u001b[0m \u001b[0mkey\u001b[0m\u001b[0;34m,\u001b[0m \u001b[0mvalue\u001b[0m\u001b[0;34m)\u001b[0m\u001b[0;34m\u001b[0m\u001b[0m\n\u001b[1;32m   3193\u001b[0m \u001b[0;34m\u001b[0m\u001b[0m\n",
      "\u001b[0;32m~/.local/lib/python3.6/site-packages/pandas/core/frame.py\u001b[0m in \u001b[0;36m_sanitize_column\u001b[0;34m(self, key, value, broadcast)\u001b[0m\n\u001b[1;32m   3413\u001b[0m \u001b[0;34m\u001b[0m\u001b[0m\n\u001b[1;32m   3414\u001b[0m         \u001b[0;31m# broadcast across multiple columns if necessary\u001b[0m\u001b[0;34m\u001b[0m\u001b[0;34m\u001b[0m\u001b[0m\n\u001b[0;32m-> 3415\u001b[0;31m         \u001b[0;32mif\u001b[0m \u001b[0mbroadcast\u001b[0m \u001b[0;32mand\u001b[0m \u001b[0mkey\u001b[0m \u001b[0;32min\u001b[0m \u001b[0mself\u001b[0m\u001b[0;34m.\u001b[0m\u001b[0mcolumns\u001b[0m \u001b[0;32mand\u001b[0m \u001b[0mvalue\u001b[0m\u001b[0;34m.\u001b[0m\u001b[0mndim\u001b[0m \u001b[0;34m==\u001b[0m \u001b[0;36m1\u001b[0m\u001b[0;34m:\u001b[0m\u001b[0;34m\u001b[0m\u001b[0m\n\u001b[0m\u001b[1;32m   3416\u001b[0m             if (not self.columns.is_unique or\n\u001b[1;32m   3417\u001b[0m                     isinstance(self.columns, MultiIndex)):\n",
      "\u001b[0;32m~/.local/lib/python3.6/site-packages/pandas/core/indexes/base.py\u001b[0m in \u001b[0;36m__contains__\u001b[0;34m(self, key)\u001b[0m\n\u001b[1;32m   2018\u001b[0m     \u001b[0;34m@\u001b[0m\u001b[0mAppender\u001b[0m\u001b[0;34m(\u001b[0m\u001b[0m_index_shared_docs\u001b[0m\u001b[0;34m[\u001b[0m\u001b[0;34m'__contains__'\u001b[0m\u001b[0;34m]\u001b[0m \u001b[0;34m%\u001b[0m \u001b[0m_index_doc_kwargs\u001b[0m\u001b[0;34m)\u001b[0m\u001b[0;34m\u001b[0m\u001b[0m\n\u001b[1;32m   2019\u001b[0m     \u001b[0;32mdef\u001b[0m \u001b[0m__contains__\u001b[0m\u001b[0;34m(\u001b[0m\u001b[0mself\u001b[0m\u001b[0;34m,\u001b[0m \u001b[0mkey\u001b[0m\u001b[0;34m)\u001b[0m\u001b[0;34m:\u001b[0m\u001b[0;34m\u001b[0m\u001b[0m\n\u001b[0;32m-> 2020\u001b[0;31m         \u001b[0mhash\u001b[0m\u001b[0;34m(\u001b[0m\u001b[0mkey\u001b[0m\u001b[0;34m)\u001b[0m\u001b[0;34m\u001b[0m\u001b[0m\n\u001b[0m\u001b[1;32m   2021\u001b[0m         \u001b[0;32mtry\u001b[0m\u001b[0;34m:\u001b[0m\u001b[0;34m\u001b[0m\u001b[0m\n\u001b[1;32m   2022\u001b[0m             \u001b[0;32mreturn\u001b[0m \u001b[0mkey\u001b[0m \u001b[0;32min\u001b[0m \u001b[0mself\u001b[0m\u001b[0;34m.\u001b[0m\u001b[0m_engine\u001b[0m\u001b[0;34m\u001b[0m\u001b[0m\n",
      "\u001b[0;31mTypeError\u001b[0m: unhashable type: 'dict'"
     ]
    }
   ],
   "source": [
    "bb = pd.DataFrame()\n",
    "for i in vv[\"hits\"]:\n",
    "    bb[i]=pd.Series(i)\n",
    "    \n",
    "    \n",
    "    "
   ]
  },
  {
   "cell_type": "code",
   "execution_count": 133,
   "metadata": {},
   "outputs": [],
   "source": [
    "cc = pd.DataFrame()\n",
    "for i in range(len(vv[\"hits\"])):\n",
    "    cc[str(i)] = pd.Series(vv['hits'][i]['_source'])"
   ]
  },
  {
   "cell_type": "code",
   "execution_count": 134,
   "metadata": {},
   "outputs": [],
   "source": [
    "df = cc.T"
   ]
  },
  {
   "cell_type": "code",
   "execution_count": 135,
   "metadata": {},
   "outputs": [
    {
     "data": {
      "text/plain": [
       "Index(['@timestamp', '@version', 'beat', 'computer_name', 'event_data',\n",
       "       'event_id', 'host', 'keywords', 'level', 'log_name', 'message',\n",
       "       'opcode', 'process_id', 'provider_guid', 'record_number', 'source_name',\n",
       "       'tags', 'task', 'thread_id', 'type', 'version'],\n",
       "      dtype='object')"
      ]
     },
     "execution_count": 135,
     "metadata": {},
     "output_type": "execute_result"
    }
   ],
   "source": [
    "df.columns"
   ]
  },
  {
   "cell_type": "code",
   "execution_count": 136,
   "metadata": {
    "collapsed": true
   },
   "outputs": [
    {
     "data": {
      "text/html": [
       "<div>\n",
       "<style scoped>\n",
       "    .dataframe tbody tr th:only-of-type {\n",
       "        vertical-align: middle;\n",
       "    }\n",
       "\n",
       "    .dataframe tbody tr th {\n",
       "        vertical-align: top;\n",
       "    }\n",
       "\n",
       "    .dataframe thead th {\n",
       "        text-align: right;\n",
       "    }\n",
       "</style>\n",
       "<table border=\"1\" class=\"dataframe\">\n",
       "  <thead>\n",
       "    <tr style=\"text-align: right;\">\n",
       "      <th></th>\n",
       "      <th>@timestamp</th>\n",
       "      <th>@version</th>\n",
       "      <th>beat</th>\n",
       "      <th>computer_name</th>\n",
       "      <th>event_data</th>\n",
       "      <th>event_id</th>\n",
       "      <th>host</th>\n",
       "      <th>keywords</th>\n",
       "      <th>level</th>\n",
       "      <th>log_name</th>\n",
       "      <th>...</th>\n",
       "      <th>opcode</th>\n",
       "      <th>process_id</th>\n",
       "      <th>provider_guid</th>\n",
       "      <th>record_number</th>\n",
       "      <th>source_name</th>\n",
       "      <th>tags</th>\n",
       "      <th>task</th>\n",
       "      <th>thread_id</th>\n",
       "      <th>type</th>\n",
       "      <th>version</th>\n",
       "    </tr>\n",
       "  </thead>\n",
       "  <tbody>\n",
       "    <tr>\n",
       "      <th>0</th>\n",
       "      <td>2018-05-30T00:05:11.205Z</td>\n",
       "      <td>1</td>\n",
       "      <td>{'hostname': 'BIABAM', 'name': 'BIABAM', 'vers...</td>\n",
       "      <td>BIABAM.bia.com</td>\n",
       "      <td>{'AuthenticationPackageName': 'Kerberos', 'Imp...</td>\n",
       "      <td>4624</td>\n",
       "      <td>BIABAM</td>\n",
       "      <td>[Audit Success]</td>\n",
       "      <td>Information</td>\n",
       "      <td>Security</td>\n",
       "      <td>...</td>\n",
       "      <td>Info</td>\n",
       "      <td>604</td>\n",
       "      <td>{54849625-5478-4994-A5BA-3E3B0328C30D}</td>\n",
       "      <td>3712642</td>\n",
       "      <td>Microsoft-Windows-Security-Auditing</td>\n",
       "      <td>[beats_input_codec_plain_applied]</td>\n",
       "      <td>Logon</td>\n",
       "      <td>5492</td>\n",
       "      <td>wineventlog</td>\n",
       "      <td>1</td>\n",
       "    </tr>\n",
       "    <tr>\n",
       "      <th>1</th>\n",
       "      <td>2018-05-30T00:05:11.533Z</td>\n",
       "      <td>1</td>\n",
       "      <td>{'hostname': 'BIABAM', 'name': 'BIABAM', 'vers...</td>\n",
       "      <td>BIABAM.bia.com</td>\n",
       "      <td>{'AuthenticationPackageName': 'Kerberos', 'Imp...</td>\n",
       "      <td>4624</td>\n",
       "      <td>BIABAM</td>\n",
       "      <td>[Audit Success]</td>\n",
       "      <td>Information</td>\n",
       "      <td>Security</td>\n",
       "      <td>...</td>\n",
       "      <td>Info</td>\n",
       "      <td>604</td>\n",
       "      <td>{54849625-5478-4994-A5BA-3E3B0328C30D}</td>\n",
       "      <td>3712650</td>\n",
       "      <td>Microsoft-Windows-Security-Auditing</td>\n",
       "      <td>[beats_input_codec_plain_applied]</td>\n",
       "      <td>Logon</td>\n",
       "      <td>5492</td>\n",
       "      <td>wineventlog</td>\n",
       "      <td>1</td>\n",
       "    </tr>\n",
       "    <tr>\n",
       "      <th>2</th>\n",
       "      <td>2018-05-30T00:05:11.533Z</td>\n",
       "      <td>1</td>\n",
       "      <td>{'hostname': 'BIABAM', 'name': 'BIABAM', 'vers...</td>\n",
       "      <td>BIABAM.bia.com</td>\n",
       "      <td>{'PrivilegeList': 'SeSecurityPrivilege\n",
       "\t\t\tSeBa...</td>\n",
       "      <td>4672</td>\n",
       "      <td>BIABAM</td>\n",
       "      <td>[Audit Success]</td>\n",
       "      <td>Information</td>\n",
       "      <td>Security</td>\n",
       "      <td>...</td>\n",
       "      <td>Info</td>\n",
       "      <td>604</td>\n",
       "      <td>{54849625-5478-4994-A5BA-3E3B0328C30D}</td>\n",
       "      <td>3712649</td>\n",
       "      <td>Microsoft-Windows-Security-Auditing</td>\n",
       "      <td>[beats_input_codec_plain_applied]</td>\n",
       "      <td>Special Logon</td>\n",
       "      <td>5492</td>\n",
       "      <td>wineventlog</td>\n",
       "      <td>NaN</td>\n",
       "    </tr>\n",
       "    <tr>\n",
       "      <th>3</th>\n",
       "      <td>2018-05-30T00:05:11.548Z</td>\n",
       "      <td>1</td>\n",
       "      <td>{'hostname': 'BIABAM', 'name': 'BIABAM', 'vers...</td>\n",
       "      <td>BIABAM.bia.com</td>\n",
       "      <td>{'LogonType': '3', 'TargetDomainName': 'BIA', ...</td>\n",
       "      <td>4634</td>\n",
       "      <td>BIABAM</td>\n",
       "      <td>[Audit Success]</td>\n",
       "      <td>Information</td>\n",
       "      <td>Security</td>\n",
       "      <td>...</td>\n",
       "      <td>Info</td>\n",
       "      <td>604</td>\n",
       "      <td>{54849625-5478-4994-A5BA-3E3B0328C30D}</td>\n",
       "      <td>3712653</td>\n",
       "      <td>Microsoft-Windows-Security-Auditing</td>\n",
       "      <td>[beats_input_codec_plain_applied]</td>\n",
       "      <td>Logoff</td>\n",
       "      <td>6040</td>\n",
       "      <td>wineventlog</td>\n",
       "      <td>NaN</td>\n",
       "    </tr>\n",
       "    <tr>\n",
       "      <th>4</th>\n",
       "      <td>2018-05-30T00:01:38.348Z</td>\n",
       "      <td>1</td>\n",
       "      <td>{'hostname': 'BIABAM', 'name': 'BIABAM', 'vers...</td>\n",
       "      <td>BIABAM.bia.com</td>\n",
       "      <td>{'PrivilegeList': 'SeSecurityPrivilege\n",
       "\t\t\tSeBa...</td>\n",
       "      <td>4672</td>\n",
       "      <td>BIABAM</td>\n",
       "      <td>[Audit Success]</td>\n",
       "      <td>Information</td>\n",
       "      <td>Security</td>\n",
       "      <td>...</td>\n",
       "      <td>Info</td>\n",
       "      <td>604</td>\n",
       "      <td>{54849625-5478-4994-A5BA-3E3B0328C30D}</td>\n",
       "      <td>3712622</td>\n",
       "      <td>Microsoft-Windows-Security-Auditing</td>\n",
       "      <td>[beats_input_codec_plain_applied]</td>\n",
       "      <td>Special Logon</td>\n",
       "      <td>1956</td>\n",
       "      <td>wineventlog</td>\n",
       "      <td>NaN</td>\n",
       "    </tr>\n",
       "    <tr>\n",
       "      <th>5</th>\n",
       "      <td>2018-05-30T00:01:38.364Z</td>\n",
       "      <td>1</td>\n",
       "      <td>{'hostname': 'BIABAM', 'name': 'BIABAM', 'vers...</td>\n",
       "      <td>BIABAM.bia.com</td>\n",
       "      <td>{'AuthenticationPackageName': 'Kerberos', 'Imp...</td>\n",
       "      <td>4624</td>\n",
       "      <td>BIABAM</td>\n",
       "      <td>[Audit Success]</td>\n",
       "      <td>Information</td>\n",
       "      <td>Security</td>\n",
       "      <td>...</td>\n",
       "      <td>Info</td>\n",
       "      <td>604</td>\n",
       "      <td>{54849625-5478-4994-A5BA-3E3B0328C30D}</td>\n",
       "      <td>3712626</td>\n",
       "      <td>Microsoft-Windows-Security-Auditing</td>\n",
       "      <td>[beats_input_codec_plain_applied]</td>\n",
       "      <td>Logon</td>\n",
       "      <td>1888</td>\n",
       "      <td>wineventlog</td>\n",
       "      <td>1</td>\n",
       "    </tr>\n",
       "    <tr>\n",
       "      <th>6</th>\n",
       "      <td>2018-05-30T00:00:11.074Z</td>\n",
       "      <td>1</td>\n",
       "      <td>{'hostname': 'BIABAM', 'name': 'BIABAM', 'vers...</td>\n",
       "      <td>BIABAM.bia.com</td>\n",
       "      <td>{'AuthenticationPackageName': 'Kerberos', 'Imp...</td>\n",
       "      <td>4624</td>\n",
       "      <td>BIABAM</td>\n",
       "      <td>[Audit Success]</td>\n",
       "      <td>Information</td>\n",
       "      <td>Security</td>\n",
       "      <td>...</td>\n",
       "      <td>Info</td>\n",
       "      <td>604</td>\n",
       "      <td>{54849625-5478-4994-A5BA-3E3B0328C30D}</td>\n",
       "      <td>3712610</td>\n",
       "      <td>Microsoft-Windows-Security-Auditing</td>\n",
       "      <td>[beats_input_codec_plain_applied]</td>\n",
       "      <td>Logon</td>\n",
       "      <td>1956</td>\n",
       "      <td>wineventlog</td>\n",
       "      <td>1</td>\n",
       "    </tr>\n",
       "    <tr>\n",
       "      <th>7</th>\n",
       "      <td>2018-05-30T00:04:55.824Z</td>\n",
       "      <td>1</td>\n",
       "      <td>{'hostname': 'BIABAM', 'name': 'BIABAM', 'vers...</td>\n",
       "      <td>BIABAM.bia.com</td>\n",
       "      <td>{'AuthenticationPackageName': 'Kerberos', 'Imp...</td>\n",
       "      <td>4624</td>\n",
       "      <td>BIABAM</td>\n",
       "      <td>[Audit Success]</td>\n",
       "      <td>Information</td>\n",
       "      <td>Security</td>\n",
       "      <td>...</td>\n",
       "      <td>Info</td>\n",
       "      <td>604</td>\n",
       "      <td>{54849625-5478-4994-A5BA-3E3B0328C30D}</td>\n",
       "      <td>3712639</td>\n",
       "      <td>Microsoft-Windows-Security-Auditing</td>\n",
       "      <td>[beats_input_codec_plain_applied]</td>\n",
       "      <td>Logon</td>\n",
       "      <td>1888</td>\n",
       "      <td>wineventlog</td>\n",
       "      <td>1</td>\n",
       "    </tr>\n",
       "    <tr>\n",
       "      <th>8</th>\n",
       "      <td>2018-05-30T00:00:11.074Z</td>\n",
       "      <td>1</td>\n",
       "      <td>{'hostname': 'BIABAM', 'name': 'BIABAM', 'vers...</td>\n",
       "      <td>BIABAM.bia.com</td>\n",
       "      <td>{'PrivilegeList': 'SeSecurityPrivilege\n",
       "\t\t\tSeBa...</td>\n",
       "      <td>4672</td>\n",
       "      <td>BIABAM</td>\n",
       "      <td>[Audit Success]</td>\n",
       "      <td>Information</td>\n",
       "      <td>Security</td>\n",
       "      <td>...</td>\n",
       "      <td>Info</td>\n",
       "      <td>604</td>\n",
       "      <td>{54849625-5478-4994-A5BA-3E3B0328C30D}</td>\n",
       "      <td>3712605</td>\n",
       "      <td>Microsoft-Windows-Security-Auditing</td>\n",
       "      <td>[beats_input_codec_plain_applied]</td>\n",
       "      <td>Special Logon</td>\n",
       "      <td>1888</td>\n",
       "      <td>wineventlog</td>\n",
       "      <td>NaN</td>\n",
       "    </tr>\n",
       "    <tr>\n",
       "      <th>9</th>\n",
       "      <td>2018-05-30T00:00:11.199Z</td>\n",
       "      <td>1</td>\n",
       "      <td>{'hostname': 'BIABAM', 'name': 'BIABAM', 'vers...</td>\n",
       "      <td>BIABAM.bia.com</td>\n",
       "      <td>{'LogonType': '3', 'TargetDomainName': 'BIA', ...</td>\n",
       "      <td>4634</td>\n",
       "      <td>BIABAM</td>\n",
       "      <td>[Audit Success]</td>\n",
       "      <td>Information</td>\n",
       "      <td>Security</td>\n",
       "      <td>...</td>\n",
       "      <td>Info</td>\n",
       "      <td>604</td>\n",
       "      <td>{54849625-5478-4994-A5BA-3E3B0328C30D}</td>\n",
       "      <td>3712613</td>\n",
       "      <td>Microsoft-Windows-Security-Auditing</td>\n",
       "      <td>[beats_input_codec_plain_applied]</td>\n",
       "      <td>Logoff</td>\n",
       "      <td>6040</td>\n",
       "      <td>wineventlog</td>\n",
       "      <td>NaN</td>\n",
       "    </tr>\n",
       "  </tbody>\n",
       "</table>\n",
       "<p>10 rows × 21 columns</p>\n",
       "</div>"
      ],
      "text/plain": [
       "                 @timestamp @version  \\\n",
       "0  2018-05-30T00:05:11.205Z        1   \n",
       "1  2018-05-30T00:05:11.533Z        1   \n",
       "2  2018-05-30T00:05:11.533Z        1   \n",
       "3  2018-05-30T00:05:11.548Z        1   \n",
       "4  2018-05-30T00:01:38.348Z        1   \n",
       "5  2018-05-30T00:01:38.364Z        1   \n",
       "6  2018-05-30T00:00:11.074Z        1   \n",
       "7  2018-05-30T00:04:55.824Z        1   \n",
       "8  2018-05-30T00:00:11.074Z        1   \n",
       "9  2018-05-30T00:00:11.199Z        1   \n",
       "\n",
       "                                                beat   computer_name  \\\n",
       "0  {'hostname': 'BIABAM', 'name': 'BIABAM', 'vers...  BIABAM.bia.com   \n",
       "1  {'hostname': 'BIABAM', 'name': 'BIABAM', 'vers...  BIABAM.bia.com   \n",
       "2  {'hostname': 'BIABAM', 'name': 'BIABAM', 'vers...  BIABAM.bia.com   \n",
       "3  {'hostname': 'BIABAM', 'name': 'BIABAM', 'vers...  BIABAM.bia.com   \n",
       "4  {'hostname': 'BIABAM', 'name': 'BIABAM', 'vers...  BIABAM.bia.com   \n",
       "5  {'hostname': 'BIABAM', 'name': 'BIABAM', 'vers...  BIABAM.bia.com   \n",
       "6  {'hostname': 'BIABAM', 'name': 'BIABAM', 'vers...  BIABAM.bia.com   \n",
       "7  {'hostname': 'BIABAM', 'name': 'BIABAM', 'vers...  BIABAM.bia.com   \n",
       "8  {'hostname': 'BIABAM', 'name': 'BIABAM', 'vers...  BIABAM.bia.com   \n",
       "9  {'hostname': 'BIABAM', 'name': 'BIABAM', 'vers...  BIABAM.bia.com   \n",
       "\n",
       "                                          event_data event_id    host  \\\n",
       "0  {'AuthenticationPackageName': 'Kerberos', 'Imp...     4624  BIABAM   \n",
       "1  {'AuthenticationPackageName': 'Kerberos', 'Imp...     4624  BIABAM   \n",
       "2  {'PrivilegeList': 'SeSecurityPrivilege\n",
       "\t\t\tSeBa...     4672  BIABAM   \n",
       "3  {'LogonType': '3', 'TargetDomainName': 'BIA', ...     4634  BIABAM   \n",
       "4  {'PrivilegeList': 'SeSecurityPrivilege\n",
       "\t\t\tSeBa...     4672  BIABAM   \n",
       "5  {'AuthenticationPackageName': 'Kerberos', 'Imp...     4624  BIABAM   \n",
       "6  {'AuthenticationPackageName': 'Kerberos', 'Imp...     4624  BIABAM   \n",
       "7  {'AuthenticationPackageName': 'Kerberos', 'Imp...     4624  BIABAM   \n",
       "8  {'PrivilegeList': 'SeSecurityPrivilege\n",
       "\t\t\tSeBa...     4672  BIABAM   \n",
       "9  {'LogonType': '3', 'TargetDomainName': 'BIA', ...     4634  BIABAM   \n",
       "\n",
       "          keywords        level  log_name   ...   opcode process_id  \\\n",
       "0  [Audit Success]  Information  Security   ...     Info        604   \n",
       "1  [Audit Success]  Information  Security   ...     Info        604   \n",
       "2  [Audit Success]  Information  Security   ...     Info        604   \n",
       "3  [Audit Success]  Information  Security   ...     Info        604   \n",
       "4  [Audit Success]  Information  Security   ...     Info        604   \n",
       "5  [Audit Success]  Information  Security   ...     Info        604   \n",
       "6  [Audit Success]  Information  Security   ...     Info        604   \n",
       "7  [Audit Success]  Information  Security   ...     Info        604   \n",
       "8  [Audit Success]  Information  Security   ...     Info        604   \n",
       "9  [Audit Success]  Information  Security   ...     Info        604   \n",
       "\n",
       "                            provider_guid record_number  \\\n",
       "0  {54849625-5478-4994-A5BA-3E3B0328C30D}       3712642   \n",
       "1  {54849625-5478-4994-A5BA-3E3B0328C30D}       3712650   \n",
       "2  {54849625-5478-4994-A5BA-3E3B0328C30D}       3712649   \n",
       "3  {54849625-5478-4994-A5BA-3E3B0328C30D}       3712653   \n",
       "4  {54849625-5478-4994-A5BA-3E3B0328C30D}       3712622   \n",
       "5  {54849625-5478-4994-A5BA-3E3B0328C30D}       3712626   \n",
       "6  {54849625-5478-4994-A5BA-3E3B0328C30D}       3712610   \n",
       "7  {54849625-5478-4994-A5BA-3E3B0328C30D}       3712639   \n",
       "8  {54849625-5478-4994-A5BA-3E3B0328C30D}       3712605   \n",
       "9  {54849625-5478-4994-A5BA-3E3B0328C30D}       3712613   \n",
       "\n",
       "                           source_name                               tags  \\\n",
       "0  Microsoft-Windows-Security-Auditing  [beats_input_codec_plain_applied]   \n",
       "1  Microsoft-Windows-Security-Auditing  [beats_input_codec_plain_applied]   \n",
       "2  Microsoft-Windows-Security-Auditing  [beats_input_codec_plain_applied]   \n",
       "3  Microsoft-Windows-Security-Auditing  [beats_input_codec_plain_applied]   \n",
       "4  Microsoft-Windows-Security-Auditing  [beats_input_codec_plain_applied]   \n",
       "5  Microsoft-Windows-Security-Auditing  [beats_input_codec_plain_applied]   \n",
       "6  Microsoft-Windows-Security-Auditing  [beats_input_codec_plain_applied]   \n",
       "7  Microsoft-Windows-Security-Auditing  [beats_input_codec_plain_applied]   \n",
       "8  Microsoft-Windows-Security-Auditing  [beats_input_codec_plain_applied]   \n",
       "9  Microsoft-Windows-Security-Auditing  [beats_input_codec_plain_applied]   \n",
       "\n",
       "            task thread_id         type version  \n",
       "0          Logon      5492  wineventlog       1  \n",
       "1          Logon      5492  wineventlog       1  \n",
       "2  Special Logon      5492  wineventlog     NaN  \n",
       "3         Logoff      6040  wineventlog     NaN  \n",
       "4  Special Logon      1956  wineventlog     NaN  \n",
       "5          Logon      1888  wineventlog       1  \n",
       "6          Logon      1956  wineventlog       1  \n",
       "7          Logon      1888  wineventlog       1  \n",
       "8  Special Logon      1888  wineventlog     NaN  \n",
       "9         Logoff      6040  wineventlog     NaN  \n",
       "\n",
       "[10 rows x 21 columns]"
      ]
     },
     "execution_count": 136,
     "metadata": {},
     "output_type": "execute_result"
    }
   ],
   "source": [
    "df"
   ]
  },
  {
   "cell_type": "code",
   "execution_count": 116,
   "metadata": {
    "collapsed": true
   },
   "outputs": [
    {
     "data": {
      "text/html": [
       "<div>\n",
       "<style scoped>\n",
       "    .dataframe tbody tr th:only-of-type {\n",
       "        vertical-align: middle;\n",
       "    }\n",
       "\n",
       "    .dataframe tbody tr th {\n",
       "        vertical-align: top;\n",
       "    }\n",
       "\n",
       "    .dataframe thead th {\n",
       "        text-align: right;\n",
       "    }\n",
       "</style>\n",
       "<table border=\"1\" class=\"dataframe\">\n",
       "  <thead>\n",
       "    <tr style=\"text-align: right;\">\n",
       "      <th></th>\n",
       "      <th>0</th>\n",
       "    </tr>\n",
       "  </thead>\n",
       "  <tbody>\n",
       "    <tr>\n",
       "      <th>@timestamp</th>\n",
       "      <td>2018-05-30T00:01:38.364Z</td>\n",
       "    </tr>\n",
       "    <tr>\n",
       "      <th>@version</th>\n",
       "      <td>1</td>\n",
       "    </tr>\n",
       "    <tr>\n",
       "      <th>beat</th>\n",
       "      <td>{'hostname': 'BIABAM', 'name': 'BIABAM', 'vers...</td>\n",
       "    </tr>\n",
       "    <tr>\n",
       "      <th>computer_name</th>\n",
       "      <td>BIABAM.bia.com</td>\n",
       "    </tr>\n",
       "    <tr>\n",
       "      <th>event_data</th>\n",
       "      <td>{'AuthenticationPackageName': 'Kerberos', 'Imp...</td>\n",
       "    </tr>\n",
       "    <tr>\n",
       "      <th>event_id</th>\n",
       "      <td>4624</td>\n",
       "    </tr>\n",
       "    <tr>\n",
       "      <th>host</th>\n",
       "      <td>BIABAM</td>\n",
       "    </tr>\n",
       "    <tr>\n",
       "      <th>keywords</th>\n",
       "      <td>[Audit Success]</td>\n",
       "    </tr>\n",
       "    <tr>\n",
       "      <th>level</th>\n",
       "      <td>Information</td>\n",
       "    </tr>\n",
       "    <tr>\n",
       "      <th>log_name</th>\n",
       "      <td>Security</td>\n",
       "    </tr>\n",
       "    <tr>\n",
       "      <th>message</th>\n",
       "      <td>An account was successfully logged on.\\n\\nSubj...</td>\n",
       "    </tr>\n",
       "    <tr>\n",
       "      <th>opcode</th>\n",
       "      <td>Info</td>\n",
       "    </tr>\n",
       "    <tr>\n",
       "      <th>process_id</th>\n",
       "      <td>604</td>\n",
       "    </tr>\n",
       "    <tr>\n",
       "      <th>provider_guid</th>\n",
       "      <td>{54849625-5478-4994-A5BA-3E3B0328C30D}</td>\n",
       "    </tr>\n",
       "    <tr>\n",
       "      <th>record_number</th>\n",
       "      <td>3712626</td>\n",
       "    </tr>\n",
       "    <tr>\n",
       "      <th>source_name</th>\n",
       "      <td>Microsoft-Windows-Security-Auditing</td>\n",
       "    </tr>\n",
       "    <tr>\n",
       "      <th>tags</th>\n",
       "      <td>[beats_input_codec_plain_applied]</td>\n",
       "    </tr>\n",
       "    <tr>\n",
       "      <th>task</th>\n",
       "      <td>Logon</td>\n",
       "    </tr>\n",
       "    <tr>\n",
       "      <th>thread_id</th>\n",
       "      <td>1888</td>\n",
       "    </tr>\n",
       "    <tr>\n",
       "      <th>type</th>\n",
       "      <td>wineventlog</td>\n",
       "    </tr>\n",
       "    <tr>\n",
       "      <th>version</th>\n",
       "      <td>1</td>\n",
       "    </tr>\n",
       "  </tbody>\n",
       "</table>\n",
       "</div>"
      ],
      "text/plain": [
       "                                                               0\n",
       "@timestamp                              2018-05-30T00:01:38.364Z\n",
       "@version                                                       1\n",
       "beat           {'hostname': 'BIABAM', 'name': 'BIABAM', 'vers...\n",
       "computer_name                                     BIABAM.bia.com\n",
       "event_data     {'AuthenticationPackageName': 'Kerberos', 'Imp...\n",
       "event_id                                                    4624\n",
       "host                                                      BIABAM\n",
       "keywords                                         [Audit Success]\n",
       "level                                                Information\n",
       "log_name                                                Security\n",
       "message        An account was successfully logged on.\\n\\nSubj...\n",
       "opcode                                                      Info\n",
       "process_id                                                   604\n",
       "provider_guid             {54849625-5478-4994-A5BA-3E3B0328C30D}\n",
       "record_number                                            3712626\n",
       "source_name                  Microsoft-Windows-Security-Auditing\n",
       "tags                           [beats_input_codec_plain_applied]\n",
       "task                                                       Logon\n",
       "thread_id                                                   1888\n",
       "type                                                 wineventlog\n",
       "version                                                        1"
      ]
     },
     "execution_count": 116,
     "metadata": {},
     "output_type": "execute_result"
    }
   ],
   "source": [
    "pd.DataFrame(pd.Series(a))"
   ]
  },
  {
   "cell_type": "code",
   "execution_count": 125,
   "metadata": {
    "collapsed": true
   },
   "outputs": [
    {
     "data": {
      "text/plain": [
       "@timestamp                                2018-05-30T00:05:11.205Z\n",
       "@version                                                         1\n",
       "beat             {'hostname': 'BIABAM', 'name': 'BIABAM', 'vers...\n",
       "computer_name                                       BIABAM.bia.com\n",
       "event_data       {'AuthenticationPackageName': 'Kerberos', 'Imp...\n",
       "event_id                                                      4624\n",
       "host                                                        BIABAM\n",
       "keywords                                           [Audit Success]\n",
       "level                                                  Information\n",
       "log_name                                                  Security\n",
       "message          An account was successfully logged on.\\n\\nSubj...\n",
       "opcode                                                        Info\n",
       "process_id                                                     604\n",
       "provider_guid               {54849625-5478-4994-A5BA-3E3B0328C30D}\n",
       "record_number                                              3712642\n",
       "source_name                    Microsoft-Windows-Security-Auditing\n",
       "tags                             [beats_input_codec_plain_applied]\n",
       "task                                                         Logon\n",
       "thread_id                                                     5492\n",
       "type                                                   wineventlog\n",
       "version                                                          1\n",
       "dtype: object"
      ]
     },
     "execution_count": 125,
     "metadata": {},
     "output_type": "execute_result"
    }
   ],
   "source": [
    "pd.Series((vv['hits'][0]['_source']))"
   ]
  },
  {
   "cell_type": "code",
   "execution_count": null,
   "metadata": {},
   "outputs": [],
   "source": [
    "import requests\n",
    "import pandas as pd"
   ]
  },
  {
   "cell_type": "code",
   "execution_count": null,
   "metadata": {},
   "outputs": [],
   "source": [
    "#url = 'http://192.168.1.27:9200/_cat/indices'\n",
    "\n",
    "def filebeat(url):\n",
    "    \"\"\"\n",
    "    This function takes an input the url adress and gives back a list of filebeat 6.2.2 indices\n",
    "    \"\"\"\n",
    "    res = requests.get(url)\n",
    "    \n",
    "    st = res.content.decode('utf8')\n",
    "    \n",
    "    indices = []\n",
    "    \n",
    "    for piece in st.split():\n",
    "        \n",
    "        for chunk in pieces.split():\n",
    "            \n",
    "            if chunk.startswith('fi'):\n",
    "                \n",
    "                indices.append(chunk)\n",
    "                \n",
    "    return indices"
   ]
  },
  {
   "cell_type": "code",
   "execution_count": null,
   "metadata": {},
   "outputs": [],
   "source": [
    "from elasticsearch import Elasticsearch\n",
    "es = Elasticsearch([{'host': 'localhost', 'port': 9200}])\n",
    "es2 = Elasticsearch([{'host': 'http://192.168.1.27', 'port': 9200}])\n",
    "\n"
   ]
  },
  {
   "cell_type": "code",
   "execution_count": null,
   "metadata": {},
   "outputs": [],
   "source": [
    "#vv =es2[\"hits\"]\n",
    "\n",
    "def Elastik(indices)\n",
    "\n",
    "    \"\"\"This function takes as input the list of indices and return a dataframe with all the events accordingly\"\"\"\n",
    "\n",
    "    tab = pd.DataFrame()\n",
    "    \n",
    "    for index in indices:\n",
    "        \n",
    "        es2 = es.search(index = index  , body = {\"query\" : {\"match_all\": {}}})\n",
    "        \n",
    "        for i in range(len(es2[\"hits\"][\"hits\"])):\n",
    "            \n",
    "            tab[str(i)] = pd.Series(es2[\"hits\"]['hits'][i]['_source'])\n",
    "        \n",
    "    return tab.T"
   ]
  },
  {
   "cell_type": "code",
   "execution_count": null,
   "metadata": {},
   "outputs": [],
   "source": []
  },
  {
   "cell_type": "code",
   "execution_count": null,
   "metadata": {},
   "outputs": [],
   "source": []
  }
 ],
 "metadata": {
  "kernelspec": {
   "display_name": "Python 3",
   "language": "python",
   "name": "python3"
  },
  "language_info": {
   "codemirror_mode": {
    "name": "ipython",
    "version": 3
   },
   "file_extension": ".py",
   "mimetype": "text/x-python",
   "name": "python",
   "nbconvert_exporter": "python",
   "pygments_lexer": "ipython3",
   "version": "3.6.4"
  }
 },
 "nbformat": 4,
 "nbformat_minor": 2
}
