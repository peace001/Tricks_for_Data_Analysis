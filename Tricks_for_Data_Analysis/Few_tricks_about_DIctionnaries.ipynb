{
 "cells": [
  {
   "cell_type": "code",
   "execution_count": 1,
   "metadata": {},
   "outputs": [],
   "source": [
    "mymap = {'dla':{'paul': 10 , 'john': 15} , 'yde': {'paul': 1 , 'john': 12} , 'baf': {'paul': 5, 'john':2}}"
   ]
  },
  {
   "cell_type": "code",
   "execution_count": 2,
   "metadata": {},
   "outputs": [
    {
     "data": {
      "text/plain": [
       "{'dla': {'paul': 10, 'john': 15},\n",
       " 'yde': {'paul': 1, 'john': 12},\n",
       " 'baf': {'paul': 5, 'john': 2}}"
      ]
     },
     "execution_count": 2,
     "metadata": {},
     "output_type": "execute_result"
    }
   ],
   "source": [
    "mymap"
   ]
  },
  {
   "cell_type": "code",
   "execution_count": 3,
   "metadata": {},
   "outputs": [],
   "source": [
    "import json"
   ]
  },
  {
   "cell_type": "code",
   "execution_count": 4,
   "metadata": {},
   "outputs": [
    {
     "name": "stdout",
     "output_type": "stream",
     "text": [
      "{\n",
      "      \"baf\": {\n",
      "            \"john\": 2,\n",
      "            \"paul\": 5\n",
      "      },\n",
      "      \"dla\": {\n",
      "            \"john\": 15,\n",
      "            \"paul\": 10\n",
      "      },\n",
      "      \"yde\": {\n",
      "            \"john\": 12,\n",
      "            \"paul\": 1\n",
      "      }\n",
      "}\n"
     ]
    }
   ],
   "source": [
    "print (json.dumps(mymap , indent=6, sort_keys=True))"
   ]
  },
  {
   "cell_type": "code",
   "execution_count": null,
   "metadata": {},
   "outputs": [],
   "source": []
  },
  {
   "cell_type": "code",
   "execution_count": null,
   "metadata": {},
   "outputs": [],
   "source": []
  },
  {
   "cell_type": "code",
   "execution_count": null,
   "metadata": {},
   "outputs": [],
   "source": []
  }
 ],
 "metadata": {
  "kernelspec": {
   "display_name": "Python 3",
   "language": "python",
   "name": "python3"
  },
  "language_info": {
   "codemirror_mode": {
    "name": "ipython",
    "version": 3
   },
   "file_extension": ".py",
   "mimetype": "text/x-python",
   "name": "python",
   "nbconvert_exporter": "python",
   "pygments_lexer": "ipython3",
   "version": "3.6.4"
  }
 },
 "nbformat": 4,
 "nbformat_minor": 2
}
